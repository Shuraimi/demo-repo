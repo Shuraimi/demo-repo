{
  "nbformat": 4,
  "nbformat_minor": 0,
  "metadata": {
    "colab": {
      "provenance": [],
      "authorship_tag": "ABX9TyNAev/zxO6aODJgCQ53F2+E",
      "include_colab_link": true
    },
    "kernelspec": {
      "name": "python3",
      "display_name": "Python 3"
    },
    "language_info": {
      "name": "python"
    }
  },
  "cells": [
    {
      "cell_type": "markdown",
      "metadata": {
        "id": "view-in-github",
        "colab_type": "text"
      },
      "source": [
        "<a href=\"https://colab.research.google.com/github/Shuraimi/demo-repo/blob/main/Hyperparameter_tuning_using_optuna.ipynb\" target=\"_parent\"><img src=\"https://colab.research.google.com/assets/colab-badge.svg\" alt=\"Open In Colab\"/></a>"
      ]
    },
    {
      "cell_type": "markdown",
      "source": [
        "# Hyperparameter tuning using Optuna"
      ],
      "metadata": {
        "id": "l9-YQ8Ykh1Db"
      }
    },
    {
      "cell_type": "code",
      "execution_count": 1,
      "metadata": {
        "id": "pynuTF1-hreH"
      },
      "outputs": [],
      "source": [
        "import seaborn as sns"
      ]
    },
    {
      "cell_type": "code",
      "source": [
        "import pandas as pd"
      ],
      "metadata": {
        "id": "GfQB6zbjh_qQ"
      },
      "execution_count": 2,
      "outputs": []
    },
    {
      "cell_type": "code",
      "source": [
        "healthexp=sns.load_dataset('healthexp')\n",
        "healthexp.head()"
      ],
      "metadata": {
        "colab": {
          "base_uri": "https://localhost:8080/",
          "height": 206
        },
        "id": "RWVvmmwUiBKf",
        "outputId": "95c269c1-40a6-4c42-d2c5-1d255d9ca8e4"
      },
      "execution_count": 3,
      "outputs": [
        {
          "output_type": "execute_result",
          "data": {
            "text/plain": [
              "   Year        Country  Spending_USD  Life_Expectancy\n",
              "0  1970        Germany       252.311             70.6\n",
              "1  1970         France       192.143             72.2\n",
              "2  1970  Great Britain       123.993             71.9\n",
              "3  1970          Japan       150.437             72.0\n",
              "4  1970            USA       326.961             70.9"
            ],
            "text/html": [
              "\n",
              "  <div id=\"df-4da56545-2071-46ca-9026-ee06890ebba9\" class=\"colab-df-container\">\n",
              "    <div>\n",
              "<style scoped>\n",
              "    .dataframe tbody tr th:only-of-type {\n",
              "        vertical-align: middle;\n",
              "    }\n",
              "\n",
              "    .dataframe tbody tr th {\n",
              "        vertical-align: top;\n",
              "    }\n",
              "\n",
              "    .dataframe thead th {\n",
              "        text-align: right;\n",
              "    }\n",
              "</style>\n",
              "<table border=\"1\" class=\"dataframe\">\n",
              "  <thead>\n",
              "    <tr style=\"text-align: right;\">\n",
              "      <th></th>\n",
              "      <th>Year</th>\n",
              "      <th>Country</th>\n",
              "      <th>Spending_USD</th>\n",
              "      <th>Life_Expectancy</th>\n",
              "    </tr>\n",
              "  </thead>\n",
              "  <tbody>\n",
              "    <tr>\n",
              "      <th>0</th>\n",
              "      <td>1970</td>\n",
              "      <td>Germany</td>\n",
              "      <td>252.311</td>\n",
              "      <td>70.6</td>\n",
              "    </tr>\n",
              "    <tr>\n",
              "      <th>1</th>\n",
              "      <td>1970</td>\n",
              "      <td>France</td>\n",
              "      <td>192.143</td>\n",
              "      <td>72.2</td>\n",
              "    </tr>\n",
              "    <tr>\n",
              "      <th>2</th>\n",
              "      <td>1970</td>\n",
              "      <td>Great Britain</td>\n",
              "      <td>123.993</td>\n",
              "      <td>71.9</td>\n",
              "    </tr>\n",
              "    <tr>\n",
              "      <th>3</th>\n",
              "      <td>1970</td>\n",
              "      <td>Japan</td>\n",
              "      <td>150.437</td>\n",
              "      <td>72.0</td>\n",
              "    </tr>\n",
              "    <tr>\n",
              "      <th>4</th>\n",
              "      <td>1970</td>\n",
              "      <td>USA</td>\n",
              "      <td>326.961</td>\n",
              "      <td>70.9</td>\n",
              "    </tr>\n",
              "  </tbody>\n",
              "</table>\n",
              "</div>\n",
              "    <div class=\"colab-df-buttons\">\n",
              "\n",
              "  <div class=\"colab-df-container\">\n",
              "    <button class=\"colab-df-convert\" onclick=\"convertToInteractive('df-4da56545-2071-46ca-9026-ee06890ebba9')\"\n",
              "            title=\"Convert this dataframe to an interactive table.\"\n",
              "            style=\"display:none;\">\n",
              "\n",
              "  <svg xmlns=\"http://www.w3.org/2000/svg\" height=\"24px\" viewBox=\"0 -960 960 960\">\n",
              "    <path d=\"M120-120v-720h720v720H120Zm60-500h600v-160H180v160Zm220 220h160v-160H400v160Zm0 220h160v-160H400v160ZM180-400h160v-160H180v160Zm440 0h160v-160H620v160ZM180-180h160v-160H180v160Zm440 0h160v-160H620v160Z\"/>\n",
              "  </svg>\n",
              "    </button>\n",
              "\n",
              "  <style>\n",
              "    .colab-df-container {\n",
              "      display:flex;\n",
              "      gap: 12px;\n",
              "    }\n",
              "\n",
              "    .colab-df-convert {\n",
              "      background-color: #E8F0FE;\n",
              "      border: none;\n",
              "      border-radius: 50%;\n",
              "      cursor: pointer;\n",
              "      display: none;\n",
              "      fill: #1967D2;\n",
              "      height: 32px;\n",
              "      padding: 0 0 0 0;\n",
              "      width: 32px;\n",
              "    }\n",
              "\n",
              "    .colab-df-convert:hover {\n",
              "      background-color: #E2EBFA;\n",
              "      box-shadow: 0px 1px 2px rgba(60, 64, 67, 0.3), 0px 1px 3px 1px rgba(60, 64, 67, 0.15);\n",
              "      fill: #174EA6;\n",
              "    }\n",
              "\n",
              "    .colab-df-buttons div {\n",
              "      margin-bottom: 4px;\n",
              "    }\n",
              "\n",
              "    [theme=dark] .colab-df-convert {\n",
              "      background-color: #3B4455;\n",
              "      fill: #D2E3FC;\n",
              "    }\n",
              "\n",
              "    [theme=dark] .colab-df-convert:hover {\n",
              "      background-color: #434B5C;\n",
              "      box-shadow: 0px 1px 3px 1px rgba(0, 0, 0, 0.15);\n",
              "      filter: drop-shadow(0px 1px 2px rgba(0, 0, 0, 0.3));\n",
              "      fill: #FFFFFF;\n",
              "    }\n",
              "  </style>\n",
              "\n",
              "    <script>\n",
              "      const buttonEl =\n",
              "        document.querySelector('#df-4da56545-2071-46ca-9026-ee06890ebba9 button.colab-df-convert');\n",
              "      buttonEl.style.display =\n",
              "        google.colab.kernel.accessAllowed ? 'block' : 'none';\n",
              "\n",
              "      async function convertToInteractive(key) {\n",
              "        const element = document.querySelector('#df-4da56545-2071-46ca-9026-ee06890ebba9');\n",
              "        const dataTable =\n",
              "          await google.colab.kernel.invokeFunction('convertToInteractive',\n",
              "                                                    [key], {});\n",
              "        if (!dataTable) return;\n",
              "\n",
              "        const docLinkHtml = 'Like what you see? Visit the ' +\n",
              "          '<a target=\"_blank\" href=https://colab.research.google.com/notebooks/data_table.ipynb>data table notebook</a>'\n",
              "          + ' to learn more about interactive tables.';\n",
              "        element.innerHTML = '';\n",
              "        dataTable['output_type'] = 'display_data';\n",
              "        await google.colab.output.renderOutput(dataTable, element);\n",
              "        const docLink = document.createElement('div');\n",
              "        docLink.innerHTML = docLinkHtml;\n",
              "        element.appendChild(docLink);\n",
              "      }\n",
              "    </script>\n",
              "  </div>\n",
              "\n",
              "\n",
              "<div id=\"df-a926cbb4-737e-495c-a5f5-77b599602e3f\">\n",
              "  <button class=\"colab-df-quickchart\" onclick=\"quickchart('df-a926cbb4-737e-495c-a5f5-77b599602e3f')\"\n",
              "            title=\"Suggest charts\"\n",
              "            style=\"display:none;\">\n",
              "\n",
              "<svg xmlns=\"http://www.w3.org/2000/svg\" height=\"24px\"viewBox=\"0 0 24 24\"\n",
              "     width=\"24px\">\n",
              "    <g>\n",
              "        <path d=\"M19 3H5c-1.1 0-2 .9-2 2v14c0 1.1.9 2 2 2h14c1.1 0 2-.9 2-2V5c0-1.1-.9-2-2-2zM9 17H7v-7h2v7zm4 0h-2V7h2v10zm4 0h-2v-4h2v4z\"/>\n",
              "    </g>\n",
              "</svg>\n",
              "  </button>\n",
              "\n",
              "<style>\n",
              "  .colab-df-quickchart {\n",
              "      --bg-color: #E8F0FE;\n",
              "      --fill-color: #1967D2;\n",
              "      --hover-bg-color: #E2EBFA;\n",
              "      --hover-fill-color: #174EA6;\n",
              "      --disabled-fill-color: #AAA;\n",
              "      --disabled-bg-color: #DDD;\n",
              "  }\n",
              "\n",
              "  [theme=dark] .colab-df-quickchart {\n",
              "      --bg-color: #3B4455;\n",
              "      --fill-color: #D2E3FC;\n",
              "      --hover-bg-color: #434B5C;\n",
              "      --hover-fill-color: #FFFFFF;\n",
              "      --disabled-bg-color: #3B4455;\n",
              "      --disabled-fill-color: #666;\n",
              "  }\n",
              "\n",
              "  .colab-df-quickchart {\n",
              "    background-color: var(--bg-color);\n",
              "    border: none;\n",
              "    border-radius: 50%;\n",
              "    cursor: pointer;\n",
              "    display: none;\n",
              "    fill: var(--fill-color);\n",
              "    height: 32px;\n",
              "    padding: 0;\n",
              "    width: 32px;\n",
              "  }\n",
              "\n",
              "  .colab-df-quickchart:hover {\n",
              "    background-color: var(--hover-bg-color);\n",
              "    box-shadow: 0 1px 2px rgba(60, 64, 67, 0.3), 0 1px 3px 1px rgba(60, 64, 67, 0.15);\n",
              "    fill: var(--button-hover-fill-color);\n",
              "  }\n",
              "\n",
              "  .colab-df-quickchart-complete:disabled,\n",
              "  .colab-df-quickchart-complete:disabled:hover {\n",
              "    background-color: var(--disabled-bg-color);\n",
              "    fill: var(--disabled-fill-color);\n",
              "    box-shadow: none;\n",
              "  }\n",
              "\n",
              "  .colab-df-spinner {\n",
              "    border: 2px solid var(--fill-color);\n",
              "    border-color: transparent;\n",
              "    border-bottom-color: var(--fill-color);\n",
              "    animation:\n",
              "      spin 1s steps(1) infinite;\n",
              "  }\n",
              "\n",
              "  @keyframes spin {\n",
              "    0% {\n",
              "      border-color: transparent;\n",
              "      border-bottom-color: var(--fill-color);\n",
              "      border-left-color: var(--fill-color);\n",
              "    }\n",
              "    20% {\n",
              "      border-color: transparent;\n",
              "      border-left-color: var(--fill-color);\n",
              "      border-top-color: var(--fill-color);\n",
              "    }\n",
              "    30% {\n",
              "      border-color: transparent;\n",
              "      border-left-color: var(--fill-color);\n",
              "      border-top-color: var(--fill-color);\n",
              "      border-right-color: var(--fill-color);\n",
              "    }\n",
              "    40% {\n",
              "      border-color: transparent;\n",
              "      border-right-color: var(--fill-color);\n",
              "      border-top-color: var(--fill-color);\n",
              "    }\n",
              "    60% {\n",
              "      border-color: transparent;\n",
              "      border-right-color: var(--fill-color);\n",
              "    }\n",
              "    80% {\n",
              "      border-color: transparent;\n",
              "      border-right-color: var(--fill-color);\n",
              "      border-bottom-color: var(--fill-color);\n",
              "    }\n",
              "    90% {\n",
              "      border-color: transparent;\n",
              "      border-bottom-color: var(--fill-color);\n",
              "    }\n",
              "  }\n",
              "</style>\n",
              "\n",
              "  <script>\n",
              "    async function quickchart(key) {\n",
              "      const quickchartButtonEl =\n",
              "        document.querySelector('#' + key + ' button');\n",
              "      quickchartButtonEl.disabled = true;  // To prevent multiple clicks.\n",
              "      quickchartButtonEl.classList.add('colab-df-spinner');\n",
              "      try {\n",
              "        const charts = await google.colab.kernel.invokeFunction(\n",
              "            'suggestCharts', [key], {});\n",
              "      } catch (error) {\n",
              "        console.error('Error during call to suggestCharts:', error);\n",
              "      }\n",
              "      quickchartButtonEl.classList.remove('colab-df-spinner');\n",
              "      quickchartButtonEl.classList.add('colab-df-quickchart-complete');\n",
              "    }\n",
              "    (() => {\n",
              "      let quickchartButtonEl =\n",
              "        document.querySelector('#df-a926cbb4-737e-495c-a5f5-77b599602e3f button');\n",
              "      quickchartButtonEl.style.display =\n",
              "        google.colab.kernel.accessAllowed ? 'block' : 'none';\n",
              "    })();\n",
              "  </script>\n",
              "</div>\n",
              "\n",
              "    </div>\n",
              "  </div>\n"
            ],
            "application/vnd.google.colaboratory.intrinsic+json": {
              "type": "dataframe",
              "variable_name": "healthexp",
              "summary": "{\n  \"name\": \"healthexp\",\n  \"rows\": 274,\n  \"fields\": [\n    {\n      \"column\": \"Year\",\n      \"properties\": {\n        \"dtype\": \"number\",\n        \"std\": 14,\n        \"min\": 1970,\n        \"max\": 2020,\n        \"num_unique_values\": 51,\n        \"samples\": [\n          2013,\n          2010,\n          2016\n        ],\n        \"semantic_type\": \"\",\n        \"description\": \"\"\n      }\n    },\n    {\n      \"column\": \"Country\",\n      \"properties\": {\n        \"dtype\": \"category\",\n        \"num_unique_values\": 6,\n        \"samples\": [\n          \"Germany\",\n          \"France\",\n          \"Canada\"\n        ],\n        \"semantic_type\": \"\",\n        \"description\": \"\"\n      }\n    },\n    {\n      \"column\": \"Spending_USD\",\n      \"properties\": {\n        \"dtype\": \"number\",\n        \"std\": 2194.9397848395724,\n        \"min\": 123.993,\n        \"max\": 11859.179,\n        \"num_unique_values\": 274,\n        \"samples\": [\n          729.457,\n          2065.133,\n          2689.916\n        ],\n        \"semantic_type\": \"\",\n        \"description\": \"\"\n      }\n    },\n    {\n      \"column\": \"Life_Expectancy\",\n      \"properties\": {\n        \"dtype\": \"number\",\n        \"std\": 3.276263466523638,\n        \"min\": 70.6,\n        \"max\": 84.7,\n        \"num_unique_values\": 118,\n        \"samples\": [\n          78.8,\n          82.4,\n          70.9\n        ],\n        \"semantic_type\": \"\",\n        \"description\": \"\"\n      }\n    }\n  ]\n}"
            }
          },
          "metadata": {},
          "execution_count": 3
        }
      ]
    },
    {
      "cell_type": "code",
      "source": [
        "# convert categorical to numeric\n",
        "healthexp=pd.get_dummies(healthexp,dtype=int)"
      ],
      "metadata": {
        "id": "wm7V-dVliTum"
      },
      "execution_count": 4,
      "outputs": []
    },
    {
      "cell_type": "code",
      "source": [
        "healthexp.head()"
      ],
      "metadata": {
        "colab": {
          "base_uri": "https://localhost:8080/",
          "height": 206
        },
        "id": "oEKbJPC8idqo",
        "outputId": "82cd4bdb-7b11-4dd2-f19d-a800282c5d9b"
      },
      "execution_count": 5,
      "outputs": [
        {
          "output_type": "execute_result",
          "data": {
            "text/plain": [
              "   Year  Spending_USD  Life_Expectancy  Country_Canada  Country_France  \\\n",
              "0  1970       252.311             70.6               0               0   \n",
              "1  1970       192.143             72.2               0               1   \n",
              "2  1970       123.993             71.9               0               0   \n",
              "3  1970       150.437             72.0               0               0   \n",
              "4  1970       326.961             70.9               0               0   \n",
              "\n",
              "   Country_Germany  Country_Great Britain  Country_Japan  Country_USA  \n",
              "0                1                      0              0            0  \n",
              "1                0                      0              0            0  \n",
              "2                0                      1              0            0  \n",
              "3                0                      0              1            0  \n",
              "4                0                      0              0            1  "
            ],
            "text/html": [
              "\n",
              "  <div id=\"df-0ee0bd18-402a-4a7d-a403-b8e8d3994d01\" class=\"colab-df-container\">\n",
              "    <div>\n",
              "<style scoped>\n",
              "    .dataframe tbody tr th:only-of-type {\n",
              "        vertical-align: middle;\n",
              "    }\n",
              "\n",
              "    .dataframe tbody tr th {\n",
              "        vertical-align: top;\n",
              "    }\n",
              "\n",
              "    .dataframe thead th {\n",
              "        text-align: right;\n",
              "    }\n",
              "</style>\n",
              "<table border=\"1\" class=\"dataframe\">\n",
              "  <thead>\n",
              "    <tr style=\"text-align: right;\">\n",
              "      <th></th>\n",
              "      <th>Year</th>\n",
              "      <th>Spending_USD</th>\n",
              "      <th>Life_Expectancy</th>\n",
              "      <th>Country_Canada</th>\n",
              "      <th>Country_France</th>\n",
              "      <th>Country_Germany</th>\n",
              "      <th>Country_Great Britain</th>\n",
              "      <th>Country_Japan</th>\n",
              "      <th>Country_USA</th>\n",
              "    </tr>\n",
              "  </thead>\n",
              "  <tbody>\n",
              "    <tr>\n",
              "      <th>0</th>\n",
              "      <td>1970</td>\n",
              "      <td>252.311</td>\n",
              "      <td>70.6</td>\n",
              "      <td>0</td>\n",
              "      <td>0</td>\n",
              "      <td>1</td>\n",
              "      <td>0</td>\n",
              "      <td>0</td>\n",
              "      <td>0</td>\n",
              "    </tr>\n",
              "    <tr>\n",
              "      <th>1</th>\n",
              "      <td>1970</td>\n",
              "      <td>192.143</td>\n",
              "      <td>72.2</td>\n",
              "      <td>0</td>\n",
              "      <td>1</td>\n",
              "      <td>0</td>\n",
              "      <td>0</td>\n",
              "      <td>0</td>\n",
              "      <td>0</td>\n",
              "    </tr>\n",
              "    <tr>\n",
              "      <th>2</th>\n",
              "      <td>1970</td>\n",
              "      <td>123.993</td>\n",
              "      <td>71.9</td>\n",
              "      <td>0</td>\n",
              "      <td>0</td>\n",
              "      <td>0</td>\n",
              "      <td>1</td>\n",
              "      <td>0</td>\n",
              "      <td>0</td>\n",
              "    </tr>\n",
              "    <tr>\n",
              "      <th>3</th>\n",
              "      <td>1970</td>\n",
              "      <td>150.437</td>\n",
              "      <td>72.0</td>\n",
              "      <td>0</td>\n",
              "      <td>0</td>\n",
              "      <td>0</td>\n",
              "      <td>0</td>\n",
              "      <td>1</td>\n",
              "      <td>0</td>\n",
              "    </tr>\n",
              "    <tr>\n",
              "      <th>4</th>\n",
              "      <td>1970</td>\n",
              "      <td>326.961</td>\n",
              "      <td>70.9</td>\n",
              "      <td>0</td>\n",
              "      <td>0</td>\n",
              "      <td>0</td>\n",
              "      <td>0</td>\n",
              "      <td>0</td>\n",
              "      <td>1</td>\n",
              "    </tr>\n",
              "  </tbody>\n",
              "</table>\n",
              "</div>\n",
              "    <div class=\"colab-df-buttons\">\n",
              "\n",
              "  <div class=\"colab-df-container\">\n",
              "    <button class=\"colab-df-convert\" onclick=\"convertToInteractive('df-0ee0bd18-402a-4a7d-a403-b8e8d3994d01')\"\n",
              "            title=\"Convert this dataframe to an interactive table.\"\n",
              "            style=\"display:none;\">\n",
              "\n",
              "  <svg xmlns=\"http://www.w3.org/2000/svg\" height=\"24px\" viewBox=\"0 -960 960 960\">\n",
              "    <path d=\"M120-120v-720h720v720H120Zm60-500h600v-160H180v160Zm220 220h160v-160H400v160Zm0 220h160v-160H400v160ZM180-400h160v-160H180v160Zm440 0h160v-160H620v160ZM180-180h160v-160H180v160Zm440 0h160v-160H620v160Z\"/>\n",
              "  </svg>\n",
              "    </button>\n",
              "\n",
              "  <style>\n",
              "    .colab-df-container {\n",
              "      display:flex;\n",
              "      gap: 12px;\n",
              "    }\n",
              "\n",
              "    .colab-df-convert {\n",
              "      background-color: #E8F0FE;\n",
              "      border: none;\n",
              "      border-radius: 50%;\n",
              "      cursor: pointer;\n",
              "      display: none;\n",
              "      fill: #1967D2;\n",
              "      height: 32px;\n",
              "      padding: 0 0 0 0;\n",
              "      width: 32px;\n",
              "    }\n",
              "\n",
              "    .colab-df-convert:hover {\n",
              "      background-color: #E2EBFA;\n",
              "      box-shadow: 0px 1px 2px rgba(60, 64, 67, 0.3), 0px 1px 3px 1px rgba(60, 64, 67, 0.15);\n",
              "      fill: #174EA6;\n",
              "    }\n",
              "\n",
              "    .colab-df-buttons div {\n",
              "      margin-bottom: 4px;\n",
              "    }\n",
              "\n",
              "    [theme=dark] .colab-df-convert {\n",
              "      background-color: #3B4455;\n",
              "      fill: #D2E3FC;\n",
              "    }\n",
              "\n",
              "    [theme=dark] .colab-df-convert:hover {\n",
              "      background-color: #434B5C;\n",
              "      box-shadow: 0px 1px 3px 1px rgba(0, 0, 0, 0.15);\n",
              "      filter: drop-shadow(0px 1px 2px rgba(0, 0, 0, 0.3));\n",
              "      fill: #FFFFFF;\n",
              "    }\n",
              "  </style>\n",
              "\n",
              "    <script>\n",
              "      const buttonEl =\n",
              "        document.querySelector('#df-0ee0bd18-402a-4a7d-a403-b8e8d3994d01 button.colab-df-convert');\n",
              "      buttonEl.style.display =\n",
              "        google.colab.kernel.accessAllowed ? 'block' : 'none';\n",
              "\n",
              "      async function convertToInteractive(key) {\n",
              "        const element = document.querySelector('#df-0ee0bd18-402a-4a7d-a403-b8e8d3994d01');\n",
              "        const dataTable =\n",
              "          await google.colab.kernel.invokeFunction('convertToInteractive',\n",
              "                                                    [key], {});\n",
              "        if (!dataTable) return;\n",
              "\n",
              "        const docLinkHtml = 'Like what you see? Visit the ' +\n",
              "          '<a target=\"_blank\" href=https://colab.research.google.com/notebooks/data_table.ipynb>data table notebook</a>'\n",
              "          + ' to learn more about interactive tables.';\n",
              "        element.innerHTML = '';\n",
              "        dataTable['output_type'] = 'display_data';\n",
              "        await google.colab.output.renderOutput(dataTable, element);\n",
              "        const docLink = document.createElement('div');\n",
              "        docLink.innerHTML = docLinkHtml;\n",
              "        element.appendChild(docLink);\n",
              "      }\n",
              "    </script>\n",
              "  </div>\n",
              "\n",
              "\n",
              "<div id=\"df-40908ee1-0308-4d0e-9368-471254dad911\">\n",
              "  <button class=\"colab-df-quickchart\" onclick=\"quickchart('df-40908ee1-0308-4d0e-9368-471254dad911')\"\n",
              "            title=\"Suggest charts\"\n",
              "            style=\"display:none;\">\n",
              "\n",
              "<svg xmlns=\"http://www.w3.org/2000/svg\" height=\"24px\"viewBox=\"0 0 24 24\"\n",
              "     width=\"24px\">\n",
              "    <g>\n",
              "        <path d=\"M19 3H5c-1.1 0-2 .9-2 2v14c0 1.1.9 2 2 2h14c1.1 0 2-.9 2-2V5c0-1.1-.9-2-2-2zM9 17H7v-7h2v7zm4 0h-2V7h2v10zm4 0h-2v-4h2v4z\"/>\n",
              "    </g>\n",
              "</svg>\n",
              "  </button>\n",
              "\n",
              "<style>\n",
              "  .colab-df-quickchart {\n",
              "      --bg-color: #E8F0FE;\n",
              "      --fill-color: #1967D2;\n",
              "      --hover-bg-color: #E2EBFA;\n",
              "      --hover-fill-color: #174EA6;\n",
              "      --disabled-fill-color: #AAA;\n",
              "      --disabled-bg-color: #DDD;\n",
              "  }\n",
              "\n",
              "  [theme=dark] .colab-df-quickchart {\n",
              "      --bg-color: #3B4455;\n",
              "      --fill-color: #D2E3FC;\n",
              "      --hover-bg-color: #434B5C;\n",
              "      --hover-fill-color: #FFFFFF;\n",
              "      --disabled-bg-color: #3B4455;\n",
              "      --disabled-fill-color: #666;\n",
              "  }\n",
              "\n",
              "  .colab-df-quickchart {\n",
              "    background-color: var(--bg-color);\n",
              "    border: none;\n",
              "    border-radius: 50%;\n",
              "    cursor: pointer;\n",
              "    display: none;\n",
              "    fill: var(--fill-color);\n",
              "    height: 32px;\n",
              "    padding: 0;\n",
              "    width: 32px;\n",
              "  }\n",
              "\n",
              "  .colab-df-quickchart:hover {\n",
              "    background-color: var(--hover-bg-color);\n",
              "    box-shadow: 0 1px 2px rgba(60, 64, 67, 0.3), 0 1px 3px 1px rgba(60, 64, 67, 0.15);\n",
              "    fill: var(--button-hover-fill-color);\n",
              "  }\n",
              "\n",
              "  .colab-df-quickchart-complete:disabled,\n",
              "  .colab-df-quickchart-complete:disabled:hover {\n",
              "    background-color: var(--disabled-bg-color);\n",
              "    fill: var(--disabled-fill-color);\n",
              "    box-shadow: none;\n",
              "  }\n",
              "\n",
              "  .colab-df-spinner {\n",
              "    border: 2px solid var(--fill-color);\n",
              "    border-color: transparent;\n",
              "    border-bottom-color: var(--fill-color);\n",
              "    animation:\n",
              "      spin 1s steps(1) infinite;\n",
              "  }\n",
              "\n",
              "  @keyframes spin {\n",
              "    0% {\n",
              "      border-color: transparent;\n",
              "      border-bottom-color: var(--fill-color);\n",
              "      border-left-color: var(--fill-color);\n",
              "    }\n",
              "    20% {\n",
              "      border-color: transparent;\n",
              "      border-left-color: var(--fill-color);\n",
              "      border-top-color: var(--fill-color);\n",
              "    }\n",
              "    30% {\n",
              "      border-color: transparent;\n",
              "      border-left-color: var(--fill-color);\n",
              "      border-top-color: var(--fill-color);\n",
              "      border-right-color: var(--fill-color);\n",
              "    }\n",
              "    40% {\n",
              "      border-color: transparent;\n",
              "      border-right-color: var(--fill-color);\n",
              "      border-top-color: var(--fill-color);\n",
              "    }\n",
              "    60% {\n",
              "      border-color: transparent;\n",
              "      border-right-color: var(--fill-color);\n",
              "    }\n",
              "    80% {\n",
              "      border-color: transparent;\n",
              "      border-right-color: var(--fill-color);\n",
              "      border-bottom-color: var(--fill-color);\n",
              "    }\n",
              "    90% {\n",
              "      border-color: transparent;\n",
              "      border-bottom-color: var(--fill-color);\n",
              "    }\n",
              "  }\n",
              "</style>\n",
              "\n",
              "  <script>\n",
              "    async function quickchart(key) {\n",
              "      const quickchartButtonEl =\n",
              "        document.querySelector('#' + key + ' button');\n",
              "      quickchartButtonEl.disabled = true;  // To prevent multiple clicks.\n",
              "      quickchartButtonEl.classList.add('colab-df-spinner');\n",
              "      try {\n",
              "        const charts = await google.colab.kernel.invokeFunction(\n",
              "            'suggestCharts', [key], {});\n",
              "      } catch (error) {\n",
              "        console.error('Error during call to suggestCharts:', error);\n",
              "      }\n",
              "      quickchartButtonEl.classList.remove('colab-df-spinner');\n",
              "      quickchartButtonEl.classList.add('colab-df-quickchart-complete');\n",
              "    }\n",
              "    (() => {\n",
              "      let quickchartButtonEl =\n",
              "        document.querySelector('#df-40908ee1-0308-4d0e-9368-471254dad911 button');\n",
              "      quickchartButtonEl.style.display =\n",
              "        google.colab.kernel.accessAllowed ? 'block' : 'none';\n",
              "    })();\n",
              "  </script>\n",
              "</div>\n",
              "\n",
              "    </div>\n",
              "  </div>\n"
            ],
            "application/vnd.google.colaboratory.intrinsic+json": {
              "type": "dataframe",
              "variable_name": "healthexp",
              "summary": "{\n  \"name\": \"healthexp\",\n  \"rows\": 274,\n  \"fields\": [\n    {\n      \"column\": \"Year\",\n      \"properties\": {\n        \"dtype\": \"number\",\n        \"std\": 14,\n        \"min\": 1970,\n        \"max\": 2020,\n        \"num_unique_values\": 51,\n        \"samples\": [\n          2013,\n          2010,\n          2016\n        ],\n        \"semantic_type\": \"\",\n        \"description\": \"\"\n      }\n    },\n    {\n      \"column\": \"Spending_USD\",\n      \"properties\": {\n        \"dtype\": \"number\",\n        \"std\": 2194.9397848395724,\n        \"min\": 123.993,\n        \"max\": 11859.179,\n        \"num_unique_values\": 274,\n        \"samples\": [\n          729.457,\n          2065.133,\n          2689.916\n        ],\n        \"semantic_type\": \"\",\n        \"description\": \"\"\n      }\n    },\n    {\n      \"column\": \"Life_Expectancy\",\n      \"properties\": {\n        \"dtype\": \"number\",\n        \"std\": 3.276263466523638,\n        \"min\": 70.6,\n        \"max\": 84.7,\n        \"num_unique_values\": 118,\n        \"samples\": [\n          78.8,\n          82.4,\n          70.9\n        ],\n        \"semantic_type\": \"\",\n        \"description\": \"\"\n      }\n    },\n    {\n      \"column\": \"Country_Canada\",\n      \"properties\": {\n        \"dtype\": \"number\",\n        \"std\": 0,\n        \"min\": 0,\n        \"max\": 1,\n        \"num_unique_values\": 2,\n        \"samples\": [\n          1,\n          0\n        ],\n        \"semantic_type\": \"\",\n        \"description\": \"\"\n      }\n    },\n    {\n      \"column\": \"Country_France\",\n      \"properties\": {\n        \"dtype\": \"number\",\n        \"std\": 0,\n        \"min\": 0,\n        \"max\": 1,\n        \"num_unique_values\": 2,\n        \"samples\": [\n          1,\n          0\n        ],\n        \"semantic_type\": \"\",\n        \"description\": \"\"\n      }\n    },\n    {\n      \"column\": \"Country_Germany\",\n      \"properties\": {\n        \"dtype\": \"number\",\n        \"std\": 0,\n        \"min\": 0,\n        \"max\": 1,\n        \"num_unique_values\": 2,\n        \"samples\": [\n          0,\n          1\n        ],\n        \"semantic_type\": \"\",\n        \"description\": \"\"\n      }\n    },\n    {\n      \"column\": \"Country_Great Britain\",\n      \"properties\": {\n        \"dtype\": \"number\",\n        \"std\": 0,\n        \"min\": 0,\n        \"max\": 1,\n        \"num_unique_values\": 2,\n        \"samples\": [\n          1,\n          0\n        ],\n        \"semantic_type\": \"\",\n        \"description\": \"\"\n      }\n    },\n    {\n      \"column\": \"Country_Japan\",\n      \"properties\": {\n        \"dtype\": \"number\",\n        \"std\": 0,\n        \"min\": 0,\n        \"max\": 1,\n        \"num_unique_values\": 2,\n        \"samples\": [\n          1,\n          0\n        ],\n        \"semantic_type\": \"\",\n        \"description\": \"\"\n      }\n    },\n    {\n      \"column\": \"Country_USA\",\n      \"properties\": {\n        \"dtype\": \"number\",\n        \"std\": 0,\n        \"min\": 0,\n        \"max\": 1,\n        \"num_unique_values\": 2,\n        \"samples\": [\n          1,\n          0\n        ],\n        \"semantic_type\": \"\",\n        \"description\": \"\"\n      }\n    }\n  ]\n}"
            }
          },
          "metadata": {},
          "execution_count": 5
        }
      ]
    },
    {
      "cell_type": "code",
      "source": [
        "# create X and y\n",
        "X=healthexp.drop('Life_Expectancy',axis=1)\n",
        "y=healthexp['Life_Expectancy']"
      ],
      "metadata": {
        "id": "S6P5zoYYi9Zd"
      },
      "execution_count": 6,
      "outputs": []
    },
    {
      "cell_type": "code",
      "source": [
        "from sklearn.model_selection import train_test_split\n",
        "X_train,X_test,y_train,y_test=train_test_split(X,y,test_size=0.2,random_state=54)"
      ],
      "metadata": {
        "id": "vgepTrujjRKm"
      },
      "execution_count": 7,
      "outputs": []
    },
    {
      "cell_type": "code",
      "source": [
        "from sklearn.ensemble import RandomForestRegressor"
      ],
      "metadata": {
        "id": "ug4NOBX8joF5"
      },
      "execution_count": 8,
      "outputs": []
    },
    {
      "cell_type": "code",
      "source": [
        "model=RandomForestRegressor(random_state=34)\n",
        "model.fit(X_train,y_train)"
      ],
      "metadata": {
        "colab": {
          "base_uri": "https://localhost:8080/",
          "height": 74
        },
        "id": "xRYfknsNjtc6",
        "outputId": "9b1f316b-7900-4c8e-ce71-a2c294bd736b"
      },
      "execution_count": 9,
      "outputs": [
        {
          "output_type": "execute_result",
          "data": {
            "text/plain": [
              "RandomForestRegressor(random_state=34)"
            ],
            "text/html": [
              "<style>#sk-container-id-1 {color: black;background-color: white;}#sk-container-id-1 pre{padding: 0;}#sk-container-id-1 div.sk-toggleable {background-color: white;}#sk-container-id-1 label.sk-toggleable__label {cursor: pointer;display: block;width: 100%;margin-bottom: 0;padding: 0.3em;box-sizing: border-box;text-align: center;}#sk-container-id-1 label.sk-toggleable__label-arrow:before {content: \"▸\";float: left;margin-right: 0.25em;color: #696969;}#sk-container-id-1 label.sk-toggleable__label-arrow:hover:before {color: black;}#sk-container-id-1 div.sk-estimator:hover label.sk-toggleable__label-arrow:before {color: black;}#sk-container-id-1 div.sk-toggleable__content {max-height: 0;max-width: 0;overflow: hidden;text-align: left;background-color: #f0f8ff;}#sk-container-id-1 div.sk-toggleable__content pre {margin: 0.2em;color: black;border-radius: 0.25em;background-color: #f0f8ff;}#sk-container-id-1 input.sk-toggleable__control:checked~div.sk-toggleable__content {max-height: 200px;max-width: 100%;overflow: auto;}#sk-container-id-1 input.sk-toggleable__control:checked~label.sk-toggleable__label-arrow:before {content: \"▾\";}#sk-container-id-1 div.sk-estimator input.sk-toggleable__control:checked~label.sk-toggleable__label {background-color: #d4ebff;}#sk-container-id-1 div.sk-label input.sk-toggleable__control:checked~label.sk-toggleable__label {background-color: #d4ebff;}#sk-container-id-1 input.sk-hidden--visually {border: 0;clip: rect(1px 1px 1px 1px);clip: rect(1px, 1px, 1px, 1px);height: 1px;margin: -1px;overflow: hidden;padding: 0;position: absolute;width: 1px;}#sk-container-id-1 div.sk-estimator {font-family: monospace;background-color: #f0f8ff;border: 1px dotted black;border-radius: 0.25em;box-sizing: border-box;margin-bottom: 0.5em;}#sk-container-id-1 div.sk-estimator:hover {background-color: #d4ebff;}#sk-container-id-1 div.sk-parallel-item::after {content: \"\";width: 100%;border-bottom: 1px solid gray;flex-grow: 1;}#sk-container-id-1 div.sk-label:hover label.sk-toggleable__label {background-color: #d4ebff;}#sk-container-id-1 div.sk-serial::before {content: \"\";position: absolute;border-left: 1px solid gray;box-sizing: border-box;top: 0;bottom: 0;left: 50%;z-index: 0;}#sk-container-id-1 div.sk-serial {display: flex;flex-direction: column;align-items: center;background-color: white;padding-right: 0.2em;padding-left: 0.2em;position: relative;}#sk-container-id-1 div.sk-item {position: relative;z-index: 1;}#sk-container-id-1 div.sk-parallel {display: flex;align-items: stretch;justify-content: center;background-color: white;position: relative;}#sk-container-id-1 div.sk-item::before, #sk-container-id-1 div.sk-parallel-item::before {content: \"\";position: absolute;border-left: 1px solid gray;box-sizing: border-box;top: 0;bottom: 0;left: 50%;z-index: -1;}#sk-container-id-1 div.sk-parallel-item {display: flex;flex-direction: column;z-index: 1;position: relative;background-color: white;}#sk-container-id-1 div.sk-parallel-item:first-child::after {align-self: flex-end;width: 50%;}#sk-container-id-1 div.sk-parallel-item:last-child::after {align-self: flex-start;width: 50%;}#sk-container-id-1 div.sk-parallel-item:only-child::after {width: 0;}#sk-container-id-1 div.sk-dashed-wrapped {border: 1px dashed gray;margin: 0 0.4em 0.5em 0.4em;box-sizing: border-box;padding-bottom: 0.4em;background-color: white;}#sk-container-id-1 div.sk-label label {font-family: monospace;font-weight: bold;display: inline-block;line-height: 1.2em;}#sk-container-id-1 div.sk-label-container {text-align: center;}#sk-container-id-1 div.sk-container {/* jupyter's `normalize.less` sets `[hidden] { display: none; }` but bootstrap.min.css set `[hidden] { display: none !important; }` so we also need the `!important` here to be able to override the default hidden behavior on the sphinx rendered scikit-learn.org. See: https://github.com/scikit-learn/scikit-learn/issues/21755 */display: inline-block !important;position: relative;}#sk-container-id-1 div.sk-text-repr-fallback {display: none;}</style><div id=\"sk-container-id-1\" class=\"sk-top-container\"><div class=\"sk-text-repr-fallback\"><pre>RandomForestRegressor(random_state=34)</pre><b>In a Jupyter environment, please rerun this cell to show the HTML representation or trust the notebook. <br />On GitHub, the HTML representation is unable to render, please try loading this page with nbviewer.org.</b></div><div class=\"sk-container\" hidden><div class=\"sk-item\"><div class=\"sk-estimator sk-toggleable\"><input class=\"sk-toggleable__control sk-hidden--visually\" id=\"sk-estimator-id-1\" type=\"checkbox\" checked><label for=\"sk-estimator-id-1\" class=\"sk-toggleable__label sk-toggleable__label-arrow\">RandomForestRegressor</label><div class=\"sk-toggleable__content\"><pre>RandomForestRegressor(random_state=34)</pre></div></div></div></div></div>"
            ]
          },
          "metadata": {},
          "execution_count": 9
        }
      ]
    },
    {
      "cell_type": "code",
      "source": [
        "y_preds=model.predict(X_test)"
      ],
      "metadata": {
        "id": "7uZ8BvZHkAUd"
      },
      "execution_count": 10,
      "outputs": []
    },
    {
      "cell_type": "code",
      "source": [
        "from sklearn.metrics import mean_squared_error,mean_absolute_error,r2_score\n",
        "print(mean_squared_error(y_test,y_preds))\n",
        "print(mean_absolute_error(y_test,y_preds))\n",
        "print(r2_score(y_test,y_preds))"
      ],
      "metadata": {
        "colab": {
          "base_uri": "https://localhost:8080/"
        },
        "id": "VneJKgiNkGzQ",
        "outputId": "81d2097b-309d-4119-ff8c-57948095ff29"
      },
      "execution_count": 11,
      "outputs": [
        {
          "output_type": "stream",
          "name": "stdout",
          "text": [
            "0.1553235999999905\n",
            "0.31138181818180044\n",
            "0.9836234548107303\n"
          ]
        }
      ]
    },
    {
      "cell_type": "code",
      "source": [
        "!pip install optuna"
      ],
      "metadata": {
        "colab": {
          "base_uri": "https://localhost:8080/"
        },
        "id": "QJYniTMSr44S",
        "outputId": "3ee9e270-5b54-4527-d8fa-57cfd9dd7819"
      },
      "execution_count": 12,
      "outputs": [
        {
          "output_type": "stream",
          "name": "stdout",
          "text": [
            "Collecting optuna\n",
            "  Downloading optuna-3.6.1-py3-none-any.whl (380 kB)\n",
            "\u001b[2K     \u001b[90m━━━━━━━━━━━━━━━━━━━━━━━━━━━━━━━━━━━━━━━━\u001b[0m \u001b[32m380.1/380.1 kB\u001b[0m \u001b[31m4.8 MB/s\u001b[0m eta \u001b[36m0:00:00\u001b[0m\n",
            "\u001b[?25hCollecting alembic>=1.5.0 (from optuna)\n",
            "  Downloading alembic-1.13.1-py3-none-any.whl (233 kB)\n",
            "\u001b[2K     \u001b[90m━━━━━━━━━━━━━━━━━━━━━━━━━━━━━━━━━━━━━━━━\u001b[0m \u001b[32m233.4/233.4 kB\u001b[0m \u001b[31m9.7 MB/s\u001b[0m eta \u001b[36m0:00:00\u001b[0m\n",
            "\u001b[?25hCollecting colorlog (from optuna)\n",
            "  Downloading colorlog-6.8.2-py3-none-any.whl (11 kB)\n",
            "Requirement already satisfied: numpy in /usr/local/lib/python3.10/dist-packages (from optuna) (1.25.2)\n",
            "Requirement already satisfied: packaging>=20.0 in /usr/local/lib/python3.10/dist-packages (from optuna) (24.0)\n",
            "Requirement already satisfied: sqlalchemy>=1.3.0 in /usr/local/lib/python3.10/dist-packages (from optuna) (2.0.29)\n",
            "Requirement already satisfied: tqdm in /usr/local/lib/python3.10/dist-packages (from optuna) (4.66.2)\n",
            "Requirement already satisfied: PyYAML in /usr/local/lib/python3.10/dist-packages (from optuna) (6.0.1)\n",
            "Collecting Mako (from alembic>=1.5.0->optuna)\n",
            "  Downloading Mako-1.3.3-py3-none-any.whl (78 kB)\n",
            "\u001b[2K     \u001b[90m━━━━━━━━━━━━━━━━━━━━━━━━━━━━━━━━━━━━━━━━\u001b[0m \u001b[32m78.8/78.8 kB\u001b[0m \u001b[31m7.8 MB/s\u001b[0m eta \u001b[36m0:00:00\u001b[0m\n",
            "\u001b[?25hRequirement already satisfied: typing-extensions>=4 in /usr/local/lib/python3.10/dist-packages (from alembic>=1.5.0->optuna) (4.11.0)\n",
            "Requirement already satisfied: greenlet!=0.4.17 in /usr/local/lib/python3.10/dist-packages (from sqlalchemy>=1.3.0->optuna) (3.0.3)\n",
            "Requirement already satisfied: MarkupSafe>=0.9.2 in /usr/local/lib/python3.10/dist-packages (from Mako->alembic>=1.5.0->optuna) (2.1.5)\n",
            "Installing collected packages: Mako, colorlog, alembic, optuna\n",
            "Successfully installed Mako-1.3.3 alembic-1.13.1 colorlog-6.8.2 optuna-3.6.1\n"
          ]
        }
      ]
    },
    {
      "cell_type": "code",
      "source": [
        "# import Optuna\n",
        "import optuna"
      ],
      "metadata": {
        "id": "KqXDCmK5kyNR"
      },
      "execution_count": 18,
      "outputs": []
    },
    {
      "cell_type": "code",
      "source": [
        "from sklearn.model_selection import cross_val_score"
      ],
      "metadata": {
        "id": "DXEgHvKBk3nL"
      },
      "execution_count": 14,
      "outputs": []
    },
    {
      "cell_type": "code",
      "source": [
        "# define objective for our Optuna\n",
        "def objective(trial):\n",
        "    n_estimators=trial.suggest_int('n_estimators',100,1000)\n",
        "    max_depth=trial.suggest_int('max_depth',10,50)\n",
        "    min_samples_split=trial.suggest_int('min_samples_split',2,32)\n",
        "    min_samples_leaf=trial.suggest_int('min_smaples_leaf',1,32)\n",
        "\n",
        "    model=RandomForestRegressor(\n",
        "    n_estimators=n_estimators,\n",
        "    max_depth=max_depth,\n",
        "    min_samples_split=min_samples_split,\n",
        "    min_samples_leaf=min_samples_leaf,\n",
        "    random_state=21)\n",
        "\n",
        "    model.fit(X_train,y_train)\n",
        "    y_pred=model.predict(X_test)\n",
        "    #score=mean_squared_error(y_test,y_pred)\n",
        "    # use cross val score on the train data instead\n",
        "    score=cross_val_score(model,X_train,y_train,cv=5,scoring='neg_mean_squared_error',n_jobs=-1).mean()\n",
        "    return score"
      ],
      "metadata": {
        "id": "ckOGv26jlN7J"
      },
      "execution_count": 31,
      "outputs": []
    },
    {
      "cell_type": "code",
      "source": [
        "study=optuna.create_study(directions=['minimize'],sampler=optuna.samplers.RandomSampler(seed=42))\n"
      ],
      "metadata": {
        "id": "Cfnthgidm769",
        "colab": {
          "base_uri": "https://localhost:8080/"
        },
        "outputId": "619bc324-4db7-4615-cf9a-c6c19873efa0"
      },
      "execution_count": 25,
      "outputs": [
        {
          "output_type": "stream",
          "name": "stderr",
          "text": [
            "[I 2024-04-22 16:51:06,589] A new study created in memory with name: no-name-d56bc315-357b-41ed-a6a1-48d800fba298\n"
          ]
        }
      ]
    },
    {
      "cell_type": "code",
      "source": [
        "study.optimize(objective,n_trials=200)"
      ],
      "metadata": {
        "id": "KhZsuEwKnXkO",
        "colab": {
          "base_uri": "https://localhost:8080/"
        },
        "outputId": "ca225a2e-69fb-41f7-8ff1-8fe489509580"
      },
      "execution_count": 32,
      "outputs": [
        {
          "output_type": "stream",
          "name": "stderr",
          "text": [
            "[I 2024-04-22 16:54:48,381] Trial 3 finished with value: -2.3103640559247993 and parameters: {'n_estimators': 437, 'max_depth': 48, 'min_samples_split': 24, 'min_smaples_leaf': 20}. Best is trial 3 with value: -2.3103640559247993.\n",
            "[I 2024-04-22 16:54:51,548] Trial 4 finished with value: -2.906414579705588 and parameters: {'n_estimators': 240, 'max_depth': 16, 'min_samples_split': 3, 'min_smaples_leaf': 28}. Best is trial 4 with value: -2.906414579705588.\n",
            "[I 2024-04-22 16:54:56,483] Trial 5 finished with value: -3.3554945071958877 and parameters: {'n_estimators': 641, 'max_depth': 39, 'min_samples_split': 2, 'min_smaples_leaf': 32}. Best is trial 5 with value: -3.3554945071958877.\n",
            "[I 2024-04-22 16:55:03,570] Trial 6 finished with value: -1.0175242099148512 and parameters: {'n_estimators': 850, 'max_depth': 18, 'min_samples_split': 7, 'min_smaples_leaf': 6}. Best is trial 5 with value: -3.3554945071958877.\n",
            "[I 2024-04-22 16:55:06,156] Trial 7 finished with value: -1.573749748791981 and parameters: {'n_estimators': 374, 'max_depth': 31, 'min_samples_split': 15, 'min_smaples_leaf': 10}. Best is trial 5 with value: -3.3554945071958877.\n",
            "[I 2024-04-22 16:55:11,097] Trial 8 finished with value: -1.813887860660849 and parameters: {'n_estimators': 651, 'max_depth': 15, 'min_samples_split': 11, 'min_smaples_leaf': 12}. Best is trial 5 with value: -3.3554945071958877.\n",
            "[I 2024-04-22 16:55:16,430] Trial 9 finished with value: -2.1903985938359574 and parameters: {'n_estimators': 510, 'max_depth': 42, 'min_samples_split': 8, 'min_smaples_leaf': 17}. Best is trial 5 with value: -3.3554945071958877.\n",
            "[I 2024-04-22 16:55:20,822] Trial 10 finished with value: -1.1293598897639092 and parameters: {'n_estimators': 633, 'max_depth': 11, 'min_samples_split': 20, 'min_smaples_leaf': 6}. Best is trial 5 with value: -3.3554945071958877.\n",
            "[I 2024-04-22 16:55:21,938] Trial 11 finished with value: -2.6930731936911685 and parameters: {'n_estimators': 158, 'max_depth': 48, 'min_samples_split': 31, 'min_smaples_leaf': 26}. Best is trial 5 with value: -3.3554945071958877.\n",
            "[I 2024-04-22 16:55:25,676] Trial 12 finished with value: -2.0909299360155176 and parameters: {'n_estimators': 374, 'max_depth': 14, 'min_samples_split': 23, 'min_smaples_leaf': 15}. Best is trial 5 with value: -3.3554945071958877.\n",
            "[I 2024-04-22 16:55:27,084] Trial 13 finished with value: -3.152132459971532 and parameters: {'n_estimators': 209, 'max_depth': 30, 'min_samples_split': 3, 'min_smaples_leaf': 30}. Best is trial 5 with value: -3.3554945071958877.\n",
            "[I 2024-04-22 16:55:29,334] Trial 14 finished with value: -2.1901665390988017 and parameters: {'n_estimators': 333, 'max_depth': 37, 'min_samples_split': 11, 'min_smaples_leaf': 17}. Best is trial 5 with value: -3.3554945071958877.\n",
            "[I 2024-04-22 16:55:33,247] Trial 15 finished with value: -2.58577039988041 and parameters: {'n_estimators': 592, 'max_depth': 17, 'min_samples_split': 32, 'min_smaples_leaf': 25}. Best is trial 5 with value: -3.3554945071958877.\n",
            "[I 2024-04-22 16:55:40,726] Trial 16 finished with value: -3.1371975686269673 and parameters: {'n_estimators': 946, 'max_depth': 46, 'min_samples_split': 20, 'min_smaples_leaf': 30}. Best is trial 5 with value: -3.3554945071958877.\n",
            "[I 2024-04-22 16:55:41,984] Trial 17 finished with value: -1.7140632580852178 and parameters: {'n_estimators': 179, 'max_depth': 18, 'min_samples_split': 3, 'min_smaples_leaf': 11}. Best is trial 5 with value: -3.3554945071958877.\n",
            "[I 2024-04-22 16:55:45,059] Trial 18 finished with value: -1.851259709541814 and parameters: {'n_estimators': 450, 'max_depth': 21, 'min_samples_split': 27, 'min_smaples_leaf': 12}. Best is trial 5 with value: -3.3554945071958877.\n",
            "[I 2024-04-22 16:55:47,408] Trial 19 finished with value: -2.670488115789401 and parameters: {'n_estimators': 353, 'max_depth': 32, 'min_samples_split': 6, 'min_smaples_leaf': 26}. Best is trial 5 with value: -3.3554945071958877.\n",
            "[I 2024-04-22 16:55:48,601] Trial 20 finished with value: -1.3774319962068908 and parameters: {'n_estimators': 167, 'max_depth': 50, 'min_samples_split': 25, 'min_smaples_leaf': 7}. Best is trial 5 with value: -3.3554945071958877.\n",
            "[I 2024-04-22 16:55:49,559] Trial 21 finished with value: -2.5147875839664926 and parameters: {'n_estimators': 104, 'max_depth': 43, 'min_samples_split': 23, 'min_smaples_leaf': 24}. Best is trial 5 with value: -3.3554945071958877.\n",
            "[I 2024-04-22 16:55:56,020] Trial 22 finished with value: -0.6643341589247033 and parameters: {'n_estimators': 794, 'max_depth': 13, 'min_samples_split': 13, 'min_smaples_leaf': 4}. Best is trial 5 with value: -3.3554945071958877.\n",
            "[I 2024-04-22 16:56:02,522] Trial 23 finished with value: -0.5280159844775779 and parameters: {'n_estimators': 877, 'max_depth': 35, 'min_samples_split': 12, 'min_smaples_leaf': 3}. Best is trial 5 with value: -3.3554945071958877.\n",
            "[I 2024-04-22 16:56:06,196] Trial 24 finished with value: -2.3539281317936895 and parameters: {'n_estimators': 380, 'max_depth': 23, 'min_samples_split': 24, 'min_smaples_leaf': 21}. Best is trial 5 with value: -3.3554945071958877.\n",
            "[I 2024-04-22 16:56:12,748] Trial 25 finished with value: -2.446268157422711 and parameters: {'n_estimators': 899, 'max_depth': 29, 'min_samples_split': 5, 'min_smaples_leaf': 23}. Best is trial 5 with value: -3.3554945071958877.\n",
            "[I 2024-04-22 16:56:19,336] Trial 26 finished with value: -2.1429652583787435 and parameters: {'n_estimators': 785, 'max_depth': 33, 'min_samples_split': 25, 'min_smaples_leaf': 16}. Best is trial 5 with value: -3.3554945071958877.\n",
            "[I 2024-04-22 16:56:23,453] Trial 27 finished with value: -0.5828421977744994 and parameters: {'n_estimators': 570, 'max_depth': 27, 'min_samples_split': 2, 'min_smaples_leaf': 4}. Best is trial 5 with value: -3.3554945071958877.\n",
            "[I 2024-04-22 16:56:24,347] Trial 28 finished with value: -2.18272209855282 and parameters: {'n_estimators': 128, 'max_depth': 36, 'min_samples_split': 11, 'min_smaples_leaf': 17}. Best is trial 5 with value: -3.3554945071958877.\n",
            "[I 2024-04-22 16:56:31,675] Trial 29 finished with value: -2.5835364217814987 and parameters: {'n_estimators': 917, 'max_depth': 20, 'min_samples_split': 14, 'min_smaples_leaf': 25}. Best is trial 5 with value: -3.3554945071958877.\n",
            "[I 2024-04-22 16:56:33,881] Trial 30 finished with value: -1.0129146852035507 and parameters: {'n_estimators': 306, 'max_depth': 13, 'min_samples_split': 10, 'min_smaples_leaf': 6}. Best is trial 5 with value: -3.3554945071958877.\n",
            "[I 2024-04-22 16:56:40,069] Trial 31 finished with value: -2.8929746898269606 and parameters: {'n_estimators': 937, 'max_depth': 43, 'min_samples_split': 21, 'min_smaples_leaf': 28}. Best is trial 5 with value: -3.3554945071958877.\n",
            "[I 2024-04-22 16:56:46,846] Trial 32 finished with value: -2.2253821496748127 and parameters: {'n_estimators': 824, 'max_depth': 17, 'min_samples_split': 29, 'min_smaples_leaf': 18}. Best is trial 5 with value: -3.3554945071958877.\n",
            "[I 2024-04-22 16:56:52,739] Trial 33 finished with value: -0.6267637038753142 and parameters: {'n_estimators': 827, 'max_depth': 46, 'min_samples_split': 11, 'min_smaples_leaf': 4}. Best is trial 5 with value: -3.3554945071958877.\n",
            "[I 2024-04-22 16:56:55,124] Trial 34 finished with value: -2.883950918780766 and parameters: {'n_estimators': 305, 'max_depth': 27, 'min_samples_split': 27, 'min_smaples_leaf': 28}. Best is trial 5 with value: -3.3554945071958877.\n",
            "[I 2024-04-22 16:56:56,458] Trial 35 finished with value: -1.359027784444915 and parameters: {'n_estimators': 106, 'max_depth': 30, 'min_samples_split': 14, 'min_smaples_leaf': 8}. Best is trial 5 with value: -3.3554945071958877.\n",
            "[I 2024-04-22 16:56:58,114] Trial 36 finished with value: -1.8430752496846714 and parameters: {'n_estimators': 207, 'max_depth': 23, 'min_samples_split': 31, 'min_smaples_leaf': 11}. Best is trial 5 with value: -3.3554945071958877.\n",
            "[I 2024-04-22 16:57:01,849] Trial 37 finished with value: -3.35120988364364 and parameters: {'n_estimators': 567, 'max_depth': 38, 'min_samples_split': 13, 'min_smaples_leaf': 32}. Best is trial 5 with value: -3.3554945071958877.\n",
            "[I 2024-04-22 16:57:09,441] Trial 38 finished with value: -1.5744708619605006 and parameters: {'n_estimators': 967, 'max_depth': 20, 'min_samples_split': 17, 'min_smaples_leaf': 10}. Best is trial 5 with value: -3.3554945071958877.\n",
            "[I 2024-04-22 16:57:11,996] Trial 39 finished with value: -2.193134743847743 and parameters: {'n_estimators': 356, 'max_depth': 11, 'min_samples_split': 20, 'min_smaples_leaf': 17}. Best is trial 5 with value: -3.3554945071958877.\n",
            "[I 2024-04-22 16:57:13,023] Trial 40 finished with value: -1.5824928961187292 and parameters: {'n_estimators': 146, 'max_depth': 21, 'min_samples_split': 30, 'min_smaples_leaf': 8}. Best is trial 5 with value: -3.3554945071958877.\n",
            "[I 2024-04-22 16:57:14,625] Trial 41 finished with value: -1.6289134651220045 and parameters: {'n_estimators': 230, 'max_depth': 30, 'min_samples_split': 32, 'min_smaples_leaf': 8}. Best is trial 5 with value: -3.3554945071958877.\n",
            "[I 2024-04-22 16:57:19,304] Trial 42 finished with value: -2.512483401043687 and parameters: {'n_estimators': 705, 'max_depth': 41, 'min_samples_split': 9, 'min_smaples_leaf': 24}. Best is trial 5 with value: -3.3554945071958877.\n",
            "[I 2024-04-22 16:57:23,507] Trial 43 finished with value: -2.228259188335444 and parameters: {'n_estimators': 431, 'max_depth': 35, 'min_samples_split': 21, 'min_smaples_leaf': 18}. Best is trial 5 with value: -3.3554945071958877.\n",
            "[I 2024-04-22 16:57:24,800] Trial 44 finished with value: -1.0175800585339576 and parameters: {'n_estimators': 181, 'max_depth': 44, 'min_samples_split': 11, 'min_smaples_leaf': 6}. Best is trial 5 with value: -3.3554945071958877.\n",
            "[I 2024-04-22 16:57:25,777] Trial 45 finished with value: -0.9557997416398706 and parameters: {'n_estimators': 136, 'max_depth': 34, 'min_samples_split': 23, 'min_smaples_leaf': 1}. Best is trial 5 with value: -3.3554945071958877.\n",
            "[I 2024-04-22 16:57:29,651] Trial 46 finished with value: -1.1786645991154217 and parameters: {'n_estimators': 561, 'max_depth': 19, 'min_samples_split': 22, 'min_smaples_leaf': 6}. Best is trial 5 with value: -3.3554945071958877.\n",
            "[I 2024-04-22 16:57:35,679] Trial 47 finished with value: -1.4088407555011098 and parameters: {'n_estimators': 722, 'max_depth': 25, 'min_samples_split': 31, 'min_smaples_leaf': 5}. Best is trial 5 with value: -3.3554945071958877.\n",
            "[I 2024-04-22 16:57:38,458] Trial 48 finished with value: -3.020021425534875 and parameters: {'n_estimators': 407, 'max_depth': 14, 'min_samples_split': 30, 'min_smaples_leaf': 29}. Best is trial 5 with value: -3.3554945071958877.\n",
            "[I 2024-04-22 16:57:40,698] Trial 49 finished with value: -2.225586352437637 and parameters: {'n_estimators': 332, 'max_depth': 37, 'min_samples_split': 27, 'min_smaples_leaf': 18}. Best is trial 5 with value: -3.3554945071958877.\n",
            "[I 2024-04-22 16:57:44,508] Trial 50 finished with value: -3.0205407054206965 and parameters: {'n_estimators': 577, 'max_depth': 19, 'min_samples_split': 4, 'min_smaples_leaf': 29}. Best is trial 5 with value: -3.3554945071958877.\n",
            "[I 2024-04-22 16:57:52,050] Trial 51 finished with value: -1.8085619892466454 and parameters: {'n_estimators': 911, 'max_depth': 35, 'min_samples_split': 12, 'min_smaples_leaf': 12}. Best is trial 5 with value: -3.3554945071958877.\n",
            "[I 2024-04-22 16:57:57,018] Trial 52 finished with value: -2.5839196619396367 and parameters: {'n_estimators': 754, 'max_depth': 46, 'min_samples_split': 29, 'min_smaples_leaf': 25}. Best is trial 5 with value: -3.3554945071958877.\n",
            "[I 2024-04-22 16:58:02,770] Trial 53 finished with value: -3.0176384183319036 and parameters: {'n_estimators': 678, 'max_depth': 13, 'min_samples_split': 7, 'min_smaples_leaf': 29}. Best is trial 5 with value: -3.3554945071958877.\n",
            "[I 2024-04-22 16:58:07,044] Trial 54 finished with value: -2.39630917897774 and parameters: {'n_estimators': 646, 'max_depth': 10, 'min_samples_split': 5, 'min_smaples_leaf': 22}. Best is trial 5 with value: -3.3554945071958877.\n",
            "[I 2024-04-22 16:58:07,784] Trial 55 finished with value: -2.43754862948081 and parameters: {'n_estimators': 104, 'max_depth': 16, 'min_samples_split': 19, 'min_smaples_leaf': 23}. Best is trial 5 with value: -3.3554945071958877.\n",
            "[I 2024-04-22 16:58:12,542] Trial 56 finished with value: -1.4618342007848129 and parameters: {'n_estimators': 687, 'max_depth': 19, 'min_samples_split': 24, 'min_smaples_leaf': 8}. Best is trial 5 with value: -3.3554945071958877.\n",
            "[I 2024-04-22 16:58:16,351] Trial 57 finished with value: -2.8864409707168814 and parameters: {'n_estimators': 393, 'max_depth': 40, 'min_samples_split': 22, 'min_smaples_leaf': 28}. Best is trial 5 with value: -3.3554945071958877.\n",
            "[I 2024-04-22 16:58:21,085] Trial 58 finished with value: -1.8126314335681655 and parameters: {'n_estimators': 692, 'max_depth': 33, 'min_samples_split': 4, 'min_smaples_leaf': 12}. Best is trial 5 with value: -3.3554945071958877.\n",
            "[I 2024-04-22 16:58:23,430] Trial 59 finished with value: -1.9989650953868197 and parameters: {'n_estimators': 338, 'max_depth': 20, 'min_samples_split': 32, 'min_smaples_leaf': 13}. Best is trial 5 with value: -3.3554945071958877.\n",
            "[I 2024-04-22 16:58:30,896] Trial 60 finished with value: -2.188295676304485 and parameters: {'n_estimators': 903, 'max_depth': 35, 'min_samples_split': 26, 'min_smaples_leaf': 17}. Best is trial 5 with value: -3.3554945071958877.\n",
            "[I 2024-04-22 16:58:34,998] Trial 61 finished with value: -2.512550957794729 and parameters: {'n_estimators': 619, 'max_depth': 30, 'min_samples_split': 8, 'min_smaples_leaf': 24}. Best is trial 5 with value: -3.3554945071958877.\n",
            "[I 2024-04-22 16:58:37,470] Trial 62 finished with value: -1.1770931305423438 and parameters: {'n_estimators': 352, 'max_depth': 10, 'min_samples_split': 22, 'min_smaples_leaf': 6}. Best is trial 5 with value: -3.3554945071958877.\n",
            "[I 2024-04-22 16:58:45,206] Trial 63 finished with value: -1.8816787292253134 and parameters: {'n_estimators': 947, 'max_depth': 49, 'min_samples_split': 30, 'min_smaples_leaf': 12}. Best is trial 5 with value: -3.3554945071958877.\n",
            "[I 2024-04-22 16:58:45,982] Trial 64 finished with value: -3.21419950324322 and parameters: {'n_estimators': 113, 'max_depth': 48, 'min_samples_split': 15, 'min_smaples_leaf': 31}. Best is trial 5 with value: -3.3554945071958877.\n",
            "[I 2024-04-22 16:58:52,977] Trial 65 finished with value: -1.9206662024586634 and parameters: {'n_estimators': 968, 'max_depth': 44, 'min_samples_split': 11, 'min_smaples_leaf': 13}. Best is trial 5 with value: -3.3554945071958877.\n",
            "[I 2024-04-22 16:58:59,454] Trial 66 finished with value: -2.22687127641763 and parameters: {'n_estimators': 866, 'max_depth': 22, 'min_samples_split': 7, 'min_smaples_leaf': 18}. Best is trial 5 with value: -3.3554945071958877.\n",
            "[I 2024-04-22 16:59:06,877] Trial 67 finished with value: -0.836517643184318 and parameters: {'n_estimators': 943, 'max_depth': 38, 'min_samples_split': 19, 'min_smaples_leaf': 4}. Best is trial 5 with value: -3.3554945071958877.\n",
            "[I 2024-04-22 16:59:11,467] Trial 68 finished with value: -2.1885992251320854 and parameters: {'n_estimators': 654, 'max_depth': 50, 'min_samples_split': 6, 'min_smaples_leaf': 17}. Best is trial 5 with value: -3.3554945071958877.\n",
            "[I 2024-04-22 16:59:17,369] Trial 69 finished with value: -2.447246812217924 and parameters: {'n_estimators': 890, 'max_depth': 40, 'min_samples_split': 23, 'min_smaples_leaf': 23}. Best is trial 5 with value: -3.3554945071958877.\n",
            "[I 2024-04-22 16:59:21,440] Trial 70 finished with value: -2.6743598911707034 and parameters: {'n_estimators': 423, 'max_depth': 22, 'min_samples_split': 27, 'min_smaples_leaf': 26}. Best is trial 5 with value: -3.3554945071958877.\n",
            "[I 2024-04-22 16:59:27,368] Trial 71 finished with value: -2.1891145309111506 and parameters: {'n_estimators': 881, 'max_depth': 47, 'min_samples_split': 17, 'min_smaples_leaf': 17}. Best is trial 5 with value: -3.3554945071958877.\n",
            "[I 2024-04-22 16:59:34,054] Trial 72 finished with value: -2.669921828484849 and parameters: {'n_estimators': 819, 'max_depth': 36, 'min_samples_split': 23, 'min_smaples_leaf': 26}. Best is trial 5 with value: -3.3554945071958877.\n",
            "[I 2024-04-22 16:59:40,416] Trial 73 finished with value: -0.6635216010334904 and parameters: {'n_estimators': 901, 'max_depth': 23, 'min_samples_split': 13, 'min_smaples_leaf': 4}. Best is trial 5 with value: -3.3554945071958877.\n",
            "[I 2024-04-22 16:59:45,208] Trial 74 finished with value: -2.2248062520320206 and parameters: {'n_estimators': 621, 'max_depth': 11, 'min_samples_split': 16, 'min_smaples_leaf': 18}. Best is trial 5 with value: -3.3554945071958877.\n",
            "[I 2024-04-22 16:59:48,367] Trial 75 finished with value: -0.2683468401226078 and parameters: {'n_estimators': 358, 'max_depth': 34, 'min_samples_split': 2, 'min_smaples_leaf': 2}. Best is trial 5 with value: -3.3554945071958877.\n",
            "[I 2024-04-22 16:59:54,037] Trial 76 finished with value: -2.188264258351193 and parameters: {'n_estimators': 841, 'max_depth': 24, 'min_samples_split': 5, 'min_smaples_leaf': 17}. Best is trial 5 with value: -3.3554945071958877.\n",
            "[I 2024-04-22 17:00:00,868] Trial 77 finished with value: -0.8579725934785569 and parameters: {'n_estimators': 793, 'max_depth': 18, 'min_samples_split': 21, 'min_smaples_leaf': 3}. Best is trial 5 with value: -3.3554945071958877.\n",
            "[I 2024-04-22 17:00:01,879] Trial 78 finished with value: -2.3416692428075647 and parameters: {'n_estimators': 146, 'max_depth': 31, 'min_samples_split': 18, 'min_smaples_leaf': 21}. Best is trial 5 with value: -3.3554945071958877.\n",
            "[I 2024-04-22 17:00:07,072] Trial 79 finished with value: -1.6905936555480103 and parameters: {'n_estimators': 754, 'max_depth': 50, 'min_samples_split': 18, 'min_smaples_leaf': 11}. Best is trial 5 with value: -3.3554945071958877.\n",
            "[I 2024-04-22 17:00:15,533] Trial 80 finished with value: -0.6194785124596972 and parameters: {'n_estimators': 816, 'max_depth': 21, 'min_samples_split': 15, 'min_smaples_leaf': 3}. Best is trial 5 with value: -3.3554945071958877.\n",
            "[I 2024-04-22 17:00:16,392] Trial 81 finished with value: -2.4512749131166336 and parameters: {'n_estimators': 122, 'max_depth': 49, 'min_samples_split': 27, 'min_smaples_leaf': 23}. Best is trial 5 with value: -3.3554945071958877.\n",
            "[I 2024-04-22 17:00:19,697] Trial 82 finished with value: -1.4602922549877522 and parameters: {'n_estimators': 468, 'max_depth': 17, 'min_samples_split': 6, 'min_smaples_leaf': 9}. Best is trial 5 with value: -3.3554945071958877.\n",
            "[I 2024-04-22 17:00:23,812] Trial 83 finished with value: -1.51773994149428 and parameters: {'n_estimators': 594, 'max_depth': 39, 'min_samples_split': 22, 'min_smaples_leaf': 9}. Best is trial 5 with value: -3.3554945071958877.\n",
            "[I 2024-04-22 17:00:31,553] Trial 84 finished with value: -2.3092774612439455 and parameters: {'n_estimators': 960, 'max_depth': 40, 'min_samples_split': 19, 'min_smaples_leaf': 20}. Best is trial 5 with value: -3.3554945071958877.\n",
            "[I 2024-04-22 17:00:34,754] Trial 85 finished with value: -2.590287300925192 and parameters: {'n_estimators': 478, 'max_depth': 20, 'min_samples_split': 13, 'min_smaples_leaf': 25}. Best is trial 5 with value: -3.3554945071958877.\n",
            "[I 2024-04-22 17:00:35,634] Trial 86 finished with value: -0.26917956654983677 and parameters: {'n_estimators': 112, 'max_depth': 14, 'min_samples_split': 3, 'min_smaples_leaf': 2}. Best is trial 5 with value: -3.3554945071958877.\n",
            "[I 2024-04-22 17:00:43,103] Trial 87 finished with value: -0.7411266473641217 and parameters: {'n_estimators': 870, 'max_depth': 38, 'min_samples_split': 16, 'min_smaples_leaf': 4}. Best is trial 5 with value: -3.3554945071958877.\n",
            "[I 2024-04-22 17:00:46,782] Trial 88 finished with value: -2.0187750203718275 and parameters: {'n_estimators': 542, 'max_depth': 29, 'min_samples_split': 7, 'min_smaples_leaf': 14}. Best is trial 5 with value: -3.3554945071958877.\n",
            "[I 2024-04-22 17:00:49,992] Trial 89 finished with value: -0.8394808718579745 and parameters: {'n_estimators': 459, 'max_depth': 35, 'min_samples_split': 21, 'min_smaples_leaf': 2}. Best is trial 5 with value: -3.3554945071958877.\n",
            "[I 2024-04-22 17:00:54,153] Trial 90 finished with value: -2.886145637139836 and parameters: {'n_estimators': 437, 'max_depth': 35, 'min_samples_split': 17, 'min_smaples_leaf': 28}. Best is trial 5 with value: -3.3554945071958877.\n",
            "[I 2024-04-22 17:00:58,784] Trial 91 finished with value: -2.3498937381255405 and parameters: {'n_estimators': 693, 'max_depth': 16, 'min_samples_split': 4, 'min_smaples_leaf': 21}. Best is trial 5 with value: -3.3554945071958877.\n",
            "[I 2024-04-22 17:00:59,670] Trial 92 finished with value: -2.24899482199894 and parameters: {'n_estimators': 123, 'max_depth': 34, 'min_samples_split': 31, 'min_smaples_leaf': 19}. Best is trial 5 with value: -3.3554945071958877.\n",
            "[I 2024-04-22 17:01:02,731] Trial 93 finished with value: -2.2290591170107783 and parameters: {'n_estimators': 449, 'max_depth': 36, 'min_samples_split': 16, 'min_smaples_leaf': 18}. Best is trial 5 with value: -3.3554945071958877.\n",
            "[I 2024-04-22 17:01:10,252] Trial 94 finished with value: -3.018570168805062 and parameters: {'n_estimators': 948, 'max_depth': 25, 'min_samples_split': 31, 'min_smaples_leaf': 29}. Best is trial 5 with value: -3.3554945071958877.\n",
            "[I 2024-04-22 17:01:12,332] Trial 95 finished with value: -0.25149358249236387 and parameters: {'n_estimators': 276, 'max_depth': 12, 'min_samples_split': 5, 'min_smaples_leaf': 1}. Best is trial 5 with value: -3.3554945071958877.\n",
            "[I 2024-04-22 17:01:13,630] Trial 96 finished with value: -1.7138078574802456 and parameters: {'n_estimators': 185, 'max_depth': 38, 'min_samples_split': 4, 'min_smaples_leaf': 11}. Best is trial 5 with value: -3.3554945071958877.\n",
            "[I 2024-04-22 17:01:20,686] Trial 97 finished with value: -1.6846268468058707 and parameters: {'n_estimators': 861, 'max_depth': 10, 'min_samples_split': 27, 'min_smaples_leaf': 10}. Best is trial 5 with value: -3.3554945071958877.\n",
            "[I 2024-04-22 17:01:22,081] Trial 98 finished with value: -3.033636449467095 and parameters: {'n_estimators': 206, 'max_depth': 38, 'min_samples_split': 21, 'min_smaples_leaf': 29}. Best is trial 5 with value: -3.3554945071958877.\n",
            "[I 2024-04-22 17:01:27,469] Trial 99 finished with value: -1.0177351233598837 and parameters: {'n_estimators': 762, 'max_depth': 42, 'min_samples_split': 10, 'min_smaples_leaf': 6}. Best is trial 5 with value: -3.3554945071958877.\n",
            "[I 2024-04-22 17:01:33,994] Trial 100 finished with value: -2.0564820855114063 and parameters: {'n_estimators': 776, 'max_depth': 43, 'min_samples_split': 32, 'min_smaples_leaf': 14}. Best is trial 5 with value: -3.3554945071958877.\n",
            "[I 2024-04-22 17:01:36,870] Trial 101 finished with value: -3.1412018842417635 and parameters: {'n_estimators': 435, 'max_depth': 41, 'min_samples_split': 12, 'min_smaples_leaf': 30}. Best is trial 5 with value: -3.3554945071958877.\n",
            "[I 2024-04-22 17:01:42,632] Trial 102 finished with value: -2.5850184290083438 and parameters: {'n_estimators': 873, 'max_depth': 27, 'min_samples_split': 25, 'min_smaples_leaf': 25}. Best is trial 5 with value: -3.3554945071958877.\n",
            "[I 2024-04-22 17:01:44,240] Trial 103 finished with value: -2.7954353049185814 and parameters: {'n_estimators': 192, 'max_depth': 47, 'min_samples_split': 17, 'min_smaples_leaf': 27}. Best is trial 5 with value: -3.3554945071958877.\n",
            "[I 2024-04-22 17:01:47,874] Trial 104 finished with value: -0.5265367209193113 and parameters: {'n_estimators': 388, 'max_depth': 46, 'min_samples_split': 14, 'min_smaples_leaf': 1}. Best is trial 5 with value: -3.3554945071958877.\n",
            "[I 2024-04-22 17:01:53,860] Trial 105 finished with value: -3.244042115614937 and parameters: {'n_estimators': 915, 'max_depth': 13, 'min_samples_split': 11, 'min_smaples_leaf': 31}. Best is trial 5 with value: -3.3554945071958877.\n",
            "[I 2024-04-22 17:02:02,248] Trial 106 finished with value: -2.08319105699395 and parameters: {'n_estimators': 956, 'max_depth': 33, 'min_samples_split': 21, 'min_smaples_leaf': 15}. Best is trial 5 with value: -3.3554945071958877.\n",
            "[I 2024-04-22 17:02:04,668] Trial 107 finished with value: -2.5789237798634024 and parameters: {'n_estimators': 364, 'max_depth': 23, 'min_samples_split': 22, 'min_smaples_leaf': 25}. Best is trial 5 with value: -3.3554945071958877.\n",
            "[I 2024-04-22 17:02:10,257] Trial 108 finished with value: -2.143401343947513 and parameters: {'n_estimators': 813, 'max_depth': 42, 'min_samples_split': 4, 'min_smaples_leaf': 16}. Best is trial 5 with value: -3.3554945071958877.\n",
            "[I 2024-04-22 17:02:12,075] Trial 109 finished with value: -3.0169251646782613 and parameters: {'n_estimators': 151, 'max_depth': 32, 'min_samples_split': 15, 'min_smaples_leaf': 29}. Best is trial 5 with value: -3.3554945071958877.\n",
            "[I 2024-04-22 17:02:15,112] Trial 110 finished with value: -2.583676494537868 and parameters: {'n_estimators': 416, 'max_depth': 14, 'min_samples_split': 6, 'min_smaples_leaf': 25}. Best is trial 5 with value: -3.3554945071958877.\n",
            "[I 2024-04-22 17:02:19,485] Trial 111 finished with value: -2.4478638484502055 and parameters: {'n_estimators': 657, 'max_depth': 14, 'min_samples_split': 4, 'min_smaples_leaf': 23}. Best is trial 5 with value: -3.3554945071958877.\n",
            "[I 2024-04-22 17:02:20,664] Trial 112 finished with value: -0.9652296588328081 and parameters: {'n_estimators': 165, 'max_depth': 43, 'min_samples_split': 23, 'min_smaples_leaf': 3}. Best is trial 5 with value: -3.3554945071958877.\n",
            "[I 2024-04-22 17:02:21,910] Trial 113 finished with value: -1.8244258624235492 and parameters: {'n_estimators': 176, 'max_depth': 50, 'min_samples_split': 13, 'min_smaples_leaf': 12}. Best is trial 5 with value: -3.3554945071958877.\n",
            "[I 2024-04-22 17:02:28,686] Trial 114 finished with value: -2.585393216910139 and parameters: {'n_estimators': 832, 'max_depth': 48, 'min_samples_split': 32, 'min_smaples_leaf': 25}. Best is trial 5 with value: -3.3554945071958877.\n",
            "[I 2024-04-22 17:02:31,683] Trial 115 finished with value: -2.2279256884007514 and parameters: {'n_estimators': 439, 'max_depth': 13, 'min_samples_split': 26, 'min_smaples_leaf': 18}. Best is trial 5 with value: -3.3554945071958877.\n",
            "[I 2024-04-22 17:02:34,972] Trial 116 finished with value: -2.1453853090502917 and parameters: {'n_estimators': 482, 'max_depth': 47, 'min_samples_split': 5, 'min_smaples_leaf': 16}. Best is trial 5 with value: -3.3554945071958877.\n",
            "[I 2024-04-22 17:02:35,803] Trial 117 finished with value: -0.6029332607185515 and parameters: {'n_estimators': 110, 'max_depth': 29, 'min_samples_split': 3, 'min_smaples_leaf': 4}. Best is trial 5 with value: -3.3554945071958877.\n",
            "[I 2024-04-22 17:02:38,059] Trial 118 finished with value: -2.2601111073789637 and parameters: {'n_estimators': 205, 'max_depth': 36, 'min_samples_split': 25, 'min_smaples_leaf': 19}. Best is trial 5 with value: -3.3554945071958877.\n",
            "[I 2024-04-22 17:02:44,732] Trial 119 finished with value: -2.8933147244913964 and parameters: {'n_estimators': 966, 'max_depth': 25, 'min_samples_split': 10, 'min_smaples_leaf': 28}. Best is trial 5 with value: -3.3554945071958877.\n",
            "[I 2024-04-22 17:02:46,732] Trial 120 finished with value: -3.335343495634837 and parameters: {'n_estimators': 301, 'max_depth': 49, 'min_samples_split': 2, 'min_smaples_leaf': 32}. Best is trial 5 with value: -3.3554945071958877.\n",
            "[I 2024-04-22 17:02:47,677] Trial 121 finished with value: -3.331281148725567 and parameters: {'n_estimators': 138, 'max_depth': 46, 'min_samples_split': 18, 'min_smaples_leaf': 32}. Best is trial 5 with value: -3.3554945071958877.\n",
            "[I 2024-04-22 17:02:48,834] Trial 122 finished with value: -2.180893275513612 and parameters: {'n_estimators': 166, 'max_depth': 32, 'min_samples_split': 32, 'min_smaples_leaf': 17}. Best is trial 5 with value: -3.3554945071958877.\n",
            "[I 2024-04-22 17:02:54,462] Trial 123 finished with value: -2.349138367864823 and parameters: {'n_estimators': 667, 'max_depth': 38, 'min_samples_split': 16, 'min_smaples_leaf': 21}. Best is trial 5 with value: -3.3554945071958877.\n",
            "[I 2024-04-22 17:02:58,816] Trial 124 finished with value: -1.4616602437082933 and parameters: {'n_estimators': 626, 'max_depth': 46, 'min_samples_split': 3, 'min_smaples_leaf': 9}. Best is trial 5 with value: -3.3554945071958877.\n",
            "[I 2024-04-22 17:03:06,498] Trial 125 finished with value: -2.3093191596480245 and parameters: {'n_estimators': 956, 'max_depth': 46, 'min_samples_split': 16, 'min_smaples_leaf': 20}. Best is trial 5 with value: -3.3554945071958877.\n",
            "[I 2024-04-22 17:03:08,915] Trial 126 finished with value: -1.8252880687289132 and parameters: {'n_estimators': 349, 'max_depth': 17, 'min_samples_split': 16, 'min_smaples_leaf': 12}. Best is trial 5 with value: -3.3554945071958877.\n",
            "[I 2024-04-22 17:03:13,037] Trial 127 finished with value: -3.3565428613298978 and parameters: {'n_estimators': 625, 'max_depth': 13, 'min_samples_split': 32, 'min_smaples_leaf': 32}. Best is trial 127 with value: -3.3565428613298978.\n",
            "[I 2024-04-22 17:03:19,193] Trial 128 finished with value: -2.7738210063143405 and parameters: {'n_estimators': 729, 'max_depth': 31, 'min_samples_split': 11, 'min_smaples_leaf': 27}. Best is trial 127 with value: -3.3565428613298978.\n",
            "[I 2024-04-22 17:03:23,957] Trial 129 finished with value: -2.772486343786672 and parameters: {'n_estimators': 716, 'max_depth': 16, 'min_samples_split': 30, 'min_smaples_leaf': 27}. Best is trial 127 with value: -3.3565428613298978.\n",
            "[I 2024-04-22 17:03:31,650] Trial 130 finished with value: -2.0118404527960916 and parameters: {'n_estimators': 955, 'max_depth': 39, 'min_samples_split': 21, 'min_smaples_leaf': 14}. Best is trial 127 with value: -3.3565428613298978.\n",
            "[I 2024-04-22 17:03:38,905] Trial 131 finished with value: -0.20811933698157475 and parameters: {'n_estimators': 940, 'max_depth': 45, 'min_samples_split': 3, 'min_smaples_leaf': 1}. Best is trial 127 with value: -3.3565428613298978.\n",
            "[I 2024-04-22 17:03:42,326] Trial 132 finished with value: -1.4550518586360859 and parameters: {'n_estimators': 439, 'max_depth': 43, 'min_samples_split': 32, 'min_smaples_leaf': 5}. Best is trial 127 with value: -3.3565428613298978.\n",
            "[I 2024-04-22 17:03:47,252] Trial 133 finished with value: -2.780589054576639 and parameters: {'n_estimators': 635, 'max_depth': 25, 'min_samples_split': 32, 'min_smaples_leaf': 27}. Best is trial 127 with value: -3.3565428613298978.\n",
            "[I 2024-04-22 17:03:53,165] Trial 134 finished with value: -1.464731555683009 and parameters: {'n_estimators': 855, 'max_depth': 29, 'min_samples_split': 14, 'min_smaples_leaf': 9}. Best is trial 127 with value: -3.3565428613298978.\n",
            "[I 2024-04-22 17:03:54,247] Trial 135 finished with value: -3.3441734186875083 and parameters: {'n_estimators': 150, 'max_depth': 45, 'min_samples_split': 27, 'min_smaples_leaf': 32}. Best is trial 127 with value: -3.3565428613298978.\n",
            "[I 2024-04-22 17:04:01,914] Trial 136 finished with value: -3.248216874015752 and parameters: {'n_estimators': 997, 'max_depth': 32, 'min_samples_split': 25, 'min_smaples_leaf': 31}. Best is trial 127 with value: -3.3565428613298978.\n",
            "[I 2024-04-22 17:04:08,635] Trial 137 finished with value: -0.8680231644643486 and parameters: {'n_estimators': 865, 'max_depth': 20, 'min_samples_split': 15, 'min_smaples_leaf': 5}. Best is trial 127 with value: -3.3565428613298978.\n",
            "[I 2024-04-22 17:04:15,476] Trial 138 finished with value: -2.3956754150209165 and parameters: {'n_estimators': 959, 'max_depth': 34, 'min_samples_split': 9, 'min_smaples_leaf': 22}. Best is trial 127 with value: -3.3565428613298978.\n",
            "[I 2024-04-22 17:04:19,981] Trial 139 finished with value: -2.3946183652301656 and parameters: {'n_estimators': 656, 'max_depth': 24, 'min_samples_split': 5, 'min_smaples_leaf': 22}. Best is trial 127 with value: -3.3565428613298978.\n",
            "[I 2024-04-22 17:04:24,761] Trial 140 finished with value: -2.8937692463901774 and parameters: {'n_estimators': 568, 'max_depth': 41, 'min_samples_split': 18, 'min_smaples_leaf': 28}. Best is trial 127 with value: -3.3565428613298978.\n",
            "[I 2024-04-22 17:04:28,804] Trial 141 finished with value: -1.9570384071953424 and parameters: {'n_estimators': 597, 'max_depth': 32, 'min_samples_split': 29, 'min_smaples_leaf': 13}. Best is trial 127 with value: -3.3565428613298978.\n",
            "[I 2024-04-22 17:04:30,311] Trial 142 finished with value: -2.3097055278715612 and parameters: {'n_estimators': 220, 'max_depth': 11, 'min_samples_split': 25, 'min_smaples_leaf': 20}. Best is trial 127 with value: -3.3565428613298978.\n",
            "[I 2024-04-22 17:04:37,104] Trial 143 finished with value: -0.28374237853215967 and parameters: {'n_estimators': 734, 'max_depth': 18, 'min_samples_split': 6, 'min_smaples_leaf': 1}. Best is trial 127 with value: -3.3565428613298978.\n",
            "[I 2024-04-22 17:04:39,971] Trial 144 finished with value: -2.0218869219733593 and parameters: {'n_estimators': 415, 'max_depth': 34, 'min_samples_split': 14, 'min_smaples_leaf': 14}. Best is trial 127 with value: -3.3565428613298978.\n",
            "[I 2024-04-22 17:04:46,051] Trial 145 finished with value: -2.671172232191421 and parameters: {'n_estimators': 914, 'max_depth': 24, 'min_samples_split': 17, 'min_smaples_leaf': 26}. Best is trial 127 with value: -3.3565428613298978.\n",
            "[I 2024-04-22 17:04:50,337] Trial 146 finished with value: -3.252113182374271 and parameters: {'n_estimators': 457, 'max_depth': 35, 'min_samples_split': 28, 'min_smaples_leaf': 31}. Best is trial 127 with value: -3.3565428613298978.\n",
            "[I 2024-04-22 17:04:51,981] Trial 147 finished with value: -1.4654890935190679 and parameters: {'n_estimators': 232, 'max_depth': 47, 'min_samples_split': 17, 'min_smaples_leaf': 9}. Best is trial 127 with value: -3.3565428613298978.\n",
            "[I 2024-04-22 17:04:55,488] Trial 148 finished with value: -1.6933282459422359 and parameters: {'n_estimators': 513, 'max_depth': 50, 'min_samples_split': 17, 'min_smaples_leaf': 11}. Best is trial 127 with value: -3.3565428613298978.\n",
            "[I 2024-04-22 17:05:00,921] Trial 149 finished with value: -0.8054033538415432 and parameters: {'n_estimators': 670, 'max_depth': 19, 'min_samples_split': 4, 'min_smaples_leaf': 5}. Best is trial 127 with value: -3.3565428613298978.\n",
            "[I 2024-04-22 17:05:02,864] Trial 150 finished with value: -2.352809362796165 and parameters: {'n_estimators': 215, 'max_depth': 16, 'min_samples_split': 6, 'min_smaples_leaf': 21}. Best is trial 127 with value: -3.3565428613298978.\n",
            "[I 2024-04-22 17:05:04,668] Trial 151 finished with value: -2.1398416517916052 and parameters: {'n_estimators': 263, 'max_depth': 24, 'min_samples_split': 29, 'min_smaples_leaf': 16}. Best is trial 127 with value: -3.3565428613298978.\n",
            "[I 2024-04-22 17:05:11,115] Trial 152 finished with value: -0.34301592906171924 and parameters: {'n_estimators': 701, 'max_depth': 17, 'min_samples_split': 7, 'min_smaples_leaf': 2}. Best is trial 127 with value: -3.3565428613298978.\n",
            "[I 2024-04-22 17:05:13,457] Trial 153 finished with value: -0.418651061535971 and parameters: {'n_estimators': 252, 'max_depth': 21, 'min_samples_split': 7, 'min_smaples_leaf': 3}. Best is trial 127 with value: -3.3565428613298978.\n",
            "[I 2024-04-22 17:05:15,611] Trial 154 finished with value: -1.830313821839636 and parameters: {'n_estimators': 208, 'max_depth': 28, 'min_samples_split': 8, 'min_smaples_leaf': 12}. Best is trial 127 with value: -3.3565428613298978.\n",
            "[I 2024-04-22 17:05:21,096] Trial 155 finished with value: -2.677349472872643 and parameters: {'n_estimators': 553, 'max_depth': 38, 'min_samples_split': 3, 'min_smaples_leaf': 26}. Best is trial 127 with value: -3.3565428613298978.\n",
            "[I 2024-04-22 17:05:30,189] Trial 156 finished with value: -3.1363446903268635 and parameters: {'n_estimators': 665, 'max_depth': 13, 'min_samples_split': 29, 'min_smaples_leaf': 30}. Best is trial 127 with value: -3.3565428613298978.\n",
            "[I 2024-04-22 17:05:31,270] Trial 157 finished with value: -2.5157705220790634 and parameters: {'n_estimators': 155, 'max_depth': 21, 'min_samples_split': 26, 'min_smaples_leaf': 24}. Best is trial 127 with value: -3.3565428613298978.\n",
            "[I 2024-04-22 17:05:33,105] Trial 158 finished with value: -2.1394557615359715 and parameters: {'n_estimators': 266, 'max_depth': 18, 'min_samples_split': 13, 'min_smaples_leaf': 16}. Best is trial 127 with value: -3.3565428613298978.\n",
            "[I 2024-04-22 17:05:37,452] Trial 159 finished with value: -2.51186189418927 and parameters: {'n_estimators': 657, 'max_depth': 25, 'min_samples_split': 16, 'min_smaples_leaf': 24}. Best is trial 127 with value: -3.3565428613298978.\n",
            "[I 2024-04-22 17:05:38,364] Trial 160 finished with value: -3.0114604689750015 and parameters: {'n_estimators': 133, 'max_depth': 20, 'min_samples_split': 24, 'min_smaples_leaf': 29}. Best is trial 127 with value: -3.3565428613298978.\n",
            "[I 2024-04-22 17:05:43,421] Trial 161 finished with value: -2.0861248169877222 and parameters: {'n_estimators': 561, 'max_depth': 31, 'min_samples_split': 5, 'min_smaples_leaf': 15}. Best is trial 127 with value: -3.3565428613298978.\n",
            "[I 2024-04-22 17:05:47,351] Trial 162 finished with value: -1.92772598765491 and parameters: {'n_estimators': 579, 'max_depth': 19, 'min_samples_split': 10, 'min_smaples_leaf': 13}. Best is trial 127 with value: -3.3565428613298978.\n",
            "[I 2024-04-22 17:05:48,198] Trial 163 finished with value: -1.7221282458214275 and parameters: {'n_estimators': 118, 'max_depth': 23, 'min_samples_split': 8, 'min_smaples_leaf': 11}. Best is trial 127 with value: -3.3565428613298978.\n",
            "[I 2024-04-22 17:05:49,604] Trial 164 finished with value: -2.393716721566958 and parameters: {'n_estimators': 207, 'max_depth': 46, 'min_samples_split': 20, 'min_smaples_leaf': 22}. Best is trial 127 with value: -3.3565428613298978.\n",
            "[I 2024-04-22 17:05:56,331] Trial 165 finished with value: -2.2256197997185674 and parameters: {'n_estimators': 811, 'max_depth': 30, 'min_samples_split': 4, 'min_smaples_leaf': 18}. Best is trial 127 with value: -3.3565428613298978.\n",
            "[I 2024-04-22 17:06:00,794] Trial 166 finished with value: -0.8661219397416225 and parameters: {'n_estimators': 628, 'max_depth': 40, 'min_samples_split': 15, 'min_smaples_leaf': 5}. Best is trial 127 with value: -3.3565428613298978.\n",
            "[I 2024-04-22 17:06:03,169] Trial 167 finished with value: -2.2635990481193877 and parameters: {'n_estimators': 355, 'max_depth': 24, 'min_samples_split': 22, 'min_smaples_leaf': 19}. Best is trial 127 with value: -3.3565428613298978.\n",
            "[I 2024-04-22 17:06:06,578] Trial 168 finished with value: -1.3888996602908388 and parameters: {'n_estimators': 420, 'max_depth': 50, 'min_samples_split': 20, 'min_smaples_leaf': 8}. Best is trial 127 with value: -3.3565428613298978.\n",
            "[I 2024-04-22 17:06:08,623] Trial 169 finished with value: -1.011174175917266 and parameters: {'n_estimators': 191, 'max_depth': 16, 'min_samples_split': 9, 'min_smaples_leaf': 6}. Best is trial 127 with value: -3.3565428613298978.\n",
            "[I 2024-04-22 17:06:10,417] Trial 170 finished with value: -3.0243531482384673 and parameters: {'n_estimators': 268, 'max_depth': 21, 'min_samples_split': 7, 'min_smaples_leaf': 29}. Best is trial 127 with value: -3.3565428613298978.\n",
            "[I 2024-04-22 17:06:11,582] Trial 171 finished with value: -3.343713421133274 and parameters: {'n_estimators': 172, 'max_depth': 31, 'min_samples_split': 14, 'min_smaples_leaf': 32}. Best is trial 127 with value: -3.3565428613298978.\n",
            "[I 2024-04-22 17:06:12,932] Trial 172 finished with value: -2.9093687279862595 and parameters: {'n_estimators': 200, 'max_depth': 26, 'min_samples_split': 32, 'min_smaples_leaf': 28}. Best is trial 127 with value: -3.3565428613298978.\n",
            "[I 2024-04-22 17:06:18,562] Trial 173 finished with value: -2.395791718696529 and parameters: {'n_estimators': 836, 'max_depth': 20, 'min_samples_split': 7, 'min_smaples_leaf': 22}. Best is trial 127 with value: -3.3565428613298978.\n",
            "[I 2024-04-22 17:06:26,040] Trial 174 finished with value: -1.4765326106416057 and parameters: {'n_estimators': 937, 'max_depth': 32, 'min_samples_split': 19, 'min_smaples_leaf': 9}. Best is trial 127 with value: -3.3565428613298978.\n",
            "[I 2024-04-22 17:06:31,534] Trial 175 finished with value: -2.016000156037311 and parameters: {'n_estimators': 793, 'max_depth': 17, 'min_samples_split': 12, 'min_smaples_leaf': 14}. Best is trial 127 with value: -3.3565428613298978.\n",
            "[I 2024-04-22 17:06:36,291] Trial 176 finished with value: -2.310530296739118 and parameters: {'n_estimators': 557, 'max_depth': 19, 'min_samples_split': 5, 'min_smaples_leaf': 20}. Best is trial 127 with value: -3.3565428613298978.\n",
            "[I 2024-04-22 17:06:38,729] Trial 177 finished with value: -2.1479421366512277 and parameters: {'n_estimators': 360, 'max_depth': 33, 'min_samples_split': 6, 'min_smaples_leaf': 16}. Best is trial 127 with value: -3.3565428613298978.\n",
            "[I 2024-04-22 17:06:42,827] Trial 178 finished with value: -0.8188576398040484 and parameters: {'n_estimators': 579, 'max_depth': 12, 'min_samples_split': 12, 'min_smaples_leaf': 5}. Best is trial 127 with value: -3.3565428613298978.\n",
            "[I 2024-04-22 17:06:43,907] Trial 179 finished with value: -2.6912033452552557 and parameters: {'n_estimators': 157, 'max_depth': 50, 'min_samples_split': 11, 'min_smaples_leaf': 26}. Best is trial 127 with value: -3.3565428613298978.\n",
            "[I 2024-04-22 17:06:47,347] Trial 180 finished with value: -2.3064309086546038 and parameters: {'n_estimators': 329, 'max_depth': 37, 'min_samples_split': 25, 'min_smaples_leaf': 20}. Best is trial 127 with value: -3.3565428613298978.\n",
            "[I 2024-04-22 17:06:50,833] Trial 181 finished with value: -3.146321387710551 and parameters: {'n_estimators': 524, 'max_depth': 26, 'min_samples_split': 12, 'min_smaples_leaf': 30}. Best is trial 127 with value: -3.3565428613298978.\n",
            "[I 2024-04-22 17:06:56,441] Trial 182 finished with value: -2.5088843786817416 and parameters: {'n_estimators': 848, 'max_depth': 49, 'min_samples_split': 5, 'min_smaples_leaf': 24}. Best is trial 127 with value: -3.3565428613298978.\n",
            "[I 2024-04-22 17:07:03,937] Trial 183 finished with value: -2.510112709130332 and parameters: {'n_estimators': 945, 'max_depth': 17, 'min_samples_split': 4, 'min_smaples_leaf': 24}. Best is trial 127 with value: -3.3565428613298978.\n",
            "[I 2024-04-22 17:07:08,022] Trial 184 finished with value: -2.6745195551011016 and parameters: {'n_estimators': 617, 'max_depth': 44, 'min_samples_split': 6, 'min_smaples_leaf': 26}. Best is trial 127 with value: -3.3565428613298978.\n",
            "[I 2024-04-22 17:07:09,906] Trial 185 finished with value: -2.7808819748283224 and parameters: {'n_estimators': 281, 'max_depth': 16, 'min_samples_split': 7, 'min_smaples_leaf': 27}. Best is trial 127 with value: -3.3565428613298978.\n",
            "[I 2024-04-22 17:07:15,727] Trial 186 finished with value: -3.0169262351041946 and parameters: {'n_estimators': 699, 'max_depth': 31, 'min_samples_split': 13, 'min_smaples_leaf': 29}. Best is trial 127 with value: -3.3565428613298978.\n",
            "[I 2024-04-22 17:07:18,834] Trial 187 finished with value: -1.9265890134841546 and parameters: {'n_estimators': 453, 'max_depth': 43, 'min_samples_split': 15, 'min_smaples_leaf': 13}. Best is trial 127 with value: -3.3565428613298978.\n",
            "[I 2024-04-22 17:07:22,322] Trial 188 finished with value: -2.191291271871466 and parameters: {'n_estimators': 516, 'max_depth': 22, 'min_samples_split': 25, 'min_smaples_leaf': 17}. Best is trial 127 with value: -3.3565428613298978.\n",
            "[I 2024-04-22 17:07:25,342] Trial 189 finished with value: -2.2238034562726856 and parameters: {'n_estimators': 309, 'max_depth': 46, 'min_samples_split': 13, 'min_smaples_leaf': 18}. Best is trial 127 with value: -3.3565428613298978.\n",
            "[I 2024-04-22 17:07:31,630] Trial 190 finished with value: -3.24425770810519 and parameters: {'n_estimators': 916, 'max_depth': 35, 'min_samples_split': 5, 'min_smaples_leaf': 31}. Best is trial 127 with value: -3.3565428613298978.\n",
            "[I 2024-04-22 17:07:36,122] Trial 191 finished with value: -2.670249341458066 and parameters: {'n_estimators': 665, 'max_depth': 23, 'min_samples_split': 6, 'min_smaples_leaf': 26}. Best is trial 127 with value: -3.3565428613298978.\n",
            "[I 2024-04-22 17:07:41,521] Trial 192 finished with value: -2.6711938374793096 and parameters: {'n_estimators': 658, 'max_depth': 31, 'min_samples_split': 29, 'min_smaples_leaf': 26}. Best is trial 127 with value: -3.3565428613298978.\n",
            "[I 2024-04-22 17:07:43,126] Trial 193 finished with value: -2.516403458586775 and parameters: {'n_estimators': 236, 'max_depth': 22, 'min_samples_split': 9, 'min_smaples_leaf': 24}. Best is trial 127 with value: -3.3565428613298978.\n",
            "[I 2024-04-22 17:07:44,028] Trial 194 finished with value: -3.015179631172288 and parameters: {'n_estimators': 130, 'max_depth': 33, 'min_samples_split': 25, 'min_smaples_leaf': 29}. Best is trial 127 with value: -3.3565428613298978.\n",
            "[I 2024-04-22 17:07:46,741] Trial 195 finished with value: -2.8853942758092437 and parameters: {'n_estimators': 408, 'max_depth': 43, 'min_samples_split': 5, 'min_smaples_leaf': 28}. Best is trial 127 with value: -3.3565428613298978.\n",
            "[I 2024-04-22 17:07:48,250] Trial 196 finished with value: -1.1966066474575234 and parameters: {'n_estimators': 214, 'max_depth': 26, 'min_samples_split': 26, 'min_smaples_leaf': 5}. Best is trial 127 with value: -3.3565428613298978.\n",
            "[I 2024-04-22 17:07:51,377] Trial 197 finished with value: -2.3496288172826008 and parameters: {'n_estimators': 306, 'max_depth': 39, 'min_samples_split': 24, 'min_smaples_leaf': 21}. Best is trial 127 with value: -3.3565428613298978.\n",
            "[I 2024-04-22 17:07:56,498] Trial 198 finished with value: -1.8121920322956608 and parameters: {'n_estimators': 725, 'max_depth': 32, 'min_samples_split': 9, 'min_smaples_leaf': 12}. Best is trial 127 with value: -3.3565428613298978.\n",
            "[I 2024-04-22 17:07:58,337] Trial 199 finished with value: -1.9265845549312655 and parameters: {'n_estimators': 263, 'max_depth': 47, 'min_samples_split': 20, 'min_smaples_leaf': 13}. Best is trial 127 with value: -3.3565428613298978.\n",
            "[I 2024-04-22 17:08:01,955] Trial 200 finished with value: -2.2667562033530517 and parameters: {'n_estimators': 516, 'max_depth': 48, 'min_samples_split': 6, 'min_smaples_leaf': 19}. Best is trial 127 with value: -3.3565428613298978.\n",
            "[I 2024-04-22 17:08:06,698] Trial 201 finished with value: -2.8956313450519473 and parameters: {'n_estimators': 555, 'max_depth': 35, 'min_samples_split': 2, 'min_smaples_leaf': 28}. Best is trial 127 with value: -3.3565428613298978.\n",
            "[I 2024-04-22 17:08:12,895] Trial 202 finished with value: -3.136322229433565 and parameters: {'n_estimators': 939, 'max_depth': 33, 'min_samples_split': 23, 'min_smaples_leaf': 30}. Best is trial 127 with value: -3.3565428613298978.\n"
          ]
        }
      ]
    },
    {
      "cell_type": "markdown",
      "source": [
        "Generally, more the number of trials, better is the hyperparameter value and better score. Start with 100"
      ],
      "metadata": {
        "id": "6BqgcpTiniCG"
      }
    },
    {
      "cell_type": "code",
      "source": [
        "# getting our best hyperparameters\n",
        "study.best_params"
      ],
      "metadata": {
        "id": "s1cXC0urn2px",
        "colab": {
          "base_uri": "https://localhost:8080/"
        },
        "outputId": "d4ea65b7-4ba2-4614-a603-5c58b570a42b"
      },
      "execution_count": 33,
      "outputs": [
        {
          "output_type": "execute_result",
          "data": {
            "text/plain": [
              "{'n_estimators': 625,\n",
              " 'max_depth': 13,\n",
              " 'min_samples_split': 32,\n",
              " 'min_smaples_leaf': 32}"
            ]
          },
          "metadata": {},
          "execution_count": 33
        }
      ]
    },
    {
      "cell_type": "code",
      "source": [
        "best_params=study.best_params"
      ],
      "metadata": {
        "id": "R00r-_4kn89q"
      },
      "execution_count": 34,
      "outputs": []
    },
    {
      "cell_type": "markdown",
      "source": [
        "## Optuna visualisation\n",
        "\n",
        "Optuna had four different visualisations:-\n",
        "1. `optuna.plot_optimization_history(study)`\n",
        "2.\n",
        "3.\n",
        "4."
      ],
      "metadata": {
        "id": "K-3H2tHToCMR"
      }
    },
    {
      "cell_type": "code",
      "source": [
        "import matplotlib.pyplot as plt"
      ],
      "metadata": {
        "id": "937UZJnnoKmn"
      },
      "execution_count": 35,
      "outputs": []
    },
    {
      "cell_type": "code",
      "source": [
        "optuna.visualization.plot_optimization_history(study)"
      ],
      "metadata": {
        "id": "vMayFKYcoRgM",
        "colab": {
          "base_uri": "https://localhost:8080/",
          "height": 542
        },
        "outputId": "97c74923-f39d-43fd-ef5f-f5f81e421c23"
      },
      "execution_count": 37,
      "outputs": [
        {
          "output_type": "display_data",
          "data": {
            "text/html": [
              "<html>\n",
              "<head><meta charset=\"utf-8\" /></head>\n",
              "<body>\n",
              "    <div>            <script src=\"https://cdnjs.cloudflare.com/ajax/libs/mathjax/2.7.5/MathJax.js?config=TeX-AMS-MML_SVG\"></script><script type=\"text/javascript\">if (window.MathJax && window.MathJax.Hub && window.MathJax.Hub.Config) {window.MathJax.Hub.Config({SVG: {font: \"STIX-Web\"}});}</script>                <script type=\"text/javascript\">window.PlotlyConfig = {MathJaxConfig: 'local'};</script>\n",
              "        <script charset=\"utf-8\" src=\"https://cdn.plot.ly/plotly-2.24.1.min.js\"></script>                <div id=\"d186d563-b8f1-4964-b9d2-50f188cc1589\" class=\"plotly-graph-div\" style=\"height:525px; width:100%;\"></div>            <script type=\"text/javascript\">                                    window.PLOTLYENV=window.PLOTLYENV || {};                                    if (document.getElementById(\"d186d563-b8f1-4964-b9d2-50f188cc1589\")) {                    Plotly.newPlot(                        \"d186d563-b8f1-4964-b9d2-50f188cc1589\",                        [{\"mode\":\"markers\",\"name\":\"Objective Value\",\"x\":[3,4,5,6,7,8,9,10,11,12,13,14,15,16,17,18,19,20,21,22,23,24,25,26,27,28,29,30,31,32,33,34,35,36,37,38,39,40,41,42,43,44,45,46,47,48,49,50,51,52,53,54,55,56,57,58,59,60,61,62,63,64,65,66,67,68,69,70,71,72,73,74,75,76,77,78,79,80,81,82,83,84,85,86,87,88,89,90,91,92,93,94,95,96,97,98,99,100,101,102,103,104,105,106,107,108,109,110,111,112,113,114,115,116,117,118,119,120,121,122,123,124,125,126,127,128,129,130,131,132,133,134,135,136,137,138,139,140,141,142,143,144,145,146,147,148,149,150,151,152,153,154,155,156,157,158,159,160,161,162,163,164,165,166,167,168,169,170,171,172,173,174,175,176,177,178,179,180,181,182,183,184,185,186,187,188,189,190,191,192,193,194,195,196,197,198,199,200,201,202],\"y\":[-2.3103640559247993,-2.906414579705588,-3.3554945071958877,-1.0175242099148512,-1.573749748791981,-1.813887860660849,-2.1903985938359574,-1.1293598897639092,-2.6930731936911685,-2.0909299360155176,-3.152132459971532,-2.1901665390988017,-2.58577039988041,-3.1371975686269673,-1.7140632580852178,-1.851259709541814,-2.670488115789401,-1.3774319962068908,-2.5147875839664926,-0.6643341589247033,-0.5280159844775779,-2.3539281317936895,-2.446268157422711,-2.1429652583787435,-0.5828421977744994,-2.18272209855282,-2.5835364217814987,-1.0129146852035507,-2.8929746898269606,-2.2253821496748127,-0.6267637038753142,-2.883950918780766,-1.359027784444915,-1.8430752496846714,-3.35120988364364,-1.5744708619605006,-2.193134743847743,-1.5824928961187292,-1.6289134651220045,-2.512483401043687,-2.228259188335444,-1.0175800585339576,-0.9557997416398706,-1.1786645991154217,-1.4088407555011098,-3.020021425534875,-2.225586352437637,-3.0205407054206965,-1.8085619892466454,-2.5839196619396367,-3.0176384183319036,-2.39630917897774,-2.43754862948081,-1.4618342007848129,-2.8864409707168814,-1.8126314335681655,-1.9989650953868197,-2.188295676304485,-2.512550957794729,-1.1770931305423438,-1.8816787292253134,-3.21419950324322,-1.9206662024586634,-2.22687127641763,-0.836517643184318,-2.1885992251320854,-2.447246812217924,-2.6743598911707034,-2.1891145309111506,-2.669921828484849,-0.6635216010334904,-2.2248062520320206,-0.2683468401226078,-2.188264258351193,-0.8579725934785569,-2.3416692428075647,-1.6905936555480103,-0.6194785124596972,-2.4512749131166336,-1.4602922549877522,-1.51773994149428,-2.3092774612439455,-2.590287300925192,-0.26917956654983677,-0.7411266473641217,-2.0187750203718275,-0.8394808718579745,-2.886145637139836,-2.3498937381255405,-2.24899482199894,-2.2290591170107783,-3.018570168805062,-0.25149358249236387,-1.7138078574802456,-1.6846268468058707,-3.033636449467095,-1.0177351233598837,-2.0564820855114063,-3.1412018842417635,-2.5850184290083438,-2.7954353049185814,-0.5265367209193113,-3.244042115614937,-2.08319105699395,-2.5789237798634024,-2.143401343947513,-3.0169251646782613,-2.583676494537868,-2.4478638484502055,-0.9652296588328081,-1.8244258624235492,-2.585393216910139,-2.2279256884007514,-2.1453853090502917,-0.6029332607185515,-2.2601111073789637,-2.8933147244913964,-3.335343495634837,-3.331281148725567,-2.180893275513612,-2.349138367864823,-1.4616602437082933,-2.3093191596480245,-1.8252880687289132,-3.3565428613298978,-2.7738210063143405,-2.772486343786672,-2.0118404527960916,-0.20811933698157475,-1.4550518586360859,-2.780589054576639,-1.464731555683009,-3.3441734186875083,-3.248216874015752,-0.8680231644643486,-2.3956754150209165,-2.3946183652301656,-2.8937692463901774,-1.9570384071953424,-2.3097055278715612,-0.28374237853215967,-2.0218869219733593,-2.671172232191421,-3.252113182374271,-1.4654890935190679,-1.6933282459422359,-0.8054033538415432,-2.352809362796165,-2.1398416517916052,-0.34301592906171924,-0.418651061535971,-1.830313821839636,-2.677349472872643,-3.1363446903268635,-2.5157705220790634,-2.1394557615359715,-2.51186189418927,-3.0114604689750015,-2.0861248169877222,-1.92772598765491,-1.7221282458214275,-2.393716721566958,-2.2256197997185674,-0.8661219397416225,-2.2635990481193877,-1.3888996602908388,-1.011174175917266,-3.0243531482384673,-3.343713421133274,-2.9093687279862595,-2.395791718696529,-1.4765326106416057,-2.016000156037311,-2.310530296739118,-2.1479421366512277,-0.8188576398040484,-2.6912033452552557,-2.3064309086546038,-3.146321387710551,-2.5088843786817416,-2.510112709130332,-2.6745195551011016,-2.7808819748283224,-3.0169262351041946,-1.9265890134841546,-2.191291271871466,-2.2238034562726856,-3.24425770810519,-2.670249341458066,-2.6711938374793096,-2.516403458586775,-3.015179631172288,-2.8853942758092437,-1.1966066474575234,-2.3496288172826008,-1.8121920322956608,-1.9265845549312655,-2.2667562033530517,-2.8956313450519473,-3.136322229433565],\"type\":\"scatter\"},{\"mode\":\"lines\",\"name\":\"Best Value\",\"x\":[0,1,2,3,4,5,6,7,8,9,10,11,12,13,14,15,16,17,18,19,20,21,22,23,24,25,26,27,28,29,30,31,32,33,34,35,36,37,38,39,40,41,42,43,44,45,46,47,48,49,50,51,52,53,54,55,56,57,58,59,60,61,62,63,64,65,66,67,68,69,70,71,72,73,74,75,76,77,78,79,80,81,82,83,84,85,86,87,88,89,90,91,92,93,94,95,96,97,98,99,100,101,102,103,104,105,106,107,108,109,110,111,112,113,114,115,116,117,118,119,120,121,122,123,124,125,126,127,128,129,130,131,132,133,134,135,136,137,138,139,140,141,142,143,144,145,146,147,148,149,150,151,152,153,154,155,156,157,158,159,160,161,162,163,164,165,166,167,168,169,170,171,172,173,174,175,176,177,178,179,180,181,182,183,184,185,186,187,188,189,190,191,192,193,194,195,196,197,198,199,200,201,202],\"y\":[null,null,null,-2.3103640559247993,-2.906414579705588,-3.3554945071958877,-3.3554945071958877,-3.3554945071958877,-3.3554945071958877,-3.3554945071958877,-3.3554945071958877,-3.3554945071958877,-3.3554945071958877,-3.3554945071958877,-3.3554945071958877,-3.3554945071958877,-3.3554945071958877,-3.3554945071958877,-3.3554945071958877,-3.3554945071958877,-3.3554945071958877,-3.3554945071958877,-3.3554945071958877,-3.3554945071958877,-3.3554945071958877,-3.3554945071958877,-3.3554945071958877,-3.3554945071958877,-3.3554945071958877,-3.3554945071958877,-3.3554945071958877,-3.3554945071958877,-3.3554945071958877,-3.3554945071958877,-3.3554945071958877,-3.3554945071958877,-3.3554945071958877,-3.3554945071958877,-3.3554945071958877,-3.3554945071958877,-3.3554945071958877,-3.3554945071958877,-3.3554945071958877,-3.3554945071958877,-3.3554945071958877,-3.3554945071958877,-3.3554945071958877,-3.3554945071958877,-3.3554945071958877,-3.3554945071958877,-3.3554945071958877,-3.3554945071958877,-3.3554945071958877,-3.3554945071958877,-3.3554945071958877,-3.3554945071958877,-3.3554945071958877,-3.3554945071958877,-3.3554945071958877,-3.3554945071958877,-3.3554945071958877,-3.3554945071958877,-3.3554945071958877,-3.3554945071958877,-3.3554945071958877,-3.3554945071958877,-3.3554945071958877,-3.3554945071958877,-3.3554945071958877,-3.3554945071958877,-3.3554945071958877,-3.3554945071958877,-3.3554945071958877,-3.3554945071958877,-3.3554945071958877,-3.3554945071958877,-3.3554945071958877,-3.3554945071958877,-3.3554945071958877,-3.3554945071958877,-3.3554945071958877,-3.3554945071958877,-3.3554945071958877,-3.3554945071958877,-3.3554945071958877,-3.3554945071958877,-3.3554945071958877,-3.3554945071958877,-3.3554945071958877,-3.3554945071958877,-3.3554945071958877,-3.3554945071958877,-3.3554945071958877,-3.3554945071958877,-3.3554945071958877,-3.3554945071958877,-3.3554945071958877,-3.3554945071958877,-3.3554945071958877,-3.3554945071958877,-3.3554945071958877,-3.3554945071958877,-3.3554945071958877,-3.3554945071958877,-3.3554945071958877,-3.3554945071958877,-3.3554945071958877,-3.3554945071958877,-3.3554945071958877,-3.3554945071958877,-3.3554945071958877,-3.3554945071958877,-3.3554945071958877,-3.3554945071958877,-3.3554945071958877,-3.3554945071958877,-3.3554945071958877,-3.3554945071958877,-3.3554945071958877,-3.3554945071958877,-3.3554945071958877,-3.3554945071958877,-3.3554945071958877,-3.3554945071958877,-3.3554945071958877,-3.3554945071958877,-3.3554945071958877,-3.3565428613298978,-3.3565428613298978,-3.3565428613298978,-3.3565428613298978,-3.3565428613298978,-3.3565428613298978,-3.3565428613298978,-3.3565428613298978,-3.3565428613298978,-3.3565428613298978,-3.3565428613298978,-3.3565428613298978,-3.3565428613298978,-3.3565428613298978,-3.3565428613298978,-3.3565428613298978,-3.3565428613298978,-3.3565428613298978,-3.3565428613298978,-3.3565428613298978,-3.3565428613298978,-3.3565428613298978,-3.3565428613298978,-3.3565428613298978,-3.3565428613298978,-3.3565428613298978,-3.3565428613298978,-3.3565428613298978,-3.3565428613298978,-3.3565428613298978,-3.3565428613298978,-3.3565428613298978,-3.3565428613298978,-3.3565428613298978,-3.3565428613298978,-3.3565428613298978,-3.3565428613298978,-3.3565428613298978,-3.3565428613298978,-3.3565428613298978,-3.3565428613298978,-3.3565428613298978,-3.3565428613298978,-3.3565428613298978,-3.3565428613298978,-3.3565428613298978,-3.3565428613298978,-3.3565428613298978,-3.3565428613298978,-3.3565428613298978,-3.3565428613298978,-3.3565428613298978,-3.3565428613298978,-3.3565428613298978,-3.3565428613298978,-3.3565428613298978,-3.3565428613298978,-3.3565428613298978,-3.3565428613298978,-3.3565428613298978,-3.3565428613298978,-3.3565428613298978,-3.3565428613298978,-3.3565428613298978,-3.3565428613298978,-3.3565428613298978,-3.3565428613298978,-3.3565428613298978,-3.3565428613298978,-3.3565428613298978,-3.3565428613298978,-3.3565428613298978,-3.3565428613298978,-3.3565428613298978,-3.3565428613298978,-3.3565428613298978],\"type\":\"scatter\"},{\"marker\":{\"color\":\"#cccccc\"},\"mode\":\"markers\",\"name\":\"Infeasible Trial\",\"showlegend\":false,\"x\":[],\"y\":[],\"type\":\"scatter\"}],                        {\"title\":{\"text\":\"Optimization History Plot\"},\"xaxis\":{\"title\":{\"text\":\"Trial\"}},\"yaxis\":{\"title\":{\"text\":\"Objective Value\"}},\"template\":{\"data\":{\"histogram2dcontour\":[{\"type\":\"histogram2dcontour\",\"colorbar\":{\"outlinewidth\":0,\"ticks\":\"\"},\"colorscale\":[[0.0,\"#0d0887\"],[0.1111111111111111,\"#46039f\"],[0.2222222222222222,\"#7201a8\"],[0.3333333333333333,\"#9c179e\"],[0.4444444444444444,\"#bd3786\"],[0.5555555555555556,\"#d8576b\"],[0.6666666666666666,\"#ed7953\"],[0.7777777777777778,\"#fb9f3a\"],[0.8888888888888888,\"#fdca26\"],[1.0,\"#f0f921\"]]}],\"choropleth\":[{\"type\":\"choropleth\",\"colorbar\":{\"outlinewidth\":0,\"ticks\":\"\"}}],\"histogram2d\":[{\"type\":\"histogram2d\",\"colorbar\":{\"outlinewidth\":0,\"ticks\":\"\"},\"colorscale\":[[0.0,\"#0d0887\"],[0.1111111111111111,\"#46039f\"],[0.2222222222222222,\"#7201a8\"],[0.3333333333333333,\"#9c179e\"],[0.4444444444444444,\"#bd3786\"],[0.5555555555555556,\"#d8576b\"],[0.6666666666666666,\"#ed7953\"],[0.7777777777777778,\"#fb9f3a\"],[0.8888888888888888,\"#fdca26\"],[1.0,\"#f0f921\"]]}],\"heatmap\":[{\"type\":\"heatmap\",\"colorbar\":{\"outlinewidth\":0,\"ticks\":\"\"},\"colorscale\":[[0.0,\"#0d0887\"],[0.1111111111111111,\"#46039f\"],[0.2222222222222222,\"#7201a8\"],[0.3333333333333333,\"#9c179e\"],[0.4444444444444444,\"#bd3786\"],[0.5555555555555556,\"#d8576b\"],[0.6666666666666666,\"#ed7953\"],[0.7777777777777778,\"#fb9f3a\"],[0.8888888888888888,\"#fdca26\"],[1.0,\"#f0f921\"]]}],\"heatmapgl\":[{\"type\":\"heatmapgl\",\"colorbar\":{\"outlinewidth\":0,\"ticks\":\"\"},\"colorscale\":[[0.0,\"#0d0887\"],[0.1111111111111111,\"#46039f\"],[0.2222222222222222,\"#7201a8\"],[0.3333333333333333,\"#9c179e\"],[0.4444444444444444,\"#bd3786\"],[0.5555555555555556,\"#d8576b\"],[0.6666666666666666,\"#ed7953\"],[0.7777777777777778,\"#fb9f3a\"],[0.8888888888888888,\"#fdca26\"],[1.0,\"#f0f921\"]]}],\"contourcarpet\":[{\"type\":\"contourcarpet\",\"colorbar\":{\"outlinewidth\":0,\"ticks\":\"\"}}],\"contour\":[{\"type\":\"contour\",\"colorbar\":{\"outlinewidth\":0,\"ticks\":\"\"},\"colorscale\":[[0.0,\"#0d0887\"],[0.1111111111111111,\"#46039f\"],[0.2222222222222222,\"#7201a8\"],[0.3333333333333333,\"#9c179e\"],[0.4444444444444444,\"#bd3786\"],[0.5555555555555556,\"#d8576b\"],[0.6666666666666666,\"#ed7953\"],[0.7777777777777778,\"#fb9f3a\"],[0.8888888888888888,\"#fdca26\"],[1.0,\"#f0f921\"]]}],\"surface\":[{\"type\":\"surface\",\"colorbar\":{\"outlinewidth\":0,\"ticks\":\"\"},\"colorscale\":[[0.0,\"#0d0887\"],[0.1111111111111111,\"#46039f\"],[0.2222222222222222,\"#7201a8\"],[0.3333333333333333,\"#9c179e\"],[0.4444444444444444,\"#bd3786\"],[0.5555555555555556,\"#d8576b\"],[0.6666666666666666,\"#ed7953\"],[0.7777777777777778,\"#fb9f3a\"],[0.8888888888888888,\"#fdca26\"],[1.0,\"#f0f921\"]]}],\"mesh3d\":[{\"type\":\"mesh3d\",\"colorbar\":{\"outlinewidth\":0,\"ticks\":\"\"}}],\"scatter\":[{\"fillpattern\":{\"fillmode\":\"overlay\",\"size\":10,\"solidity\":0.2},\"type\":\"scatter\"}],\"parcoords\":[{\"type\":\"parcoords\",\"line\":{\"colorbar\":{\"outlinewidth\":0,\"ticks\":\"\"}}}],\"scatterpolargl\":[{\"type\":\"scatterpolargl\",\"marker\":{\"colorbar\":{\"outlinewidth\":0,\"ticks\":\"\"}}}],\"bar\":[{\"error_x\":{\"color\":\"#2a3f5f\"},\"error_y\":{\"color\":\"#2a3f5f\"},\"marker\":{\"line\":{\"color\":\"#E5ECF6\",\"width\":0.5},\"pattern\":{\"fillmode\":\"overlay\",\"size\":10,\"solidity\":0.2}},\"type\":\"bar\"}],\"scattergeo\":[{\"type\":\"scattergeo\",\"marker\":{\"colorbar\":{\"outlinewidth\":0,\"ticks\":\"\"}}}],\"scatterpolar\":[{\"type\":\"scatterpolar\",\"marker\":{\"colorbar\":{\"outlinewidth\":0,\"ticks\":\"\"}}}],\"histogram\":[{\"marker\":{\"pattern\":{\"fillmode\":\"overlay\",\"size\":10,\"solidity\":0.2}},\"type\":\"histogram\"}],\"scattergl\":[{\"type\":\"scattergl\",\"marker\":{\"colorbar\":{\"outlinewidth\":0,\"ticks\":\"\"}}}],\"scatter3d\":[{\"type\":\"scatter3d\",\"line\":{\"colorbar\":{\"outlinewidth\":0,\"ticks\":\"\"}},\"marker\":{\"colorbar\":{\"outlinewidth\":0,\"ticks\":\"\"}}}],\"scattermapbox\":[{\"type\":\"scattermapbox\",\"marker\":{\"colorbar\":{\"outlinewidth\":0,\"ticks\":\"\"}}}],\"scatterternary\":[{\"type\":\"scatterternary\",\"marker\":{\"colorbar\":{\"outlinewidth\":0,\"ticks\":\"\"}}}],\"scattercarpet\":[{\"type\":\"scattercarpet\",\"marker\":{\"colorbar\":{\"outlinewidth\":0,\"ticks\":\"\"}}}],\"carpet\":[{\"aaxis\":{\"endlinecolor\":\"#2a3f5f\",\"gridcolor\":\"white\",\"linecolor\":\"white\",\"minorgridcolor\":\"white\",\"startlinecolor\":\"#2a3f5f\"},\"baxis\":{\"endlinecolor\":\"#2a3f5f\",\"gridcolor\":\"white\",\"linecolor\":\"white\",\"minorgridcolor\":\"white\",\"startlinecolor\":\"#2a3f5f\"},\"type\":\"carpet\"}],\"table\":[{\"cells\":{\"fill\":{\"color\":\"#EBF0F8\"},\"line\":{\"color\":\"white\"}},\"header\":{\"fill\":{\"color\":\"#C8D4E3\"},\"line\":{\"color\":\"white\"}},\"type\":\"table\"}],\"barpolar\":[{\"marker\":{\"line\":{\"color\":\"#E5ECF6\",\"width\":0.5},\"pattern\":{\"fillmode\":\"overlay\",\"size\":10,\"solidity\":0.2}},\"type\":\"barpolar\"}],\"pie\":[{\"automargin\":true,\"type\":\"pie\"}]},\"layout\":{\"autotypenumbers\":\"strict\",\"colorway\":[\"#636efa\",\"#EF553B\",\"#00cc96\",\"#ab63fa\",\"#FFA15A\",\"#19d3f3\",\"#FF6692\",\"#B6E880\",\"#FF97FF\",\"#FECB52\"],\"font\":{\"color\":\"#2a3f5f\"},\"hovermode\":\"closest\",\"hoverlabel\":{\"align\":\"left\"},\"paper_bgcolor\":\"white\",\"plot_bgcolor\":\"#E5ECF6\",\"polar\":{\"bgcolor\":\"#E5ECF6\",\"angularaxis\":{\"gridcolor\":\"white\",\"linecolor\":\"white\",\"ticks\":\"\"},\"radialaxis\":{\"gridcolor\":\"white\",\"linecolor\":\"white\",\"ticks\":\"\"}},\"ternary\":{\"bgcolor\":\"#E5ECF6\",\"aaxis\":{\"gridcolor\":\"white\",\"linecolor\":\"white\",\"ticks\":\"\"},\"baxis\":{\"gridcolor\":\"white\",\"linecolor\":\"white\",\"ticks\":\"\"},\"caxis\":{\"gridcolor\":\"white\",\"linecolor\":\"white\",\"ticks\":\"\"}},\"coloraxis\":{\"colorbar\":{\"outlinewidth\":0,\"ticks\":\"\"}},\"colorscale\":{\"sequential\":[[0.0,\"#0d0887\"],[0.1111111111111111,\"#46039f\"],[0.2222222222222222,\"#7201a8\"],[0.3333333333333333,\"#9c179e\"],[0.4444444444444444,\"#bd3786\"],[0.5555555555555556,\"#d8576b\"],[0.6666666666666666,\"#ed7953\"],[0.7777777777777778,\"#fb9f3a\"],[0.8888888888888888,\"#fdca26\"],[1.0,\"#f0f921\"]],\"sequentialminus\":[[0.0,\"#0d0887\"],[0.1111111111111111,\"#46039f\"],[0.2222222222222222,\"#7201a8\"],[0.3333333333333333,\"#9c179e\"],[0.4444444444444444,\"#bd3786\"],[0.5555555555555556,\"#d8576b\"],[0.6666666666666666,\"#ed7953\"],[0.7777777777777778,\"#fb9f3a\"],[0.8888888888888888,\"#fdca26\"],[1.0,\"#f0f921\"]],\"diverging\":[[0,\"#8e0152\"],[0.1,\"#c51b7d\"],[0.2,\"#de77ae\"],[0.3,\"#f1b6da\"],[0.4,\"#fde0ef\"],[0.5,\"#f7f7f7\"],[0.6,\"#e6f5d0\"],[0.7,\"#b8e186\"],[0.8,\"#7fbc41\"],[0.9,\"#4d9221\"],[1,\"#276419\"]]},\"xaxis\":{\"gridcolor\":\"white\",\"linecolor\":\"white\",\"ticks\":\"\",\"title\":{\"standoff\":15},\"zerolinecolor\":\"white\",\"automargin\":true,\"zerolinewidth\":2},\"yaxis\":{\"gridcolor\":\"white\",\"linecolor\":\"white\",\"ticks\":\"\",\"title\":{\"standoff\":15},\"zerolinecolor\":\"white\",\"automargin\":true,\"zerolinewidth\":2},\"scene\":{\"xaxis\":{\"backgroundcolor\":\"#E5ECF6\",\"gridcolor\":\"white\",\"linecolor\":\"white\",\"showbackground\":true,\"ticks\":\"\",\"zerolinecolor\":\"white\",\"gridwidth\":2},\"yaxis\":{\"backgroundcolor\":\"#E5ECF6\",\"gridcolor\":\"white\",\"linecolor\":\"white\",\"showbackground\":true,\"ticks\":\"\",\"zerolinecolor\":\"white\",\"gridwidth\":2},\"zaxis\":{\"backgroundcolor\":\"#E5ECF6\",\"gridcolor\":\"white\",\"linecolor\":\"white\",\"showbackground\":true,\"ticks\":\"\",\"zerolinecolor\":\"white\",\"gridwidth\":2}},\"shapedefaults\":{\"line\":{\"color\":\"#2a3f5f\"}},\"annotationdefaults\":{\"arrowcolor\":\"#2a3f5f\",\"arrowhead\":0,\"arrowwidth\":1},\"geo\":{\"bgcolor\":\"white\",\"landcolor\":\"#E5ECF6\",\"subunitcolor\":\"white\",\"showland\":true,\"showlakes\":true,\"lakecolor\":\"white\"},\"title\":{\"x\":0.05},\"mapbox\":{\"style\":\"light\"}}}},                        {\"responsive\": true}                    ).then(function(){\n",
              "                            \n",
              "var gd = document.getElementById('d186d563-b8f1-4964-b9d2-50f188cc1589');\n",
              "var x = new MutationObserver(function (mutations, observer) {{\n",
              "        var display = window.getComputedStyle(gd).display;\n",
              "        if (!display || display === 'none') {{\n",
              "            console.log([gd, 'removed!']);\n",
              "            Plotly.purge(gd);\n",
              "            observer.disconnect();\n",
              "        }}\n",
              "}});\n",
              "\n",
              "// Listen for the removal of the full notebook cells\n",
              "var notebookContainer = gd.closest('#notebook-container');\n",
              "if (notebookContainer) {{\n",
              "    x.observe(notebookContainer, {childList: true});\n",
              "}}\n",
              "\n",
              "// Listen for the clearing of the current output cell\n",
              "var outputEl = gd.closest('.output');\n",
              "if (outputEl) {{\n",
              "    x.observe(outputEl, {childList: true});\n",
              "}}\n",
              "\n",
              "                        })                };                            </script>        </div>\n",
              "</body>\n",
              "</html>"
            ]
          },
          "metadata": {}
        }
      ]
    },
    {
      "cell_type": "markdown",
      "source": [
        "Here, we can see that the trials are from 0-200 and their scores for each trial.\n",
        "\n",
        "The next plot is not that useful but there's a plot for it."
      ],
      "metadata": {
        "id": "o1eu01pVon3O"
      }
    },
    {
      "cell_type": "code",
      "source": [
        "optuna.visualization.plot_parallel_coordinate(study)"
      ],
      "metadata": {
        "id": "9LVrW6s6pLnx",
        "colab": {
          "base_uri": "https://localhost:8080/",
          "height": 542
        },
        "outputId": "967787de-ebce-4227-ccfd-fb80ec3b89e3"
      },
      "execution_count": 39,
      "outputs": [
        {
          "output_type": "display_data",
          "data": {
            "text/html": [
              "<html>\n",
              "<head><meta charset=\"utf-8\" /></head>\n",
              "<body>\n",
              "    <div>            <script src=\"https://cdnjs.cloudflare.com/ajax/libs/mathjax/2.7.5/MathJax.js?config=TeX-AMS-MML_SVG\"></script><script type=\"text/javascript\">if (window.MathJax && window.MathJax.Hub && window.MathJax.Hub.Config) {window.MathJax.Hub.Config({SVG: {font: \"STIX-Web\"}});}</script>                <script type=\"text/javascript\">window.PlotlyConfig = {MathJaxConfig: 'local'};</script>\n",
              "        <script charset=\"utf-8\" src=\"https://cdn.plot.ly/plotly-2.24.1.min.js\"></script>                <div id=\"11bddfea-75b4-4147-96d5-79c461f39b8d\" class=\"plotly-graph-div\" style=\"height:525px; width:100%;\"></div>            <script type=\"text/javascript\">                                    window.PLOTLYENV=window.PLOTLYENV || {};                                    if (document.getElementById(\"11bddfea-75b4-4147-96d5-79c461f39b8d\")) {                    Plotly.newPlot(                        \"11bddfea-75b4-4147-96d5-79c461f39b8d\",                        [{\"dimensions\":[{\"label\":\"Objective Value\",\"range\":[-3.3565428613298978,-0.20811933698157475],\"values\":[-2.3103640559247993,-2.906414579705588,-3.3554945071958877,-1.0175242099148512,-1.573749748791981,-1.813887860660849,-2.1903985938359574,-1.1293598897639092,-2.6930731936911685,-2.0909299360155176,-3.152132459971532,-2.1901665390988017,-2.58577039988041,-3.1371975686269673,-1.7140632580852178,-1.851259709541814,-2.670488115789401,-1.3774319962068908,-2.5147875839664926,-0.6643341589247033,-0.5280159844775779,-2.3539281317936895,-2.446268157422711,-2.1429652583787435,-0.5828421977744994,-2.18272209855282,-2.5835364217814987,-1.0129146852035507,-2.8929746898269606,-2.2253821496748127,-0.6267637038753142,-2.883950918780766,-1.359027784444915,-1.8430752496846714,-3.35120988364364,-1.5744708619605006,-2.193134743847743,-1.5824928961187292,-1.6289134651220045,-2.512483401043687,-2.228259188335444,-1.0175800585339576,-0.9557997416398706,-1.1786645991154217,-1.4088407555011098,-3.020021425534875,-2.225586352437637,-3.0205407054206965,-1.8085619892466454,-2.5839196619396367,-3.0176384183319036,-2.39630917897774,-2.43754862948081,-1.4618342007848129,-2.8864409707168814,-1.8126314335681655,-1.9989650953868197,-2.188295676304485,-2.512550957794729,-1.1770931305423438,-1.8816787292253134,-3.21419950324322,-1.9206662024586634,-2.22687127641763,-0.836517643184318,-2.1885992251320854,-2.447246812217924,-2.6743598911707034,-2.1891145309111506,-2.669921828484849,-0.6635216010334904,-2.2248062520320206,-0.2683468401226078,-2.188264258351193,-0.8579725934785569,-2.3416692428075647,-1.6905936555480103,-0.6194785124596972,-2.4512749131166336,-1.4602922549877522,-1.51773994149428,-2.3092774612439455,-2.590287300925192,-0.26917956654983677,-0.7411266473641217,-2.0187750203718275,-0.8394808718579745,-2.886145637139836,-2.3498937381255405,-2.24899482199894,-2.2290591170107783,-3.018570168805062,-0.25149358249236387,-1.7138078574802456,-1.6846268468058707,-3.033636449467095,-1.0177351233598837,-2.0564820855114063,-3.1412018842417635,-2.5850184290083438,-2.7954353049185814,-0.5265367209193113,-3.244042115614937,-2.08319105699395,-2.5789237798634024,-2.143401343947513,-3.0169251646782613,-2.583676494537868,-2.4478638484502055,-0.9652296588328081,-1.8244258624235492,-2.585393216910139,-2.2279256884007514,-2.1453853090502917,-0.6029332607185515,-2.2601111073789637,-2.8933147244913964,-3.335343495634837,-3.331281148725567,-2.180893275513612,-2.349138367864823,-1.4616602437082933,-2.3093191596480245,-1.8252880687289132,-3.3565428613298978,-2.7738210063143405,-2.772486343786672,-2.0118404527960916,-0.20811933698157475,-1.4550518586360859,-2.780589054576639,-1.464731555683009,-3.3441734186875083,-3.248216874015752,-0.8680231644643486,-2.3956754150209165,-2.3946183652301656,-2.8937692463901774,-1.9570384071953424,-2.3097055278715612,-0.28374237853215967,-2.0218869219733593,-2.671172232191421,-3.252113182374271,-1.4654890935190679,-1.6933282459422359,-0.8054033538415432,-2.352809362796165,-2.1398416517916052,-0.34301592906171924,-0.418651061535971,-1.830313821839636,-2.677349472872643,-3.1363446903268635,-2.5157705220790634,-2.1394557615359715,-2.51186189418927,-3.0114604689750015,-2.0861248169877222,-1.92772598765491,-1.7221282458214275,-2.393716721566958,-2.2256197997185674,-0.8661219397416225,-2.2635990481193877,-1.3888996602908388,-1.011174175917266,-3.0243531482384673,-3.343713421133274,-2.9093687279862595,-2.395791718696529,-1.4765326106416057,-2.016000156037311,-2.310530296739118,-2.1479421366512277,-0.8188576398040484,-2.6912033452552557,-2.3064309086546038,-3.146321387710551,-2.5088843786817416,-2.510112709130332,-2.6745195551011016,-2.7808819748283224,-3.0169262351041946,-1.9265890134841546,-2.191291271871466,-2.2238034562726856,-3.24425770810519,-2.670249341458066,-2.6711938374793096,-2.516403458586775,-3.015179631172288,-2.8853942758092437,-1.1966066474575234,-2.3496288172826008,-1.8121920322956608,-1.9265845549312655,-2.2667562033530517,-2.8956313450519473,-3.136322229433565]},{\"label\":\"max_depth\",\"range\":[10,50],\"values\":[48,16,39,18,31,15,42,11,48,14,30,37,17,46,18,21,32,50,43,13,35,23,29,33,27,36,20,13,43,17,46,27,30,23,38,20,11,21,30,41,35,44,34,19,25,14,37,19,35,46,13,10,16,19,40,33,20,35,30,10,49,48,44,22,38,50,40,22,47,36,23,11,34,24,18,31,50,21,49,17,39,40,20,14,38,29,35,35,16,34,36,25,12,38,10,38,42,43,41,27,47,46,13,33,23,42,32,14,14,43,50,48,13,47,29,36,25,49,46,32,38,46,46,17,13,31,16,39,45,43,25,29,45,32,20,34,24,41,32,11,18,34,24,35,47,50,19,16,24,17,21,28,38,13,21,18,25,20,31,19,23,46,30,40,24,50,16,21,31,26,20,32,17,19,33,12,50,37,26,49,17,44,16,31,43,22,46,35,23,31,22,33,43,26,39,32,47,48,35,33]},{\"label\":\"min_samples_split\",\"range\":[2,32],\"values\":[24,3,2,7,15,11,8,20,31,23,3,11,32,20,3,27,6,25,23,13,12,24,5,25,2,11,14,10,21,29,11,27,14,31,13,17,20,30,32,9,21,11,23,22,31,30,27,4,12,29,7,5,19,24,22,4,32,26,8,22,30,15,11,7,19,6,23,27,17,23,13,16,2,5,21,18,18,15,27,6,22,19,13,3,16,7,21,17,4,31,16,31,5,4,27,21,10,32,12,25,17,14,11,21,22,4,15,6,4,23,13,32,26,5,3,25,10,2,18,32,16,3,16,16,32,11,30,21,3,32,32,14,27,25,15,9,5,18,29,25,6,14,17,28,17,17,4,6,29,7,7,8,3,29,26,13,16,24,5,10,8,20,4,15,22,20,9,7,14,32,7,19,12,5,6,12,11,25,12,5,4,6,7,13,15,25,13,5,6,29,9,25,5,26,24,9,20,6,2,23]},{\"label\":\"min_smaples_leaf\",\"range\":[1,32],\"values\":[20,28,32,6,10,12,17,6,26,15,30,17,25,30,11,12,26,7,24,4,3,21,23,16,4,17,25,6,28,18,4,28,8,11,32,10,17,8,8,24,18,6,1,6,5,29,18,29,12,25,29,22,23,8,28,12,13,17,24,6,12,31,13,18,4,17,23,26,17,26,4,18,2,17,3,21,11,3,23,9,9,20,25,2,4,14,2,28,21,19,18,29,1,11,10,29,6,14,30,25,27,1,31,15,25,16,29,25,23,3,12,25,18,16,4,19,28,32,32,17,21,9,20,12,32,27,27,14,1,5,27,9,32,31,5,22,22,28,13,20,1,14,26,31,9,11,5,21,16,2,3,12,26,30,24,16,24,29,15,13,11,22,18,5,19,8,6,29,32,28,22,9,14,20,16,5,26,20,30,24,24,26,27,29,13,17,18,31,26,26,24,29,28,5,21,12,13,19,28,30]},{\"label\":\"n_estimators\",\"range\":[104,997],\"values\":[437,240,641,850,374,651,510,633,158,374,209,333,592,946,179,450,353,167,104,794,877,380,899,785,570,128,917,306,937,824,827,305,106,207,567,967,356,146,230,705,431,181,136,561,722,407,332,577,911,754,678,646,104,687,393,692,338,903,619,352,947,113,968,866,943,654,890,423,881,819,901,621,358,841,793,146,754,816,122,468,594,960,478,112,870,542,459,437,693,123,449,948,276,185,861,206,762,776,435,873,192,388,915,956,364,813,151,416,657,165,176,832,439,482,110,205,966,301,138,166,667,626,956,349,625,729,716,955,940,439,635,855,150,997,865,959,656,568,597,220,734,415,914,457,232,513,670,215,263,701,252,208,553,665,155,266,657,133,561,579,118,207,811,628,355,420,191,268,172,200,836,937,793,557,360,579,157,329,524,848,945,617,281,699,453,516,309,916,665,658,236,130,408,214,306,725,263,516,555,939]}],\"labelangle\":30,\"labelside\":\"bottom\",\"line\":{\"color\":[-2.3103640559247993,-2.906414579705588,-3.3554945071958877,-1.0175242099148512,-1.573749748791981,-1.813887860660849,-2.1903985938359574,-1.1293598897639092,-2.6930731936911685,-2.0909299360155176,-3.152132459971532,-2.1901665390988017,-2.58577039988041,-3.1371975686269673,-1.7140632580852178,-1.851259709541814,-2.670488115789401,-1.3774319962068908,-2.5147875839664926,-0.6643341589247033,-0.5280159844775779,-2.3539281317936895,-2.446268157422711,-2.1429652583787435,-0.5828421977744994,-2.18272209855282,-2.5835364217814987,-1.0129146852035507,-2.8929746898269606,-2.2253821496748127,-0.6267637038753142,-2.883950918780766,-1.359027784444915,-1.8430752496846714,-3.35120988364364,-1.5744708619605006,-2.193134743847743,-1.5824928961187292,-1.6289134651220045,-2.512483401043687,-2.228259188335444,-1.0175800585339576,-0.9557997416398706,-1.1786645991154217,-1.4088407555011098,-3.020021425534875,-2.225586352437637,-3.0205407054206965,-1.8085619892466454,-2.5839196619396367,-3.0176384183319036,-2.39630917897774,-2.43754862948081,-1.4618342007848129,-2.8864409707168814,-1.8126314335681655,-1.9989650953868197,-2.188295676304485,-2.512550957794729,-1.1770931305423438,-1.8816787292253134,-3.21419950324322,-1.9206662024586634,-2.22687127641763,-0.836517643184318,-2.1885992251320854,-2.447246812217924,-2.6743598911707034,-2.1891145309111506,-2.669921828484849,-0.6635216010334904,-2.2248062520320206,-0.2683468401226078,-2.188264258351193,-0.8579725934785569,-2.3416692428075647,-1.6905936555480103,-0.6194785124596972,-2.4512749131166336,-1.4602922549877522,-1.51773994149428,-2.3092774612439455,-2.590287300925192,-0.26917956654983677,-0.7411266473641217,-2.0187750203718275,-0.8394808718579745,-2.886145637139836,-2.3498937381255405,-2.24899482199894,-2.2290591170107783,-3.018570168805062,-0.25149358249236387,-1.7138078574802456,-1.6846268468058707,-3.033636449467095,-1.0177351233598837,-2.0564820855114063,-3.1412018842417635,-2.5850184290083438,-2.7954353049185814,-0.5265367209193113,-3.244042115614937,-2.08319105699395,-2.5789237798634024,-2.143401343947513,-3.0169251646782613,-2.583676494537868,-2.4478638484502055,-0.9652296588328081,-1.8244258624235492,-2.585393216910139,-2.2279256884007514,-2.1453853090502917,-0.6029332607185515,-2.2601111073789637,-2.8933147244913964,-3.335343495634837,-3.331281148725567,-2.180893275513612,-2.349138367864823,-1.4616602437082933,-2.3093191596480245,-1.8252880687289132,-3.3565428613298978,-2.7738210063143405,-2.772486343786672,-2.0118404527960916,-0.20811933698157475,-1.4550518586360859,-2.780589054576639,-1.464731555683009,-3.3441734186875083,-3.248216874015752,-0.8680231644643486,-2.3956754150209165,-2.3946183652301656,-2.8937692463901774,-1.9570384071953424,-2.3097055278715612,-0.28374237853215967,-2.0218869219733593,-2.671172232191421,-3.252113182374271,-1.4654890935190679,-1.6933282459422359,-0.8054033538415432,-2.352809362796165,-2.1398416517916052,-0.34301592906171924,-0.418651061535971,-1.830313821839636,-2.677349472872643,-3.1363446903268635,-2.5157705220790634,-2.1394557615359715,-2.51186189418927,-3.0114604689750015,-2.0861248169877222,-1.92772598765491,-1.7221282458214275,-2.393716721566958,-2.2256197997185674,-0.8661219397416225,-2.2635990481193877,-1.3888996602908388,-1.011174175917266,-3.0243531482384673,-3.343713421133274,-2.9093687279862595,-2.395791718696529,-1.4765326106416057,-2.016000156037311,-2.310530296739118,-2.1479421366512277,-0.8188576398040484,-2.6912033452552557,-2.3064309086546038,-3.146321387710551,-2.5088843786817416,-2.510112709130332,-2.6745195551011016,-2.7808819748283224,-3.0169262351041946,-1.9265890134841546,-2.191291271871466,-2.2238034562726856,-3.24425770810519,-2.670249341458066,-2.6711938374793096,-2.516403458586775,-3.015179631172288,-2.8853942758092437,-1.1966066474575234,-2.3496288172826008,-1.8121920322956608,-1.9265845549312655,-2.2667562033530517,-2.8956313450519473,-3.136322229433565],\"colorbar\":{\"title\":{\"text\":\"Objective Value\"}},\"colorscale\":[[0.0,\"rgb(247,251,255)\"],[0.125,\"rgb(222,235,247)\"],[0.25,\"rgb(198,219,239)\"],[0.375,\"rgb(158,202,225)\"],[0.5,\"rgb(107,174,214)\"],[0.625,\"rgb(66,146,198)\"],[0.75,\"rgb(33,113,181)\"],[0.875,\"rgb(8,81,156)\"],[1.0,\"rgb(8,48,107)\"]],\"reversescale\":true,\"showscale\":true},\"type\":\"parcoords\"}],                        {\"title\":{\"text\":\"Parallel Coordinate Plot\"},\"template\":{\"data\":{\"histogram2dcontour\":[{\"type\":\"histogram2dcontour\",\"colorbar\":{\"outlinewidth\":0,\"ticks\":\"\"},\"colorscale\":[[0.0,\"#0d0887\"],[0.1111111111111111,\"#46039f\"],[0.2222222222222222,\"#7201a8\"],[0.3333333333333333,\"#9c179e\"],[0.4444444444444444,\"#bd3786\"],[0.5555555555555556,\"#d8576b\"],[0.6666666666666666,\"#ed7953\"],[0.7777777777777778,\"#fb9f3a\"],[0.8888888888888888,\"#fdca26\"],[1.0,\"#f0f921\"]]}],\"choropleth\":[{\"type\":\"choropleth\",\"colorbar\":{\"outlinewidth\":0,\"ticks\":\"\"}}],\"histogram2d\":[{\"type\":\"histogram2d\",\"colorbar\":{\"outlinewidth\":0,\"ticks\":\"\"},\"colorscale\":[[0.0,\"#0d0887\"],[0.1111111111111111,\"#46039f\"],[0.2222222222222222,\"#7201a8\"],[0.3333333333333333,\"#9c179e\"],[0.4444444444444444,\"#bd3786\"],[0.5555555555555556,\"#d8576b\"],[0.6666666666666666,\"#ed7953\"],[0.7777777777777778,\"#fb9f3a\"],[0.8888888888888888,\"#fdca26\"],[1.0,\"#f0f921\"]]}],\"heatmap\":[{\"type\":\"heatmap\",\"colorbar\":{\"outlinewidth\":0,\"ticks\":\"\"},\"colorscale\":[[0.0,\"#0d0887\"],[0.1111111111111111,\"#46039f\"],[0.2222222222222222,\"#7201a8\"],[0.3333333333333333,\"#9c179e\"],[0.4444444444444444,\"#bd3786\"],[0.5555555555555556,\"#d8576b\"],[0.6666666666666666,\"#ed7953\"],[0.7777777777777778,\"#fb9f3a\"],[0.8888888888888888,\"#fdca26\"],[1.0,\"#f0f921\"]]}],\"heatmapgl\":[{\"type\":\"heatmapgl\",\"colorbar\":{\"outlinewidth\":0,\"ticks\":\"\"},\"colorscale\":[[0.0,\"#0d0887\"],[0.1111111111111111,\"#46039f\"],[0.2222222222222222,\"#7201a8\"],[0.3333333333333333,\"#9c179e\"],[0.4444444444444444,\"#bd3786\"],[0.5555555555555556,\"#d8576b\"],[0.6666666666666666,\"#ed7953\"],[0.7777777777777778,\"#fb9f3a\"],[0.8888888888888888,\"#fdca26\"],[1.0,\"#f0f921\"]]}],\"contourcarpet\":[{\"type\":\"contourcarpet\",\"colorbar\":{\"outlinewidth\":0,\"ticks\":\"\"}}],\"contour\":[{\"type\":\"contour\",\"colorbar\":{\"outlinewidth\":0,\"ticks\":\"\"},\"colorscale\":[[0.0,\"#0d0887\"],[0.1111111111111111,\"#46039f\"],[0.2222222222222222,\"#7201a8\"],[0.3333333333333333,\"#9c179e\"],[0.4444444444444444,\"#bd3786\"],[0.5555555555555556,\"#d8576b\"],[0.6666666666666666,\"#ed7953\"],[0.7777777777777778,\"#fb9f3a\"],[0.8888888888888888,\"#fdca26\"],[1.0,\"#f0f921\"]]}],\"surface\":[{\"type\":\"surface\",\"colorbar\":{\"outlinewidth\":0,\"ticks\":\"\"},\"colorscale\":[[0.0,\"#0d0887\"],[0.1111111111111111,\"#46039f\"],[0.2222222222222222,\"#7201a8\"],[0.3333333333333333,\"#9c179e\"],[0.4444444444444444,\"#bd3786\"],[0.5555555555555556,\"#d8576b\"],[0.6666666666666666,\"#ed7953\"],[0.7777777777777778,\"#fb9f3a\"],[0.8888888888888888,\"#fdca26\"],[1.0,\"#f0f921\"]]}],\"mesh3d\":[{\"type\":\"mesh3d\",\"colorbar\":{\"outlinewidth\":0,\"ticks\":\"\"}}],\"scatter\":[{\"fillpattern\":{\"fillmode\":\"overlay\",\"size\":10,\"solidity\":0.2},\"type\":\"scatter\"}],\"parcoords\":[{\"type\":\"parcoords\",\"line\":{\"colorbar\":{\"outlinewidth\":0,\"ticks\":\"\"}}}],\"scatterpolargl\":[{\"type\":\"scatterpolargl\",\"marker\":{\"colorbar\":{\"outlinewidth\":0,\"ticks\":\"\"}}}],\"bar\":[{\"error_x\":{\"color\":\"#2a3f5f\"},\"error_y\":{\"color\":\"#2a3f5f\"},\"marker\":{\"line\":{\"color\":\"#E5ECF6\",\"width\":0.5},\"pattern\":{\"fillmode\":\"overlay\",\"size\":10,\"solidity\":0.2}},\"type\":\"bar\"}],\"scattergeo\":[{\"type\":\"scattergeo\",\"marker\":{\"colorbar\":{\"outlinewidth\":0,\"ticks\":\"\"}}}],\"scatterpolar\":[{\"type\":\"scatterpolar\",\"marker\":{\"colorbar\":{\"outlinewidth\":0,\"ticks\":\"\"}}}],\"histogram\":[{\"marker\":{\"pattern\":{\"fillmode\":\"overlay\",\"size\":10,\"solidity\":0.2}},\"type\":\"histogram\"}],\"scattergl\":[{\"type\":\"scattergl\",\"marker\":{\"colorbar\":{\"outlinewidth\":0,\"ticks\":\"\"}}}],\"scatter3d\":[{\"type\":\"scatter3d\",\"line\":{\"colorbar\":{\"outlinewidth\":0,\"ticks\":\"\"}},\"marker\":{\"colorbar\":{\"outlinewidth\":0,\"ticks\":\"\"}}}],\"scattermapbox\":[{\"type\":\"scattermapbox\",\"marker\":{\"colorbar\":{\"outlinewidth\":0,\"ticks\":\"\"}}}],\"scatterternary\":[{\"type\":\"scatterternary\",\"marker\":{\"colorbar\":{\"outlinewidth\":0,\"ticks\":\"\"}}}],\"scattercarpet\":[{\"type\":\"scattercarpet\",\"marker\":{\"colorbar\":{\"outlinewidth\":0,\"ticks\":\"\"}}}],\"carpet\":[{\"aaxis\":{\"endlinecolor\":\"#2a3f5f\",\"gridcolor\":\"white\",\"linecolor\":\"white\",\"minorgridcolor\":\"white\",\"startlinecolor\":\"#2a3f5f\"},\"baxis\":{\"endlinecolor\":\"#2a3f5f\",\"gridcolor\":\"white\",\"linecolor\":\"white\",\"minorgridcolor\":\"white\",\"startlinecolor\":\"#2a3f5f\"},\"type\":\"carpet\"}],\"table\":[{\"cells\":{\"fill\":{\"color\":\"#EBF0F8\"},\"line\":{\"color\":\"white\"}},\"header\":{\"fill\":{\"color\":\"#C8D4E3\"},\"line\":{\"color\":\"white\"}},\"type\":\"table\"}],\"barpolar\":[{\"marker\":{\"line\":{\"color\":\"#E5ECF6\",\"width\":0.5},\"pattern\":{\"fillmode\":\"overlay\",\"size\":10,\"solidity\":0.2}},\"type\":\"barpolar\"}],\"pie\":[{\"automargin\":true,\"type\":\"pie\"}]},\"layout\":{\"autotypenumbers\":\"strict\",\"colorway\":[\"#636efa\",\"#EF553B\",\"#00cc96\",\"#ab63fa\",\"#FFA15A\",\"#19d3f3\",\"#FF6692\",\"#B6E880\",\"#FF97FF\",\"#FECB52\"],\"font\":{\"color\":\"#2a3f5f\"},\"hovermode\":\"closest\",\"hoverlabel\":{\"align\":\"left\"},\"paper_bgcolor\":\"white\",\"plot_bgcolor\":\"#E5ECF6\",\"polar\":{\"bgcolor\":\"#E5ECF6\",\"angularaxis\":{\"gridcolor\":\"white\",\"linecolor\":\"white\",\"ticks\":\"\"},\"radialaxis\":{\"gridcolor\":\"white\",\"linecolor\":\"white\",\"ticks\":\"\"}},\"ternary\":{\"bgcolor\":\"#E5ECF6\",\"aaxis\":{\"gridcolor\":\"white\",\"linecolor\":\"white\",\"ticks\":\"\"},\"baxis\":{\"gridcolor\":\"white\",\"linecolor\":\"white\",\"ticks\":\"\"},\"caxis\":{\"gridcolor\":\"white\",\"linecolor\":\"white\",\"ticks\":\"\"}},\"coloraxis\":{\"colorbar\":{\"outlinewidth\":0,\"ticks\":\"\"}},\"colorscale\":{\"sequential\":[[0.0,\"#0d0887\"],[0.1111111111111111,\"#46039f\"],[0.2222222222222222,\"#7201a8\"],[0.3333333333333333,\"#9c179e\"],[0.4444444444444444,\"#bd3786\"],[0.5555555555555556,\"#d8576b\"],[0.6666666666666666,\"#ed7953\"],[0.7777777777777778,\"#fb9f3a\"],[0.8888888888888888,\"#fdca26\"],[1.0,\"#f0f921\"]],\"sequentialminus\":[[0.0,\"#0d0887\"],[0.1111111111111111,\"#46039f\"],[0.2222222222222222,\"#7201a8\"],[0.3333333333333333,\"#9c179e\"],[0.4444444444444444,\"#bd3786\"],[0.5555555555555556,\"#d8576b\"],[0.6666666666666666,\"#ed7953\"],[0.7777777777777778,\"#fb9f3a\"],[0.8888888888888888,\"#fdca26\"],[1.0,\"#f0f921\"]],\"diverging\":[[0,\"#8e0152\"],[0.1,\"#c51b7d\"],[0.2,\"#de77ae\"],[0.3,\"#f1b6da\"],[0.4,\"#fde0ef\"],[0.5,\"#f7f7f7\"],[0.6,\"#e6f5d0\"],[0.7,\"#b8e186\"],[0.8,\"#7fbc41\"],[0.9,\"#4d9221\"],[1,\"#276419\"]]},\"xaxis\":{\"gridcolor\":\"white\",\"linecolor\":\"white\",\"ticks\":\"\",\"title\":{\"standoff\":15},\"zerolinecolor\":\"white\",\"automargin\":true,\"zerolinewidth\":2},\"yaxis\":{\"gridcolor\":\"white\",\"linecolor\":\"white\",\"ticks\":\"\",\"title\":{\"standoff\":15},\"zerolinecolor\":\"white\",\"automargin\":true,\"zerolinewidth\":2},\"scene\":{\"xaxis\":{\"backgroundcolor\":\"#E5ECF6\",\"gridcolor\":\"white\",\"linecolor\":\"white\",\"showbackground\":true,\"ticks\":\"\",\"zerolinecolor\":\"white\",\"gridwidth\":2},\"yaxis\":{\"backgroundcolor\":\"#E5ECF6\",\"gridcolor\":\"white\",\"linecolor\":\"white\",\"showbackground\":true,\"ticks\":\"\",\"zerolinecolor\":\"white\",\"gridwidth\":2},\"zaxis\":{\"backgroundcolor\":\"#E5ECF6\",\"gridcolor\":\"white\",\"linecolor\":\"white\",\"showbackground\":true,\"ticks\":\"\",\"zerolinecolor\":\"white\",\"gridwidth\":2}},\"shapedefaults\":{\"line\":{\"color\":\"#2a3f5f\"}},\"annotationdefaults\":{\"arrowcolor\":\"#2a3f5f\",\"arrowhead\":0,\"arrowwidth\":1},\"geo\":{\"bgcolor\":\"white\",\"landcolor\":\"#E5ECF6\",\"subunitcolor\":\"white\",\"showland\":true,\"showlakes\":true,\"lakecolor\":\"white\"},\"title\":{\"x\":0.05},\"mapbox\":{\"style\":\"light\"}}}},                        {\"responsive\": true}                    ).then(function(){\n",
              "                            \n",
              "var gd = document.getElementById('11bddfea-75b4-4147-96d5-79c461f39b8d');\n",
              "var x = new MutationObserver(function (mutations, observer) {{\n",
              "        var display = window.getComputedStyle(gd).display;\n",
              "        if (!display || display === 'none') {{\n",
              "            console.log([gd, 'removed!']);\n",
              "            Plotly.purge(gd);\n",
              "            observer.disconnect();\n",
              "        }}\n",
              "}});\n",
              "\n",
              "// Listen for the removal of the full notebook cells\n",
              "var notebookContainer = gd.closest('#notebook-container');\n",
              "if (notebookContainer) {{\n",
              "    x.observe(notebookContainer, {childList: true});\n",
              "}}\n",
              "\n",
              "// Listen for the clearing of the current output cell\n",
              "var outputEl = gd.closest('.output');\n",
              "if (outputEl) {{\n",
              "    x.observe(outputEl, {childList: true});\n",
              "}}\n",
              "\n",
              "                        })                };                            </script>        </div>\n",
              "</body>\n",
              "</html>"
            ]
          },
          "metadata": {}
        }
      ]
    },
    {
      "cell_type": "markdown",
      "source": [
        "This is a parallel cordinate plot which takes look at objective values and other hyperparameter values and draws lines from min to max. Here we can see what is working and what is not. Lighter lines are pretty bad and darker lines are a bit better."
      ],
      "metadata": {
        "id": "nWHd5QhKpmyw"
      }
    },
    {
      "cell_type": "code",
      "source": [
        "optuna.visualization.plot_slice(study,params=['n_estimators','max_depth','min_samples_split','min_smaples_leaf'])"
      ],
      "metadata": {
        "id": "MTMFyEPv6bgD",
        "colab": {
          "base_uri": "https://localhost:8080/",
          "height": 542
        },
        "outputId": "57d888cd-dcd4-42b2-f584-f8ab7fb032d9"
      },
      "execution_count": 41,
      "outputs": [
        {
          "output_type": "display_data",
          "data": {
            "text/html": [
              "<html>\n",
              "<head><meta charset=\"utf-8\" /></head>\n",
              "<body>\n",
              "    <div>            <script src=\"https://cdnjs.cloudflare.com/ajax/libs/mathjax/2.7.5/MathJax.js?config=TeX-AMS-MML_SVG\"></script><script type=\"text/javascript\">if (window.MathJax && window.MathJax.Hub && window.MathJax.Hub.Config) {window.MathJax.Hub.Config({SVG: {font: \"STIX-Web\"}});}</script>                <script type=\"text/javascript\">window.PlotlyConfig = {MathJaxConfig: 'local'};</script>\n",
              "        <script charset=\"utf-8\" src=\"https://cdn.plot.ly/plotly-2.24.1.min.js\"></script>                <div id=\"f15900c6-7f92-4bbb-a1e2-6032d5a157d2\" class=\"plotly-graph-div\" style=\"height:525px; width:1200px;\"></div>            <script type=\"text/javascript\">                                    window.PLOTLYENV=window.PLOTLYENV || {};                                    if (document.getElementById(\"f15900c6-7f92-4bbb-a1e2-6032d5a157d2\")) {                    Plotly.newPlot(                        \"f15900c6-7f92-4bbb-a1e2-6032d5a157d2\",                        [{\"marker\":{\"color\":[3,4,5,6,7,8,9,10,11,12,13,14,15,16,17,18,19,20,21,22,23,24,25,26,27,28,29,30,31,32,33,34,35,36,37,38,39,40,41,42,43,44,45,46,47,48,49,50,51,52,53,54,55,56,57,58,59,60,61,62,63,64,65,66,67,68,69,70,71,72,73,74,75,76,77,78,79,80,81,82,83,84,85,86,87,88,89,90,91,92,93,94,95,96,97,98,99,100,101,102,103,104,105,106,107,108,109,110,111,112,113,114,115,116,117,118,119,120,121,122,123,124,125,126,127,128,129,130,131,132,133,134,135,136,137,138,139,140,141,142,143,144,145,146,147,148,149,150,151,152,153,154,155,156,157,158,159,160,161,162,163,164,165,166,167,168,169,170,171,172,173,174,175,176,177,178,179,180,181,182,183,184,185,186,187,188,189,190,191,192,193,194,195,196,197,198,199,200,201,202],\"colorbar\":{\"title\":{\"text\":\"Trial\"},\"x\":1.0,\"xpad\":40},\"colorscale\":[[0.0,\"rgb(247,251,255)\"],[0.125,\"rgb(222,235,247)\"],[0.25,\"rgb(198,219,239)\"],[0.375,\"rgb(158,202,225)\"],[0.5,\"rgb(107,174,214)\"],[0.625,\"rgb(66,146,198)\"],[0.75,\"rgb(33,113,181)\"],[0.875,\"rgb(8,81,156)\"],[1.0,\"rgb(8,48,107)\"]],\"line\":{\"color\":\"Grey\",\"width\":0.5},\"showscale\":true},\"mode\":\"markers\",\"name\":\"Feasible Trial\",\"showlegend\":false,\"x\":[48,16,39,18,31,15,42,11,48,14,30,37,17,46,18,21,32,50,43,13,35,23,29,33,27,36,20,13,43,17,46,27,30,23,38,20,11,21,30,41,35,44,34,19,25,14,37,19,35,46,13,10,16,19,40,33,20,35,30,10,49,48,44,22,38,50,40,22,47,36,23,11,34,24,18,31,50,21,49,17,39,40,20,14,38,29,35,35,16,34,36,25,12,38,10,38,42,43,41,27,47,46,13,33,23,42,32,14,14,43,50,48,13,47,29,36,25,49,46,32,38,46,46,17,13,31,16,39,45,43,25,29,45,32,20,34,24,41,32,11,18,34,24,35,47,50,19,16,24,17,21,28,38,13,21,18,25,20,31,19,23,46,30,40,24,50,16,21,31,26,20,32,17,19,33,12,50,37,26,49,17,44,16,31,43,22,46,35,23,31,22,33,43,26,39,32,47,48,35,33],\"y\":[-2.3103640559247993,-2.906414579705588,-3.3554945071958877,-1.0175242099148512,-1.573749748791981,-1.813887860660849,-2.1903985938359574,-1.1293598897639092,-2.6930731936911685,-2.0909299360155176,-3.152132459971532,-2.1901665390988017,-2.58577039988041,-3.1371975686269673,-1.7140632580852178,-1.851259709541814,-2.670488115789401,-1.3774319962068908,-2.5147875839664926,-0.6643341589247033,-0.5280159844775779,-2.3539281317936895,-2.446268157422711,-2.1429652583787435,-0.5828421977744994,-2.18272209855282,-2.5835364217814987,-1.0129146852035507,-2.8929746898269606,-2.2253821496748127,-0.6267637038753142,-2.883950918780766,-1.359027784444915,-1.8430752496846714,-3.35120988364364,-1.5744708619605006,-2.193134743847743,-1.5824928961187292,-1.6289134651220045,-2.512483401043687,-2.228259188335444,-1.0175800585339576,-0.9557997416398706,-1.1786645991154217,-1.4088407555011098,-3.020021425534875,-2.225586352437637,-3.0205407054206965,-1.8085619892466454,-2.5839196619396367,-3.0176384183319036,-2.39630917897774,-2.43754862948081,-1.4618342007848129,-2.8864409707168814,-1.8126314335681655,-1.9989650953868197,-2.188295676304485,-2.512550957794729,-1.1770931305423438,-1.8816787292253134,-3.21419950324322,-1.9206662024586634,-2.22687127641763,-0.836517643184318,-2.1885992251320854,-2.447246812217924,-2.6743598911707034,-2.1891145309111506,-2.669921828484849,-0.6635216010334904,-2.2248062520320206,-0.2683468401226078,-2.188264258351193,-0.8579725934785569,-2.3416692428075647,-1.6905936555480103,-0.6194785124596972,-2.4512749131166336,-1.4602922549877522,-1.51773994149428,-2.3092774612439455,-2.590287300925192,-0.26917956654983677,-0.7411266473641217,-2.0187750203718275,-0.8394808718579745,-2.886145637139836,-2.3498937381255405,-2.24899482199894,-2.2290591170107783,-3.018570168805062,-0.25149358249236387,-1.7138078574802456,-1.6846268468058707,-3.033636449467095,-1.0177351233598837,-2.0564820855114063,-3.1412018842417635,-2.5850184290083438,-2.7954353049185814,-0.5265367209193113,-3.244042115614937,-2.08319105699395,-2.5789237798634024,-2.143401343947513,-3.0169251646782613,-2.583676494537868,-2.4478638484502055,-0.9652296588328081,-1.8244258624235492,-2.585393216910139,-2.2279256884007514,-2.1453853090502917,-0.6029332607185515,-2.2601111073789637,-2.8933147244913964,-3.335343495634837,-3.331281148725567,-2.180893275513612,-2.349138367864823,-1.4616602437082933,-2.3093191596480245,-1.8252880687289132,-3.3565428613298978,-2.7738210063143405,-2.772486343786672,-2.0118404527960916,-0.20811933698157475,-1.4550518586360859,-2.780589054576639,-1.464731555683009,-3.3441734186875083,-3.248216874015752,-0.8680231644643486,-2.3956754150209165,-2.3946183652301656,-2.8937692463901774,-1.9570384071953424,-2.3097055278715612,-0.28374237853215967,-2.0218869219733593,-2.671172232191421,-3.252113182374271,-1.4654890935190679,-1.6933282459422359,-0.8054033538415432,-2.352809362796165,-2.1398416517916052,-0.34301592906171924,-0.418651061535971,-1.830313821839636,-2.677349472872643,-3.1363446903268635,-2.5157705220790634,-2.1394557615359715,-2.51186189418927,-3.0114604689750015,-2.0861248169877222,-1.92772598765491,-1.7221282458214275,-2.393716721566958,-2.2256197997185674,-0.8661219397416225,-2.2635990481193877,-1.3888996602908388,-1.011174175917266,-3.0243531482384673,-3.343713421133274,-2.9093687279862595,-2.395791718696529,-1.4765326106416057,-2.016000156037311,-2.310530296739118,-2.1479421366512277,-0.8188576398040484,-2.6912033452552557,-2.3064309086546038,-3.146321387710551,-2.5088843786817416,-2.510112709130332,-2.6745195551011016,-2.7808819748283224,-3.0169262351041946,-1.9265890134841546,-2.191291271871466,-2.2238034562726856,-3.24425770810519,-2.670249341458066,-2.6711938374793096,-2.516403458586775,-3.015179631172288,-2.8853942758092437,-1.1966066474575234,-2.3496288172826008,-1.8121920322956608,-1.9265845549312655,-2.2667562033530517,-2.8956313450519473,-3.136322229433565],\"type\":\"scatter\",\"xaxis\":\"x\",\"yaxis\":\"y\"},{\"marker\":{\"color\":[3,4,5,6,7,8,9,10,11,12,13,14,15,16,17,18,19,20,21,22,23,24,25,26,27,28,29,30,31,32,33,34,35,36,37,38,39,40,41,42,43,44,45,46,47,48,49,50,51,52,53,54,55,56,57,58,59,60,61,62,63,64,65,66,67,68,69,70,71,72,73,74,75,76,77,78,79,80,81,82,83,84,85,86,87,88,89,90,91,92,93,94,95,96,97,98,99,100,101,102,103,104,105,106,107,108,109,110,111,112,113,114,115,116,117,118,119,120,121,122,123,124,125,126,127,128,129,130,131,132,133,134,135,136,137,138,139,140,141,142,143,144,145,146,147,148,149,150,151,152,153,154,155,156,157,158,159,160,161,162,163,164,165,166,167,168,169,170,171,172,173,174,175,176,177,178,179,180,181,182,183,184,185,186,187,188,189,190,191,192,193,194,195,196,197,198,199,200,201,202],\"colorbar\":{\"title\":{\"text\":\"Trial\"},\"x\":1.0,\"xpad\":40},\"colorscale\":[[0.0,\"rgb(247,251,255)\"],[0.125,\"rgb(222,235,247)\"],[0.25,\"rgb(198,219,239)\"],[0.375,\"rgb(158,202,225)\"],[0.5,\"rgb(107,174,214)\"],[0.625,\"rgb(66,146,198)\"],[0.75,\"rgb(33,113,181)\"],[0.875,\"rgb(8,81,156)\"],[1.0,\"rgb(8,48,107)\"]],\"line\":{\"color\":\"Grey\",\"width\":0.5},\"showscale\":false},\"mode\":\"markers\",\"name\":\"Feasible Trial\",\"showlegend\":false,\"x\":[24,3,2,7,15,11,8,20,31,23,3,11,32,20,3,27,6,25,23,13,12,24,5,25,2,11,14,10,21,29,11,27,14,31,13,17,20,30,32,9,21,11,23,22,31,30,27,4,12,29,7,5,19,24,22,4,32,26,8,22,30,15,11,7,19,6,23,27,17,23,13,16,2,5,21,18,18,15,27,6,22,19,13,3,16,7,21,17,4,31,16,31,5,4,27,21,10,32,12,25,17,14,11,21,22,4,15,6,4,23,13,32,26,5,3,25,10,2,18,32,16,3,16,16,32,11,30,21,3,32,32,14,27,25,15,9,5,18,29,25,6,14,17,28,17,17,4,6,29,7,7,8,3,29,26,13,16,24,5,10,8,20,4,15,22,20,9,7,14,32,7,19,12,5,6,12,11,25,12,5,4,6,7,13,15,25,13,5,6,29,9,25,5,26,24,9,20,6,2,23],\"y\":[-2.3103640559247993,-2.906414579705588,-3.3554945071958877,-1.0175242099148512,-1.573749748791981,-1.813887860660849,-2.1903985938359574,-1.1293598897639092,-2.6930731936911685,-2.0909299360155176,-3.152132459971532,-2.1901665390988017,-2.58577039988041,-3.1371975686269673,-1.7140632580852178,-1.851259709541814,-2.670488115789401,-1.3774319962068908,-2.5147875839664926,-0.6643341589247033,-0.5280159844775779,-2.3539281317936895,-2.446268157422711,-2.1429652583787435,-0.5828421977744994,-2.18272209855282,-2.5835364217814987,-1.0129146852035507,-2.8929746898269606,-2.2253821496748127,-0.6267637038753142,-2.883950918780766,-1.359027784444915,-1.8430752496846714,-3.35120988364364,-1.5744708619605006,-2.193134743847743,-1.5824928961187292,-1.6289134651220045,-2.512483401043687,-2.228259188335444,-1.0175800585339576,-0.9557997416398706,-1.1786645991154217,-1.4088407555011098,-3.020021425534875,-2.225586352437637,-3.0205407054206965,-1.8085619892466454,-2.5839196619396367,-3.0176384183319036,-2.39630917897774,-2.43754862948081,-1.4618342007848129,-2.8864409707168814,-1.8126314335681655,-1.9989650953868197,-2.188295676304485,-2.512550957794729,-1.1770931305423438,-1.8816787292253134,-3.21419950324322,-1.9206662024586634,-2.22687127641763,-0.836517643184318,-2.1885992251320854,-2.447246812217924,-2.6743598911707034,-2.1891145309111506,-2.669921828484849,-0.6635216010334904,-2.2248062520320206,-0.2683468401226078,-2.188264258351193,-0.8579725934785569,-2.3416692428075647,-1.6905936555480103,-0.6194785124596972,-2.4512749131166336,-1.4602922549877522,-1.51773994149428,-2.3092774612439455,-2.590287300925192,-0.26917956654983677,-0.7411266473641217,-2.0187750203718275,-0.8394808718579745,-2.886145637139836,-2.3498937381255405,-2.24899482199894,-2.2290591170107783,-3.018570168805062,-0.25149358249236387,-1.7138078574802456,-1.6846268468058707,-3.033636449467095,-1.0177351233598837,-2.0564820855114063,-3.1412018842417635,-2.5850184290083438,-2.7954353049185814,-0.5265367209193113,-3.244042115614937,-2.08319105699395,-2.5789237798634024,-2.143401343947513,-3.0169251646782613,-2.583676494537868,-2.4478638484502055,-0.9652296588328081,-1.8244258624235492,-2.585393216910139,-2.2279256884007514,-2.1453853090502917,-0.6029332607185515,-2.2601111073789637,-2.8933147244913964,-3.335343495634837,-3.331281148725567,-2.180893275513612,-2.349138367864823,-1.4616602437082933,-2.3093191596480245,-1.8252880687289132,-3.3565428613298978,-2.7738210063143405,-2.772486343786672,-2.0118404527960916,-0.20811933698157475,-1.4550518586360859,-2.780589054576639,-1.464731555683009,-3.3441734186875083,-3.248216874015752,-0.8680231644643486,-2.3956754150209165,-2.3946183652301656,-2.8937692463901774,-1.9570384071953424,-2.3097055278715612,-0.28374237853215967,-2.0218869219733593,-2.671172232191421,-3.252113182374271,-1.4654890935190679,-1.6933282459422359,-0.8054033538415432,-2.352809362796165,-2.1398416517916052,-0.34301592906171924,-0.418651061535971,-1.830313821839636,-2.677349472872643,-3.1363446903268635,-2.5157705220790634,-2.1394557615359715,-2.51186189418927,-3.0114604689750015,-2.0861248169877222,-1.92772598765491,-1.7221282458214275,-2.393716721566958,-2.2256197997185674,-0.8661219397416225,-2.2635990481193877,-1.3888996602908388,-1.011174175917266,-3.0243531482384673,-3.343713421133274,-2.9093687279862595,-2.395791718696529,-1.4765326106416057,-2.016000156037311,-2.310530296739118,-2.1479421366512277,-0.8188576398040484,-2.6912033452552557,-2.3064309086546038,-3.146321387710551,-2.5088843786817416,-2.510112709130332,-2.6745195551011016,-2.7808819748283224,-3.0169262351041946,-1.9265890134841546,-2.191291271871466,-2.2238034562726856,-3.24425770810519,-2.670249341458066,-2.6711938374793096,-2.516403458586775,-3.015179631172288,-2.8853942758092437,-1.1966066474575234,-2.3496288172826008,-1.8121920322956608,-1.9265845549312655,-2.2667562033530517,-2.8956313450519473,-3.136322229433565],\"type\":\"scatter\",\"xaxis\":\"x2\",\"yaxis\":\"y2\"},{\"marker\":{\"color\":[3,4,5,6,7,8,9,10,11,12,13,14,15,16,17,18,19,20,21,22,23,24,25,26,27,28,29,30,31,32,33,34,35,36,37,38,39,40,41,42,43,44,45,46,47,48,49,50,51,52,53,54,55,56,57,58,59,60,61,62,63,64,65,66,67,68,69,70,71,72,73,74,75,76,77,78,79,80,81,82,83,84,85,86,87,88,89,90,91,92,93,94,95,96,97,98,99,100,101,102,103,104,105,106,107,108,109,110,111,112,113,114,115,116,117,118,119,120,121,122,123,124,125,126,127,128,129,130,131,132,133,134,135,136,137,138,139,140,141,142,143,144,145,146,147,148,149,150,151,152,153,154,155,156,157,158,159,160,161,162,163,164,165,166,167,168,169,170,171,172,173,174,175,176,177,178,179,180,181,182,183,184,185,186,187,188,189,190,191,192,193,194,195,196,197,198,199,200,201,202],\"colorbar\":{\"title\":{\"text\":\"Trial\"},\"x\":1.0,\"xpad\":40},\"colorscale\":[[0.0,\"rgb(247,251,255)\"],[0.125,\"rgb(222,235,247)\"],[0.25,\"rgb(198,219,239)\"],[0.375,\"rgb(158,202,225)\"],[0.5,\"rgb(107,174,214)\"],[0.625,\"rgb(66,146,198)\"],[0.75,\"rgb(33,113,181)\"],[0.875,\"rgb(8,81,156)\"],[1.0,\"rgb(8,48,107)\"]],\"line\":{\"color\":\"Grey\",\"width\":0.5},\"showscale\":false},\"mode\":\"markers\",\"name\":\"Feasible Trial\",\"showlegend\":false,\"x\":[20,28,32,6,10,12,17,6,26,15,30,17,25,30,11,12,26,7,24,4,3,21,23,16,4,17,25,6,28,18,4,28,8,11,32,10,17,8,8,24,18,6,1,6,5,29,18,29,12,25,29,22,23,8,28,12,13,17,24,6,12,31,13,18,4,17,23,26,17,26,4,18,2,17,3,21,11,3,23,9,9,20,25,2,4,14,2,28,21,19,18,29,1,11,10,29,6,14,30,25,27,1,31,15,25,16,29,25,23,3,12,25,18,16,4,19,28,32,32,17,21,9,20,12,32,27,27,14,1,5,27,9,32,31,5,22,22,28,13,20,1,14,26,31,9,11,5,21,16,2,3,12,26,30,24,16,24,29,15,13,11,22,18,5,19,8,6,29,32,28,22,9,14,20,16,5,26,20,30,24,24,26,27,29,13,17,18,31,26,26,24,29,28,5,21,12,13,19,28,30],\"y\":[-2.3103640559247993,-2.906414579705588,-3.3554945071958877,-1.0175242099148512,-1.573749748791981,-1.813887860660849,-2.1903985938359574,-1.1293598897639092,-2.6930731936911685,-2.0909299360155176,-3.152132459971532,-2.1901665390988017,-2.58577039988041,-3.1371975686269673,-1.7140632580852178,-1.851259709541814,-2.670488115789401,-1.3774319962068908,-2.5147875839664926,-0.6643341589247033,-0.5280159844775779,-2.3539281317936895,-2.446268157422711,-2.1429652583787435,-0.5828421977744994,-2.18272209855282,-2.5835364217814987,-1.0129146852035507,-2.8929746898269606,-2.2253821496748127,-0.6267637038753142,-2.883950918780766,-1.359027784444915,-1.8430752496846714,-3.35120988364364,-1.5744708619605006,-2.193134743847743,-1.5824928961187292,-1.6289134651220045,-2.512483401043687,-2.228259188335444,-1.0175800585339576,-0.9557997416398706,-1.1786645991154217,-1.4088407555011098,-3.020021425534875,-2.225586352437637,-3.0205407054206965,-1.8085619892466454,-2.5839196619396367,-3.0176384183319036,-2.39630917897774,-2.43754862948081,-1.4618342007848129,-2.8864409707168814,-1.8126314335681655,-1.9989650953868197,-2.188295676304485,-2.512550957794729,-1.1770931305423438,-1.8816787292253134,-3.21419950324322,-1.9206662024586634,-2.22687127641763,-0.836517643184318,-2.1885992251320854,-2.447246812217924,-2.6743598911707034,-2.1891145309111506,-2.669921828484849,-0.6635216010334904,-2.2248062520320206,-0.2683468401226078,-2.188264258351193,-0.8579725934785569,-2.3416692428075647,-1.6905936555480103,-0.6194785124596972,-2.4512749131166336,-1.4602922549877522,-1.51773994149428,-2.3092774612439455,-2.590287300925192,-0.26917956654983677,-0.7411266473641217,-2.0187750203718275,-0.8394808718579745,-2.886145637139836,-2.3498937381255405,-2.24899482199894,-2.2290591170107783,-3.018570168805062,-0.25149358249236387,-1.7138078574802456,-1.6846268468058707,-3.033636449467095,-1.0177351233598837,-2.0564820855114063,-3.1412018842417635,-2.5850184290083438,-2.7954353049185814,-0.5265367209193113,-3.244042115614937,-2.08319105699395,-2.5789237798634024,-2.143401343947513,-3.0169251646782613,-2.583676494537868,-2.4478638484502055,-0.9652296588328081,-1.8244258624235492,-2.585393216910139,-2.2279256884007514,-2.1453853090502917,-0.6029332607185515,-2.2601111073789637,-2.8933147244913964,-3.335343495634837,-3.331281148725567,-2.180893275513612,-2.349138367864823,-1.4616602437082933,-2.3093191596480245,-1.8252880687289132,-3.3565428613298978,-2.7738210063143405,-2.772486343786672,-2.0118404527960916,-0.20811933698157475,-1.4550518586360859,-2.780589054576639,-1.464731555683009,-3.3441734186875083,-3.248216874015752,-0.8680231644643486,-2.3956754150209165,-2.3946183652301656,-2.8937692463901774,-1.9570384071953424,-2.3097055278715612,-0.28374237853215967,-2.0218869219733593,-2.671172232191421,-3.252113182374271,-1.4654890935190679,-1.6933282459422359,-0.8054033538415432,-2.352809362796165,-2.1398416517916052,-0.34301592906171924,-0.418651061535971,-1.830313821839636,-2.677349472872643,-3.1363446903268635,-2.5157705220790634,-2.1394557615359715,-2.51186189418927,-3.0114604689750015,-2.0861248169877222,-1.92772598765491,-1.7221282458214275,-2.393716721566958,-2.2256197997185674,-0.8661219397416225,-2.2635990481193877,-1.3888996602908388,-1.011174175917266,-3.0243531482384673,-3.343713421133274,-2.9093687279862595,-2.395791718696529,-1.4765326106416057,-2.016000156037311,-2.310530296739118,-2.1479421366512277,-0.8188576398040484,-2.6912033452552557,-2.3064309086546038,-3.146321387710551,-2.5088843786817416,-2.510112709130332,-2.6745195551011016,-2.7808819748283224,-3.0169262351041946,-1.9265890134841546,-2.191291271871466,-2.2238034562726856,-3.24425770810519,-2.670249341458066,-2.6711938374793096,-2.516403458586775,-3.015179631172288,-2.8853942758092437,-1.1966066474575234,-2.3496288172826008,-1.8121920322956608,-1.9265845549312655,-2.2667562033530517,-2.8956313450519473,-3.136322229433565],\"type\":\"scatter\",\"xaxis\":\"x3\",\"yaxis\":\"y3\"},{\"marker\":{\"color\":[3,4,5,6,7,8,9,10,11,12,13,14,15,16,17,18,19,20,21,22,23,24,25,26,27,28,29,30,31,32,33,34,35,36,37,38,39,40,41,42,43,44,45,46,47,48,49,50,51,52,53,54,55,56,57,58,59,60,61,62,63,64,65,66,67,68,69,70,71,72,73,74,75,76,77,78,79,80,81,82,83,84,85,86,87,88,89,90,91,92,93,94,95,96,97,98,99,100,101,102,103,104,105,106,107,108,109,110,111,112,113,114,115,116,117,118,119,120,121,122,123,124,125,126,127,128,129,130,131,132,133,134,135,136,137,138,139,140,141,142,143,144,145,146,147,148,149,150,151,152,153,154,155,156,157,158,159,160,161,162,163,164,165,166,167,168,169,170,171,172,173,174,175,176,177,178,179,180,181,182,183,184,185,186,187,188,189,190,191,192,193,194,195,196,197,198,199,200,201,202],\"colorbar\":{\"title\":{\"text\":\"Trial\"},\"x\":1.0,\"xpad\":40},\"colorscale\":[[0.0,\"rgb(247,251,255)\"],[0.125,\"rgb(222,235,247)\"],[0.25,\"rgb(198,219,239)\"],[0.375,\"rgb(158,202,225)\"],[0.5,\"rgb(107,174,214)\"],[0.625,\"rgb(66,146,198)\"],[0.75,\"rgb(33,113,181)\"],[0.875,\"rgb(8,81,156)\"],[1.0,\"rgb(8,48,107)\"]],\"line\":{\"color\":\"Grey\",\"width\":0.5},\"showscale\":false},\"mode\":\"markers\",\"name\":\"Feasible Trial\",\"showlegend\":false,\"x\":[437,240,641,850,374,651,510,633,158,374,209,333,592,946,179,450,353,167,104,794,877,380,899,785,570,128,917,306,937,824,827,305,106,207,567,967,356,146,230,705,431,181,136,561,722,407,332,577,911,754,678,646,104,687,393,692,338,903,619,352,947,113,968,866,943,654,890,423,881,819,901,621,358,841,793,146,754,816,122,468,594,960,478,112,870,542,459,437,693,123,449,948,276,185,861,206,762,776,435,873,192,388,915,956,364,813,151,416,657,165,176,832,439,482,110,205,966,301,138,166,667,626,956,349,625,729,716,955,940,439,635,855,150,997,865,959,656,568,597,220,734,415,914,457,232,513,670,215,263,701,252,208,553,665,155,266,657,133,561,579,118,207,811,628,355,420,191,268,172,200,836,937,793,557,360,579,157,329,524,848,945,617,281,699,453,516,309,916,665,658,236,130,408,214,306,725,263,516,555,939],\"y\":[-2.3103640559247993,-2.906414579705588,-3.3554945071958877,-1.0175242099148512,-1.573749748791981,-1.813887860660849,-2.1903985938359574,-1.1293598897639092,-2.6930731936911685,-2.0909299360155176,-3.152132459971532,-2.1901665390988017,-2.58577039988041,-3.1371975686269673,-1.7140632580852178,-1.851259709541814,-2.670488115789401,-1.3774319962068908,-2.5147875839664926,-0.6643341589247033,-0.5280159844775779,-2.3539281317936895,-2.446268157422711,-2.1429652583787435,-0.5828421977744994,-2.18272209855282,-2.5835364217814987,-1.0129146852035507,-2.8929746898269606,-2.2253821496748127,-0.6267637038753142,-2.883950918780766,-1.359027784444915,-1.8430752496846714,-3.35120988364364,-1.5744708619605006,-2.193134743847743,-1.5824928961187292,-1.6289134651220045,-2.512483401043687,-2.228259188335444,-1.0175800585339576,-0.9557997416398706,-1.1786645991154217,-1.4088407555011098,-3.020021425534875,-2.225586352437637,-3.0205407054206965,-1.8085619892466454,-2.5839196619396367,-3.0176384183319036,-2.39630917897774,-2.43754862948081,-1.4618342007848129,-2.8864409707168814,-1.8126314335681655,-1.9989650953868197,-2.188295676304485,-2.512550957794729,-1.1770931305423438,-1.8816787292253134,-3.21419950324322,-1.9206662024586634,-2.22687127641763,-0.836517643184318,-2.1885992251320854,-2.447246812217924,-2.6743598911707034,-2.1891145309111506,-2.669921828484849,-0.6635216010334904,-2.2248062520320206,-0.2683468401226078,-2.188264258351193,-0.8579725934785569,-2.3416692428075647,-1.6905936555480103,-0.6194785124596972,-2.4512749131166336,-1.4602922549877522,-1.51773994149428,-2.3092774612439455,-2.590287300925192,-0.26917956654983677,-0.7411266473641217,-2.0187750203718275,-0.8394808718579745,-2.886145637139836,-2.3498937381255405,-2.24899482199894,-2.2290591170107783,-3.018570168805062,-0.25149358249236387,-1.7138078574802456,-1.6846268468058707,-3.033636449467095,-1.0177351233598837,-2.0564820855114063,-3.1412018842417635,-2.5850184290083438,-2.7954353049185814,-0.5265367209193113,-3.244042115614937,-2.08319105699395,-2.5789237798634024,-2.143401343947513,-3.0169251646782613,-2.583676494537868,-2.4478638484502055,-0.9652296588328081,-1.8244258624235492,-2.585393216910139,-2.2279256884007514,-2.1453853090502917,-0.6029332607185515,-2.2601111073789637,-2.8933147244913964,-3.335343495634837,-3.331281148725567,-2.180893275513612,-2.349138367864823,-1.4616602437082933,-2.3093191596480245,-1.8252880687289132,-3.3565428613298978,-2.7738210063143405,-2.772486343786672,-2.0118404527960916,-0.20811933698157475,-1.4550518586360859,-2.780589054576639,-1.464731555683009,-3.3441734186875083,-3.248216874015752,-0.8680231644643486,-2.3956754150209165,-2.3946183652301656,-2.8937692463901774,-1.9570384071953424,-2.3097055278715612,-0.28374237853215967,-2.0218869219733593,-2.671172232191421,-3.252113182374271,-1.4654890935190679,-1.6933282459422359,-0.8054033538415432,-2.352809362796165,-2.1398416517916052,-0.34301592906171924,-0.418651061535971,-1.830313821839636,-2.677349472872643,-3.1363446903268635,-2.5157705220790634,-2.1394557615359715,-2.51186189418927,-3.0114604689750015,-2.0861248169877222,-1.92772598765491,-1.7221282458214275,-2.393716721566958,-2.2256197997185674,-0.8661219397416225,-2.2635990481193877,-1.3888996602908388,-1.011174175917266,-3.0243531482384673,-3.343713421133274,-2.9093687279862595,-2.395791718696529,-1.4765326106416057,-2.016000156037311,-2.310530296739118,-2.1479421366512277,-0.8188576398040484,-2.6912033452552557,-2.3064309086546038,-3.146321387710551,-2.5088843786817416,-2.510112709130332,-2.6745195551011016,-2.7808819748283224,-3.0169262351041946,-1.9265890134841546,-2.191291271871466,-2.2238034562726856,-3.24425770810519,-2.670249341458066,-2.6711938374793096,-2.516403458586775,-3.015179631172288,-2.8853942758092437,-1.1966066474575234,-2.3496288172826008,-1.8121920322956608,-1.9265845549312655,-2.2667562033530517,-2.8956313450519473,-3.136322229433565],\"type\":\"scatter\",\"xaxis\":\"x4\",\"yaxis\":\"y4\"}],                        {\"template\":{\"data\":{\"histogram2dcontour\":[{\"type\":\"histogram2dcontour\",\"colorbar\":{\"outlinewidth\":0,\"ticks\":\"\"},\"colorscale\":[[0.0,\"#0d0887\"],[0.1111111111111111,\"#46039f\"],[0.2222222222222222,\"#7201a8\"],[0.3333333333333333,\"#9c179e\"],[0.4444444444444444,\"#bd3786\"],[0.5555555555555556,\"#d8576b\"],[0.6666666666666666,\"#ed7953\"],[0.7777777777777778,\"#fb9f3a\"],[0.8888888888888888,\"#fdca26\"],[1.0,\"#f0f921\"]]}],\"choropleth\":[{\"type\":\"choropleth\",\"colorbar\":{\"outlinewidth\":0,\"ticks\":\"\"}}],\"histogram2d\":[{\"type\":\"histogram2d\",\"colorbar\":{\"outlinewidth\":0,\"ticks\":\"\"},\"colorscale\":[[0.0,\"#0d0887\"],[0.1111111111111111,\"#46039f\"],[0.2222222222222222,\"#7201a8\"],[0.3333333333333333,\"#9c179e\"],[0.4444444444444444,\"#bd3786\"],[0.5555555555555556,\"#d8576b\"],[0.6666666666666666,\"#ed7953\"],[0.7777777777777778,\"#fb9f3a\"],[0.8888888888888888,\"#fdca26\"],[1.0,\"#f0f921\"]]}],\"heatmap\":[{\"type\":\"heatmap\",\"colorbar\":{\"outlinewidth\":0,\"ticks\":\"\"},\"colorscale\":[[0.0,\"#0d0887\"],[0.1111111111111111,\"#46039f\"],[0.2222222222222222,\"#7201a8\"],[0.3333333333333333,\"#9c179e\"],[0.4444444444444444,\"#bd3786\"],[0.5555555555555556,\"#d8576b\"],[0.6666666666666666,\"#ed7953\"],[0.7777777777777778,\"#fb9f3a\"],[0.8888888888888888,\"#fdca26\"],[1.0,\"#f0f921\"]]}],\"heatmapgl\":[{\"type\":\"heatmapgl\",\"colorbar\":{\"outlinewidth\":0,\"ticks\":\"\"},\"colorscale\":[[0.0,\"#0d0887\"],[0.1111111111111111,\"#46039f\"],[0.2222222222222222,\"#7201a8\"],[0.3333333333333333,\"#9c179e\"],[0.4444444444444444,\"#bd3786\"],[0.5555555555555556,\"#d8576b\"],[0.6666666666666666,\"#ed7953\"],[0.7777777777777778,\"#fb9f3a\"],[0.8888888888888888,\"#fdca26\"],[1.0,\"#f0f921\"]]}],\"contourcarpet\":[{\"type\":\"contourcarpet\",\"colorbar\":{\"outlinewidth\":0,\"ticks\":\"\"}}],\"contour\":[{\"type\":\"contour\",\"colorbar\":{\"outlinewidth\":0,\"ticks\":\"\"},\"colorscale\":[[0.0,\"#0d0887\"],[0.1111111111111111,\"#46039f\"],[0.2222222222222222,\"#7201a8\"],[0.3333333333333333,\"#9c179e\"],[0.4444444444444444,\"#bd3786\"],[0.5555555555555556,\"#d8576b\"],[0.6666666666666666,\"#ed7953\"],[0.7777777777777778,\"#fb9f3a\"],[0.8888888888888888,\"#fdca26\"],[1.0,\"#f0f921\"]]}],\"surface\":[{\"type\":\"surface\",\"colorbar\":{\"outlinewidth\":0,\"ticks\":\"\"},\"colorscale\":[[0.0,\"#0d0887\"],[0.1111111111111111,\"#46039f\"],[0.2222222222222222,\"#7201a8\"],[0.3333333333333333,\"#9c179e\"],[0.4444444444444444,\"#bd3786\"],[0.5555555555555556,\"#d8576b\"],[0.6666666666666666,\"#ed7953\"],[0.7777777777777778,\"#fb9f3a\"],[0.8888888888888888,\"#fdca26\"],[1.0,\"#f0f921\"]]}],\"mesh3d\":[{\"type\":\"mesh3d\",\"colorbar\":{\"outlinewidth\":0,\"ticks\":\"\"}}],\"scatter\":[{\"fillpattern\":{\"fillmode\":\"overlay\",\"size\":10,\"solidity\":0.2},\"type\":\"scatter\"}],\"parcoords\":[{\"type\":\"parcoords\",\"line\":{\"colorbar\":{\"outlinewidth\":0,\"ticks\":\"\"}}}],\"scatterpolargl\":[{\"type\":\"scatterpolargl\",\"marker\":{\"colorbar\":{\"outlinewidth\":0,\"ticks\":\"\"}}}],\"bar\":[{\"error_x\":{\"color\":\"#2a3f5f\"},\"error_y\":{\"color\":\"#2a3f5f\"},\"marker\":{\"line\":{\"color\":\"#E5ECF6\",\"width\":0.5},\"pattern\":{\"fillmode\":\"overlay\",\"size\":10,\"solidity\":0.2}},\"type\":\"bar\"}],\"scattergeo\":[{\"type\":\"scattergeo\",\"marker\":{\"colorbar\":{\"outlinewidth\":0,\"ticks\":\"\"}}}],\"scatterpolar\":[{\"type\":\"scatterpolar\",\"marker\":{\"colorbar\":{\"outlinewidth\":0,\"ticks\":\"\"}}}],\"histogram\":[{\"marker\":{\"pattern\":{\"fillmode\":\"overlay\",\"size\":10,\"solidity\":0.2}},\"type\":\"histogram\"}],\"scattergl\":[{\"type\":\"scattergl\",\"marker\":{\"colorbar\":{\"outlinewidth\":0,\"ticks\":\"\"}}}],\"scatter3d\":[{\"type\":\"scatter3d\",\"line\":{\"colorbar\":{\"outlinewidth\":0,\"ticks\":\"\"}},\"marker\":{\"colorbar\":{\"outlinewidth\":0,\"ticks\":\"\"}}}],\"scattermapbox\":[{\"type\":\"scattermapbox\",\"marker\":{\"colorbar\":{\"outlinewidth\":0,\"ticks\":\"\"}}}],\"scatterternary\":[{\"type\":\"scatterternary\",\"marker\":{\"colorbar\":{\"outlinewidth\":0,\"ticks\":\"\"}}}],\"scattercarpet\":[{\"type\":\"scattercarpet\",\"marker\":{\"colorbar\":{\"outlinewidth\":0,\"ticks\":\"\"}}}],\"carpet\":[{\"aaxis\":{\"endlinecolor\":\"#2a3f5f\",\"gridcolor\":\"white\",\"linecolor\":\"white\",\"minorgridcolor\":\"white\",\"startlinecolor\":\"#2a3f5f\"},\"baxis\":{\"endlinecolor\":\"#2a3f5f\",\"gridcolor\":\"white\",\"linecolor\":\"white\",\"minorgridcolor\":\"white\",\"startlinecolor\":\"#2a3f5f\"},\"type\":\"carpet\"}],\"table\":[{\"cells\":{\"fill\":{\"color\":\"#EBF0F8\"},\"line\":{\"color\":\"white\"}},\"header\":{\"fill\":{\"color\":\"#C8D4E3\"},\"line\":{\"color\":\"white\"}},\"type\":\"table\"}],\"barpolar\":[{\"marker\":{\"line\":{\"color\":\"#E5ECF6\",\"width\":0.5},\"pattern\":{\"fillmode\":\"overlay\",\"size\":10,\"solidity\":0.2}},\"type\":\"barpolar\"}],\"pie\":[{\"automargin\":true,\"type\":\"pie\"}]},\"layout\":{\"autotypenumbers\":\"strict\",\"colorway\":[\"#636efa\",\"#EF553B\",\"#00cc96\",\"#ab63fa\",\"#FFA15A\",\"#19d3f3\",\"#FF6692\",\"#B6E880\",\"#FF97FF\",\"#FECB52\"],\"font\":{\"color\":\"#2a3f5f\"},\"hovermode\":\"closest\",\"hoverlabel\":{\"align\":\"left\"},\"paper_bgcolor\":\"white\",\"plot_bgcolor\":\"#E5ECF6\",\"polar\":{\"bgcolor\":\"#E5ECF6\",\"angularaxis\":{\"gridcolor\":\"white\",\"linecolor\":\"white\",\"ticks\":\"\"},\"radialaxis\":{\"gridcolor\":\"white\",\"linecolor\":\"white\",\"ticks\":\"\"}},\"ternary\":{\"bgcolor\":\"#E5ECF6\",\"aaxis\":{\"gridcolor\":\"white\",\"linecolor\":\"white\",\"ticks\":\"\"},\"baxis\":{\"gridcolor\":\"white\",\"linecolor\":\"white\",\"ticks\":\"\"},\"caxis\":{\"gridcolor\":\"white\",\"linecolor\":\"white\",\"ticks\":\"\"}},\"coloraxis\":{\"colorbar\":{\"outlinewidth\":0,\"ticks\":\"\"}},\"colorscale\":{\"sequential\":[[0.0,\"#0d0887\"],[0.1111111111111111,\"#46039f\"],[0.2222222222222222,\"#7201a8\"],[0.3333333333333333,\"#9c179e\"],[0.4444444444444444,\"#bd3786\"],[0.5555555555555556,\"#d8576b\"],[0.6666666666666666,\"#ed7953\"],[0.7777777777777778,\"#fb9f3a\"],[0.8888888888888888,\"#fdca26\"],[1.0,\"#f0f921\"]],\"sequentialminus\":[[0.0,\"#0d0887\"],[0.1111111111111111,\"#46039f\"],[0.2222222222222222,\"#7201a8\"],[0.3333333333333333,\"#9c179e\"],[0.4444444444444444,\"#bd3786\"],[0.5555555555555556,\"#d8576b\"],[0.6666666666666666,\"#ed7953\"],[0.7777777777777778,\"#fb9f3a\"],[0.8888888888888888,\"#fdca26\"],[1.0,\"#f0f921\"]],\"diverging\":[[0,\"#8e0152\"],[0.1,\"#c51b7d\"],[0.2,\"#de77ae\"],[0.3,\"#f1b6da\"],[0.4,\"#fde0ef\"],[0.5,\"#f7f7f7\"],[0.6,\"#e6f5d0\"],[0.7,\"#b8e186\"],[0.8,\"#7fbc41\"],[0.9,\"#4d9221\"],[1,\"#276419\"]]},\"xaxis\":{\"gridcolor\":\"white\",\"linecolor\":\"white\",\"ticks\":\"\",\"title\":{\"standoff\":15},\"zerolinecolor\":\"white\",\"automargin\":true,\"zerolinewidth\":2},\"yaxis\":{\"gridcolor\":\"white\",\"linecolor\":\"white\",\"ticks\":\"\",\"title\":{\"standoff\":15},\"zerolinecolor\":\"white\",\"automargin\":true,\"zerolinewidth\":2},\"scene\":{\"xaxis\":{\"backgroundcolor\":\"#E5ECF6\",\"gridcolor\":\"white\",\"linecolor\":\"white\",\"showbackground\":true,\"ticks\":\"\",\"zerolinecolor\":\"white\",\"gridwidth\":2},\"yaxis\":{\"backgroundcolor\":\"#E5ECF6\",\"gridcolor\":\"white\",\"linecolor\":\"white\",\"showbackground\":true,\"ticks\":\"\",\"zerolinecolor\":\"white\",\"gridwidth\":2},\"zaxis\":{\"backgroundcolor\":\"#E5ECF6\",\"gridcolor\":\"white\",\"linecolor\":\"white\",\"showbackground\":true,\"ticks\":\"\",\"zerolinecolor\":\"white\",\"gridwidth\":2}},\"shapedefaults\":{\"line\":{\"color\":\"#2a3f5f\"}},\"annotationdefaults\":{\"arrowcolor\":\"#2a3f5f\",\"arrowhead\":0,\"arrowwidth\":1},\"geo\":{\"bgcolor\":\"white\",\"landcolor\":\"#E5ECF6\",\"subunitcolor\":\"white\",\"showland\":true,\"showlakes\":true,\"lakecolor\":\"white\"},\"title\":{\"x\":0.05},\"mapbox\":{\"style\":\"light\"}}},\"xaxis\":{\"anchor\":\"y\",\"domain\":[0.0,0.2125],\"title\":{\"text\":\"max_depth\"}},\"yaxis\":{\"anchor\":\"x\",\"domain\":[0.0,1.0],\"title\":{\"text\":\"Objective Value\"}},\"xaxis2\":{\"anchor\":\"y2\",\"domain\":[0.2625,0.475],\"title\":{\"text\":\"min_samples_split\"}},\"yaxis2\":{\"anchor\":\"x2\",\"domain\":[0.0,1.0],\"matches\":\"y\",\"showticklabels\":false},\"xaxis3\":{\"anchor\":\"y3\",\"domain\":[0.525,0.7375],\"title\":{\"text\":\"min_smaples_leaf\"}},\"yaxis3\":{\"anchor\":\"x3\",\"domain\":[0.0,1.0],\"matches\":\"y\",\"showticklabels\":false},\"xaxis4\":{\"anchor\":\"y4\",\"domain\":[0.7875,1.0],\"title\":{\"text\":\"n_estimators\"}},\"yaxis4\":{\"anchor\":\"x4\",\"domain\":[0.0,1.0],\"matches\":\"y\",\"showticklabels\":false},\"title\":{\"text\":\"Slice Plot\"},\"width\":1200},                        {\"responsive\": true}                    ).then(function(){\n",
              "                            \n",
              "var gd = document.getElementById('f15900c6-7f92-4bbb-a1e2-6032d5a157d2');\n",
              "var x = new MutationObserver(function (mutations, observer) {{\n",
              "        var display = window.getComputedStyle(gd).display;\n",
              "        if (!display || display === 'none') {{\n",
              "            console.log([gd, 'removed!']);\n",
              "            Plotly.purge(gd);\n",
              "            observer.disconnect();\n",
              "        }}\n",
              "}});\n",
              "\n",
              "// Listen for the removal of the full notebook cells\n",
              "var notebookContainer = gd.closest('#notebook-container');\n",
              "if (notebookContainer) {{\n",
              "    x.observe(notebookContainer, {childList: true});\n",
              "}}\n",
              "\n",
              "// Listen for the clearing of the current output cell\n",
              "var outputEl = gd.closest('.output');\n",
              "if (outputEl) {{\n",
              "    x.observe(outputEl, {childList: true});\n",
              "}}\n",
              "\n",
              "                        })                };                            </script>        </div>\n",
              "</body>\n",
              "</html>"
            ]
          },
          "metadata": {}
        }
      ]
    },
    {
      "cell_type": "code",
      "source": [
        "optuna.visualization.plot_param_importances(study)"
      ],
      "metadata": {
        "id": "s4lrjNDv7zl8",
        "colab": {
          "base_uri": "https://localhost:8080/",
          "height": 542
        },
        "outputId": "747a5e6b-6c50-4e5b-a61b-b817a00fcbc4"
      },
      "execution_count": 42,
      "outputs": [
        {
          "output_type": "display_data",
          "data": {
            "text/html": [
              "<html>\n",
              "<head><meta charset=\"utf-8\" /></head>\n",
              "<body>\n",
              "    <div>            <script src=\"https://cdnjs.cloudflare.com/ajax/libs/mathjax/2.7.5/MathJax.js?config=TeX-AMS-MML_SVG\"></script><script type=\"text/javascript\">if (window.MathJax && window.MathJax.Hub && window.MathJax.Hub.Config) {window.MathJax.Hub.Config({SVG: {font: \"STIX-Web\"}});}</script>                <script type=\"text/javascript\">window.PlotlyConfig = {MathJaxConfig: 'local'};</script>\n",
              "        <script charset=\"utf-8\" src=\"https://cdn.plot.ly/plotly-2.24.1.min.js\"></script>                <div id=\"a4ebe8de-8b10-430d-8e89-805834067ab2\" class=\"plotly-graph-div\" style=\"height:525px; width:100%;\"></div>            <script type=\"text/javascript\">                                    window.PLOTLYENV=window.PLOTLYENV || {};                                    if (document.getElementById(\"a4ebe8de-8b10-430d-8e89-805834067ab2\")) {                    Plotly.newPlot(                        \"a4ebe8de-8b10-430d-8e89-805834067ab2\",                        [{\"cliponaxis\":false,\"hovertemplate\":[\"max_depth (IntDistribution): 5.075394135109467e-05\\u003cextra\\u003e\\u003c\\u002fextra\\u003e\",\"n_estimators (IntDistribution): 6.313605616878505e-05\\u003cextra\\u003e\\u003c\\u002fextra\\u003e\",\"min_samples_split (IntDistribution): 0.0030049502834069465\\u003cextra\\u003e\\u003c\\u002fextra\\u003e\",\"min_smaples_leaf (IntDistribution): 0.9968811597190732\\u003cextra\\u003e\\u003c\\u002fextra\\u003e\"],\"name\":\"Objective Value\",\"orientation\":\"h\",\"text\":[\"\\u003c0.01\",\"\\u003c0.01\",\"\\u003c0.01\",\"1.00\"],\"textposition\":\"outside\",\"x\":[5.075394135109467e-05,6.313605616878505e-05,0.0030049502834069465,0.9968811597190732],\"y\":[\"max_depth\",\"n_estimators\",\"min_samples_split\",\"min_smaples_leaf\"],\"type\":\"bar\"}],                        {\"title\":{\"text\":\"Hyperparameter Importances\"},\"xaxis\":{\"title\":{\"text\":\"Hyperparameter Importance\"}},\"yaxis\":{\"title\":{\"text\":\"Hyperparameter\"}},\"template\":{\"data\":{\"histogram2dcontour\":[{\"type\":\"histogram2dcontour\",\"colorbar\":{\"outlinewidth\":0,\"ticks\":\"\"},\"colorscale\":[[0.0,\"#0d0887\"],[0.1111111111111111,\"#46039f\"],[0.2222222222222222,\"#7201a8\"],[0.3333333333333333,\"#9c179e\"],[0.4444444444444444,\"#bd3786\"],[0.5555555555555556,\"#d8576b\"],[0.6666666666666666,\"#ed7953\"],[0.7777777777777778,\"#fb9f3a\"],[0.8888888888888888,\"#fdca26\"],[1.0,\"#f0f921\"]]}],\"choropleth\":[{\"type\":\"choropleth\",\"colorbar\":{\"outlinewidth\":0,\"ticks\":\"\"}}],\"histogram2d\":[{\"type\":\"histogram2d\",\"colorbar\":{\"outlinewidth\":0,\"ticks\":\"\"},\"colorscale\":[[0.0,\"#0d0887\"],[0.1111111111111111,\"#46039f\"],[0.2222222222222222,\"#7201a8\"],[0.3333333333333333,\"#9c179e\"],[0.4444444444444444,\"#bd3786\"],[0.5555555555555556,\"#d8576b\"],[0.6666666666666666,\"#ed7953\"],[0.7777777777777778,\"#fb9f3a\"],[0.8888888888888888,\"#fdca26\"],[1.0,\"#f0f921\"]]}],\"heatmap\":[{\"type\":\"heatmap\",\"colorbar\":{\"outlinewidth\":0,\"ticks\":\"\"},\"colorscale\":[[0.0,\"#0d0887\"],[0.1111111111111111,\"#46039f\"],[0.2222222222222222,\"#7201a8\"],[0.3333333333333333,\"#9c179e\"],[0.4444444444444444,\"#bd3786\"],[0.5555555555555556,\"#d8576b\"],[0.6666666666666666,\"#ed7953\"],[0.7777777777777778,\"#fb9f3a\"],[0.8888888888888888,\"#fdca26\"],[1.0,\"#f0f921\"]]}],\"heatmapgl\":[{\"type\":\"heatmapgl\",\"colorbar\":{\"outlinewidth\":0,\"ticks\":\"\"},\"colorscale\":[[0.0,\"#0d0887\"],[0.1111111111111111,\"#46039f\"],[0.2222222222222222,\"#7201a8\"],[0.3333333333333333,\"#9c179e\"],[0.4444444444444444,\"#bd3786\"],[0.5555555555555556,\"#d8576b\"],[0.6666666666666666,\"#ed7953\"],[0.7777777777777778,\"#fb9f3a\"],[0.8888888888888888,\"#fdca26\"],[1.0,\"#f0f921\"]]}],\"contourcarpet\":[{\"type\":\"contourcarpet\",\"colorbar\":{\"outlinewidth\":0,\"ticks\":\"\"}}],\"contour\":[{\"type\":\"contour\",\"colorbar\":{\"outlinewidth\":0,\"ticks\":\"\"},\"colorscale\":[[0.0,\"#0d0887\"],[0.1111111111111111,\"#46039f\"],[0.2222222222222222,\"#7201a8\"],[0.3333333333333333,\"#9c179e\"],[0.4444444444444444,\"#bd3786\"],[0.5555555555555556,\"#d8576b\"],[0.6666666666666666,\"#ed7953\"],[0.7777777777777778,\"#fb9f3a\"],[0.8888888888888888,\"#fdca26\"],[1.0,\"#f0f921\"]]}],\"surface\":[{\"type\":\"surface\",\"colorbar\":{\"outlinewidth\":0,\"ticks\":\"\"},\"colorscale\":[[0.0,\"#0d0887\"],[0.1111111111111111,\"#46039f\"],[0.2222222222222222,\"#7201a8\"],[0.3333333333333333,\"#9c179e\"],[0.4444444444444444,\"#bd3786\"],[0.5555555555555556,\"#d8576b\"],[0.6666666666666666,\"#ed7953\"],[0.7777777777777778,\"#fb9f3a\"],[0.8888888888888888,\"#fdca26\"],[1.0,\"#f0f921\"]]}],\"mesh3d\":[{\"type\":\"mesh3d\",\"colorbar\":{\"outlinewidth\":0,\"ticks\":\"\"}}],\"scatter\":[{\"fillpattern\":{\"fillmode\":\"overlay\",\"size\":10,\"solidity\":0.2},\"type\":\"scatter\"}],\"parcoords\":[{\"type\":\"parcoords\",\"line\":{\"colorbar\":{\"outlinewidth\":0,\"ticks\":\"\"}}}],\"scatterpolargl\":[{\"type\":\"scatterpolargl\",\"marker\":{\"colorbar\":{\"outlinewidth\":0,\"ticks\":\"\"}}}],\"bar\":[{\"error_x\":{\"color\":\"#2a3f5f\"},\"error_y\":{\"color\":\"#2a3f5f\"},\"marker\":{\"line\":{\"color\":\"#E5ECF6\",\"width\":0.5},\"pattern\":{\"fillmode\":\"overlay\",\"size\":10,\"solidity\":0.2}},\"type\":\"bar\"}],\"scattergeo\":[{\"type\":\"scattergeo\",\"marker\":{\"colorbar\":{\"outlinewidth\":0,\"ticks\":\"\"}}}],\"scatterpolar\":[{\"type\":\"scatterpolar\",\"marker\":{\"colorbar\":{\"outlinewidth\":0,\"ticks\":\"\"}}}],\"histogram\":[{\"marker\":{\"pattern\":{\"fillmode\":\"overlay\",\"size\":10,\"solidity\":0.2}},\"type\":\"histogram\"}],\"scattergl\":[{\"type\":\"scattergl\",\"marker\":{\"colorbar\":{\"outlinewidth\":0,\"ticks\":\"\"}}}],\"scatter3d\":[{\"type\":\"scatter3d\",\"line\":{\"colorbar\":{\"outlinewidth\":0,\"ticks\":\"\"}},\"marker\":{\"colorbar\":{\"outlinewidth\":0,\"ticks\":\"\"}}}],\"scattermapbox\":[{\"type\":\"scattermapbox\",\"marker\":{\"colorbar\":{\"outlinewidth\":0,\"ticks\":\"\"}}}],\"scatterternary\":[{\"type\":\"scatterternary\",\"marker\":{\"colorbar\":{\"outlinewidth\":0,\"ticks\":\"\"}}}],\"scattercarpet\":[{\"type\":\"scattercarpet\",\"marker\":{\"colorbar\":{\"outlinewidth\":0,\"ticks\":\"\"}}}],\"carpet\":[{\"aaxis\":{\"endlinecolor\":\"#2a3f5f\",\"gridcolor\":\"white\",\"linecolor\":\"white\",\"minorgridcolor\":\"white\",\"startlinecolor\":\"#2a3f5f\"},\"baxis\":{\"endlinecolor\":\"#2a3f5f\",\"gridcolor\":\"white\",\"linecolor\":\"white\",\"minorgridcolor\":\"white\",\"startlinecolor\":\"#2a3f5f\"},\"type\":\"carpet\"}],\"table\":[{\"cells\":{\"fill\":{\"color\":\"#EBF0F8\"},\"line\":{\"color\":\"white\"}},\"header\":{\"fill\":{\"color\":\"#C8D4E3\"},\"line\":{\"color\":\"white\"}},\"type\":\"table\"}],\"barpolar\":[{\"marker\":{\"line\":{\"color\":\"#E5ECF6\",\"width\":0.5},\"pattern\":{\"fillmode\":\"overlay\",\"size\":10,\"solidity\":0.2}},\"type\":\"barpolar\"}],\"pie\":[{\"automargin\":true,\"type\":\"pie\"}]},\"layout\":{\"autotypenumbers\":\"strict\",\"colorway\":[\"#636efa\",\"#EF553B\",\"#00cc96\",\"#ab63fa\",\"#FFA15A\",\"#19d3f3\",\"#FF6692\",\"#B6E880\",\"#FF97FF\",\"#FECB52\"],\"font\":{\"color\":\"#2a3f5f\"},\"hovermode\":\"closest\",\"hoverlabel\":{\"align\":\"left\"},\"paper_bgcolor\":\"white\",\"plot_bgcolor\":\"#E5ECF6\",\"polar\":{\"bgcolor\":\"#E5ECF6\",\"angularaxis\":{\"gridcolor\":\"white\",\"linecolor\":\"white\",\"ticks\":\"\"},\"radialaxis\":{\"gridcolor\":\"white\",\"linecolor\":\"white\",\"ticks\":\"\"}},\"ternary\":{\"bgcolor\":\"#E5ECF6\",\"aaxis\":{\"gridcolor\":\"white\",\"linecolor\":\"white\",\"ticks\":\"\"},\"baxis\":{\"gridcolor\":\"white\",\"linecolor\":\"white\",\"ticks\":\"\"},\"caxis\":{\"gridcolor\":\"white\",\"linecolor\":\"white\",\"ticks\":\"\"}},\"coloraxis\":{\"colorbar\":{\"outlinewidth\":0,\"ticks\":\"\"}},\"colorscale\":{\"sequential\":[[0.0,\"#0d0887\"],[0.1111111111111111,\"#46039f\"],[0.2222222222222222,\"#7201a8\"],[0.3333333333333333,\"#9c179e\"],[0.4444444444444444,\"#bd3786\"],[0.5555555555555556,\"#d8576b\"],[0.6666666666666666,\"#ed7953\"],[0.7777777777777778,\"#fb9f3a\"],[0.8888888888888888,\"#fdca26\"],[1.0,\"#f0f921\"]],\"sequentialminus\":[[0.0,\"#0d0887\"],[0.1111111111111111,\"#46039f\"],[0.2222222222222222,\"#7201a8\"],[0.3333333333333333,\"#9c179e\"],[0.4444444444444444,\"#bd3786\"],[0.5555555555555556,\"#d8576b\"],[0.6666666666666666,\"#ed7953\"],[0.7777777777777778,\"#fb9f3a\"],[0.8888888888888888,\"#fdca26\"],[1.0,\"#f0f921\"]],\"diverging\":[[0,\"#8e0152\"],[0.1,\"#c51b7d\"],[0.2,\"#de77ae\"],[0.3,\"#f1b6da\"],[0.4,\"#fde0ef\"],[0.5,\"#f7f7f7\"],[0.6,\"#e6f5d0\"],[0.7,\"#b8e186\"],[0.8,\"#7fbc41\"],[0.9,\"#4d9221\"],[1,\"#276419\"]]},\"xaxis\":{\"gridcolor\":\"white\",\"linecolor\":\"white\",\"ticks\":\"\",\"title\":{\"standoff\":15},\"zerolinecolor\":\"white\",\"automargin\":true,\"zerolinewidth\":2},\"yaxis\":{\"gridcolor\":\"white\",\"linecolor\":\"white\",\"ticks\":\"\",\"title\":{\"standoff\":15},\"zerolinecolor\":\"white\",\"automargin\":true,\"zerolinewidth\":2},\"scene\":{\"xaxis\":{\"backgroundcolor\":\"#E5ECF6\",\"gridcolor\":\"white\",\"linecolor\":\"white\",\"showbackground\":true,\"ticks\":\"\",\"zerolinecolor\":\"white\",\"gridwidth\":2},\"yaxis\":{\"backgroundcolor\":\"#E5ECF6\",\"gridcolor\":\"white\",\"linecolor\":\"white\",\"showbackground\":true,\"ticks\":\"\",\"zerolinecolor\":\"white\",\"gridwidth\":2},\"zaxis\":{\"backgroundcolor\":\"#E5ECF6\",\"gridcolor\":\"white\",\"linecolor\":\"white\",\"showbackground\":true,\"ticks\":\"\",\"zerolinecolor\":\"white\",\"gridwidth\":2}},\"shapedefaults\":{\"line\":{\"color\":\"#2a3f5f\"}},\"annotationdefaults\":{\"arrowcolor\":\"#2a3f5f\",\"arrowhead\":0,\"arrowwidth\":1},\"geo\":{\"bgcolor\":\"white\",\"landcolor\":\"#E5ECF6\",\"subunitcolor\":\"white\",\"showland\":true,\"showlakes\":true,\"lakecolor\":\"white\"},\"title\":{\"x\":0.05},\"mapbox\":{\"style\":\"light\"}}}},                        {\"responsive\": true}                    ).then(function(){\n",
              "                            \n",
              "var gd = document.getElementById('a4ebe8de-8b10-430d-8e89-805834067ab2');\n",
              "var x = new MutationObserver(function (mutations, observer) {{\n",
              "        var display = window.getComputedStyle(gd).display;\n",
              "        if (!display || display === 'none') {{\n",
              "            console.log([gd, 'removed!']);\n",
              "            Plotly.purge(gd);\n",
              "            observer.disconnect();\n",
              "        }}\n",
              "}});\n",
              "\n",
              "// Listen for the removal of the full notebook cells\n",
              "var notebookContainer = gd.closest('#notebook-container');\n",
              "if (notebookContainer) {{\n",
              "    x.observe(notebookContainer, {childList: true});\n",
              "}}\n",
              "\n",
              "// Listen for the clearing of the current output cell\n",
              "var outputEl = gd.closest('.output');\n",
              "if (outputEl) {{\n",
              "    x.observe(outputEl, {childList: true});\n",
              "}}\n",
              "\n",
              "                        })                };                            </script>        </div>\n",
              "</body>\n",
              "</html>"
            ]
          },
          "metadata": {}
        }
      ]
    },
    {
      "cell_type": "markdown",
      "source": [
        "## Create a new model"
      ],
      "metadata": {
        "id": "_TJdLGfN876E"
      }
    },
    {
      "cell_type": "code",
      "source": [
        "best_n_estimators=best_params['n_estimators']\n",
        "best_max_depth=best_params['max_depth']\n",
        "best_min_samples_split=best_params['min_samples_split']\n",
        "best_min_samples_leaf=best_params['min_smaples_leaf']"
      ],
      "metadata": {
        "id": "yLFECERC8nPi"
      },
      "execution_count": 45,
      "outputs": []
    },
    {
      "cell_type": "code",
      "source": [
        "best_model=RandomForestRegressor(n_estimators=best_n_estimators,\n",
        "max_depth=best_max_depth,\n",
        "min_samples_split=best_min_samples_split,\n",
        "min_samples_leaf=best_min_samples_leaf)"
      ],
      "metadata": {
        "id": "OaGMLLpF9unu"
      },
      "execution_count": 47,
      "outputs": []
    },
    {
      "cell_type": "code",
      "source": [
        "best_model.fit(X_train,y_train)"
      ],
      "metadata": {
        "id": "1TbujVx2-iLi",
        "colab": {
          "base_uri": "https://localhost:8080/",
          "height": 92
        },
        "outputId": "1e1c7b5e-939e-4616-ad91-2e746e7ed21e"
      },
      "execution_count": 48,
      "outputs": [
        {
          "output_type": "execute_result",
          "data": {
            "text/plain": [
              "RandomForestRegressor(max_depth=13, min_samples_leaf=32, min_samples_split=32,\n",
              "                      n_estimators=625)"
            ],
            "text/html": [
              "<style>#sk-container-id-2 {color: black;background-color: white;}#sk-container-id-2 pre{padding: 0;}#sk-container-id-2 div.sk-toggleable {background-color: white;}#sk-container-id-2 label.sk-toggleable__label {cursor: pointer;display: block;width: 100%;margin-bottom: 0;padding: 0.3em;box-sizing: border-box;text-align: center;}#sk-container-id-2 label.sk-toggleable__label-arrow:before {content: \"▸\";float: left;margin-right: 0.25em;color: #696969;}#sk-container-id-2 label.sk-toggleable__label-arrow:hover:before {color: black;}#sk-container-id-2 div.sk-estimator:hover label.sk-toggleable__label-arrow:before {color: black;}#sk-container-id-2 div.sk-toggleable__content {max-height: 0;max-width: 0;overflow: hidden;text-align: left;background-color: #f0f8ff;}#sk-container-id-2 div.sk-toggleable__content pre {margin: 0.2em;color: black;border-radius: 0.25em;background-color: #f0f8ff;}#sk-container-id-2 input.sk-toggleable__control:checked~div.sk-toggleable__content {max-height: 200px;max-width: 100%;overflow: auto;}#sk-container-id-2 input.sk-toggleable__control:checked~label.sk-toggleable__label-arrow:before {content: \"▾\";}#sk-container-id-2 div.sk-estimator input.sk-toggleable__control:checked~label.sk-toggleable__label {background-color: #d4ebff;}#sk-container-id-2 div.sk-label input.sk-toggleable__control:checked~label.sk-toggleable__label {background-color: #d4ebff;}#sk-container-id-2 input.sk-hidden--visually {border: 0;clip: rect(1px 1px 1px 1px);clip: rect(1px, 1px, 1px, 1px);height: 1px;margin: -1px;overflow: hidden;padding: 0;position: absolute;width: 1px;}#sk-container-id-2 div.sk-estimator {font-family: monospace;background-color: #f0f8ff;border: 1px dotted black;border-radius: 0.25em;box-sizing: border-box;margin-bottom: 0.5em;}#sk-container-id-2 div.sk-estimator:hover {background-color: #d4ebff;}#sk-container-id-2 div.sk-parallel-item::after {content: \"\";width: 100%;border-bottom: 1px solid gray;flex-grow: 1;}#sk-container-id-2 div.sk-label:hover label.sk-toggleable__label {background-color: #d4ebff;}#sk-container-id-2 div.sk-serial::before {content: \"\";position: absolute;border-left: 1px solid gray;box-sizing: border-box;top: 0;bottom: 0;left: 50%;z-index: 0;}#sk-container-id-2 div.sk-serial {display: flex;flex-direction: column;align-items: center;background-color: white;padding-right: 0.2em;padding-left: 0.2em;position: relative;}#sk-container-id-2 div.sk-item {position: relative;z-index: 1;}#sk-container-id-2 div.sk-parallel {display: flex;align-items: stretch;justify-content: center;background-color: white;position: relative;}#sk-container-id-2 div.sk-item::before, #sk-container-id-2 div.sk-parallel-item::before {content: \"\";position: absolute;border-left: 1px solid gray;box-sizing: border-box;top: 0;bottom: 0;left: 50%;z-index: -1;}#sk-container-id-2 div.sk-parallel-item {display: flex;flex-direction: column;z-index: 1;position: relative;background-color: white;}#sk-container-id-2 div.sk-parallel-item:first-child::after {align-self: flex-end;width: 50%;}#sk-container-id-2 div.sk-parallel-item:last-child::after {align-self: flex-start;width: 50%;}#sk-container-id-2 div.sk-parallel-item:only-child::after {width: 0;}#sk-container-id-2 div.sk-dashed-wrapped {border: 1px dashed gray;margin: 0 0.4em 0.5em 0.4em;box-sizing: border-box;padding-bottom: 0.4em;background-color: white;}#sk-container-id-2 div.sk-label label {font-family: monospace;font-weight: bold;display: inline-block;line-height: 1.2em;}#sk-container-id-2 div.sk-label-container {text-align: center;}#sk-container-id-2 div.sk-container {/* jupyter's `normalize.less` sets `[hidden] { display: none; }` but bootstrap.min.css set `[hidden] { display: none !important; }` so we also need the `!important` here to be able to override the default hidden behavior on the sphinx rendered scikit-learn.org. See: https://github.com/scikit-learn/scikit-learn/issues/21755 */display: inline-block !important;position: relative;}#sk-container-id-2 div.sk-text-repr-fallback {display: none;}</style><div id=\"sk-container-id-2\" class=\"sk-top-container\"><div class=\"sk-text-repr-fallback\"><pre>RandomForestRegressor(max_depth=13, min_samples_leaf=32, min_samples_split=32,\n",
              "                      n_estimators=625)</pre><b>In a Jupyter environment, please rerun this cell to show the HTML representation or trust the notebook. <br />On GitHub, the HTML representation is unable to render, please try loading this page with nbviewer.org.</b></div><div class=\"sk-container\" hidden><div class=\"sk-item\"><div class=\"sk-estimator sk-toggleable\"><input class=\"sk-toggleable__control sk-hidden--visually\" id=\"sk-estimator-id-2\" type=\"checkbox\" checked><label for=\"sk-estimator-id-2\" class=\"sk-toggleable__label sk-toggleable__label-arrow\">RandomForestRegressor</label><div class=\"sk-toggleable__content\"><pre>RandomForestRegressor(max_depth=13, min_samples_leaf=32, min_samples_split=32,\n",
              "                      n_estimators=625)</pre></div></div></div></div></div>"
            ]
          },
          "metadata": {},
          "execution_count": 48
        }
      ]
    },
    {
      "cell_type": "code",
      "source": [
        "y_pred=best_model.predict(X_test)"
      ],
      "metadata": {
        "id": "kYhEB7kB_XiU"
      },
      "execution_count": 49,
      "outputs": []
    },
    {
      "cell_type": "code",
      "source": [
        "mean_squared_error(y_test,y_pred)"
      ],
      "metadata": {
        "id": "27azhorp_eiQ",
        "colab": {
          "base_uri": "https://localhost:8080/"
        },
        "outputId": "ea81278e-84b1-442d-a49a-842ab1a51a51"
      },
      "execution_count": 50,
      "outputs": [
        {
          "output_type": "execute_result",
          "data": {
            "text/plain": [
              "2.9561974642137976"
            ]
          },
          "metadata": {},
          "execution_count": 50
        }
      ]
    },
    {
      "cell_type": "code",
      "source": [
        "mean_absolute_error(y_test,y_pred)"
      ],
      "metadata": {
        "id": "dCrfcNZI_eqD",
        "colab": {
          "base_uri": "https://localhost:8080/"
        },
        "outputId": "8c1f6a70-1051-4373-e2a0-63ab7d8781ce"
      },
      "execution_count": 51,
      "outputs": [
        {
          "output_type": "execute_result",
          "data": {
            "text/plain": [
              "1.340928399140877"
            ]
          },
          "metadata": {},
          "execution_count": 51
        }
      ]
    },
    {
      "cell_type": "code",
      "source": [
        "r2_score(y_test,y_pred)"
      ],
      "metadata": {
        "id": "brQjhoQW_tiN",
        "colab": {
          "base_uri": "https://localhost:8080/"
        },
        "outputId": "345b5867-69a5-4816-e43d-80bec3714c80"
      },
      "execution_count": 52,
      "outputs": [
        {
          "output_type": "execute_result",
          "data": {
            "text/plain": [
              "0.6883132932722098"
            ]
          },
          "metadata": {},
          "execution_count": 52
        }
      ]
    },
    {
      "cell_type": "markdown",
      "source": [
        "This is about hyperparameter tuning using Optuna. For more detailed info refer to the blog :-\n",
        "\n",
        "https://medium.com/@ethannabatchian/optimizing-random-forest-models-a-deep-dive-into-hyperparameter-tuning-with-optuna-b8e4fe7f3670"
      ],
      "metadata": {
        "id": "ugPXjA7-AhE5"
      }
    }
  ]
}